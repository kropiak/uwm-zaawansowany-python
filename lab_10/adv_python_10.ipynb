{
 "cells": [
  {
   "cell_type": "markdown",
   "id": "335ae477-c729-4397-a678-f408e7df636b",
   "metadata": {},
   "source": [
    "# lab 10. Moduł `array` oraz `datetime`"
   ]
  },
  {
   "cell_type": "markdown",
   "id": "b7c01b5d-7ba3-430d-a5c2-1cd30fbb02fe",
   "metadata": {},
   "source": [
    "## 1. Moduł `array`"
   ]
  },
  {
   "cell_type": "markdown",
   "id": "d2f1de19-54e3-44eb-82bb-9d6e16de4e36",
   "metadata": {},
   "source": [
    "> Dokumentacja:\n",
    "> * https://docs.python.org/3/library/array.html"
   ]
  },
  {
   "cell_type": "markdown",
   "id": "d8d456fd-9d7a-42b8-81c4-591ad5eda85f",
   "metadata": {},
   "source": [
    "**_Listing 1_**"
   ]
  },
  {
   "cell_type": "code",
   "execution_count": 2,
   "id": "db775410-5361-43a2-bae7-f9c375b34fa1",
   "metadata": {},
   "outputs": [
    {
     "name": "stdout",
     "output_type": "stream",
     "text": [
      "0\n"
     ]
    }
   ],
   "source": [
    "import sys\n",
    "from array import array\n",
    "\n",
    "# tablica zawierająca wartości typu unsigned int\n",
    "# inicjalny rozmiar = 0 elementów\n",
    "tab = array('I')\n",
    "print(len(tab))"
   ]
  },
  {
   "cell_type": "code",
   "execution_count": 3,
   "id": "2f62c9fa-15ca-40b4-ae7f-9c83bd9b909b",
   "metadata": {},
   "outputs": [
    {
     "name": "stdout",
     "output_type": "stream",
     "text": [
      "1\n"
     ]
    }
   ],
   "source": [
    "# możemy dodać element na koniec tablicy\n",
    "tab.append(1)\n",
    "print(len(tab))"
   ]
  },
  {
   "cell_type": "code",
   "execution_count": 4,
   "id": "00bc71a2-a87d-4ad1-bc4a-5895b26e0e8a",
   "metadata": {},
   "outputs": [
    {
     "name": "stdout",
     "output_type": "stream",
     "text": [
      "array('I', [1, 2, 3, 4])\n",
      "4\n"
     ]
    }
   ],
   "source": [
    "# użycie metody extend\n",
    "tab.extend([2, 3, 4])\n",
    "print(tab)\n",
    "print(len(tab))\n",
    "\n",
    "# poniższy fragment zgłosi błąd TypeError\n",
    "# tab.extend([2, 3.0, 4])\n",
    "# print(tab)\n",
    "# print(len(tab))"
   ]
  },
  {
   "cell_type": "code",
   "execution_count": 5,
   "id": "d72b1254-3645-4c1d-8c34-3b81e6aa3c9b",
   "metadata": {},
   "outputs": [
    {
     "name": "stdout",
     "output_type": "stream",
     "text": [
      "array('I', [0, 1, 2, 3, 4, 5, 6, 7, 8, 9])\n"
     ]
    }
   ],
   "source": [
    "# tablicę możemy również inicjować z istniejących obiektów\n",
    "# z listy - wywołana zostanie metoda from list klasy array (patrz dokumentacja)\n",
    "tab_from_list = array('I', [i for i in range(10)])\n",
    "print(tab_from_list)"
   ]
  },
  {
   "cell_type": "code",
   "execution_count": 8,
   "id": "0469bd69-aaef-498c-8fa3-e5293b5525a9",
   "metadata": {},
   "outputs": [
    {
     "name": "stdout",
     "output_type": "stream",
     "text": [
      "array('u', 'ABRACADABRA')\n",
      "array('u', 'CA')\n",
      "array('u', 'ABRA_DABRA')\n"
     ]
    },
    {
     "name": "stderr",
     "output_type": "stream",
     "text": [
      "C:\\Users\\Krzysztof\\AppData\\Local\\Temp\\ipykernel_54496\\1948473521.py:2: DeprecationWarning: The 'u' type code is deprecated and will be removed in Python 3.16\n",
      "  tab_from_string = array('u', 'ABRACADABRA')\n",
      "C:\\Users\\Krzysztof\\AppData\\Local\\Temp\\ipykernel_54496\\1948473521.py:6: DeprecationWarning: The 'u' type code is deprecated and will be removed in Python 3.16\n",
      "  tab_from_string[4:6] = array('u', '_')\n"
     ]
    }
   ],
   "source": [
    "# z obiektu typu str - wywołana zostanie metoda fromunicode\n",
    "tab_from_string = array('u', 'ABRACADABRA')\n",
    "print(tab_from_string)\n",
    "print(tab_from_string[4:6])\n",
    "# wstawienie wartości z użyciem slice - typem obiektu wstawianego musi być również array\n",
    "tab_from_string[4:6] = array('u', '_')\n",
    "print(tab_from_string)"
   ]
  },
  {
   "cell_type": "code",
   "execution_count": 14,
   "id": "2386028e-652b-4eef-ac7c-93788e69d229",
   "metadata": {},
   "outputs": [
    {
     "name": "stdout",
     "output_type": "stream",
     "text": [
      "4200\n",
      "8856\n"
     ]
    }
   ],
   "source": [
    "# z generatora\n",
    "import random\n",
    "tab_of_floats = array('f', (random.random() for _ in range(1000)))\n",
    "\n",
    "# z ciekawości możemy porównać ilość zaalokowanej pamięci dla tablicy i listy tych samych wartości\n",
    "# im więcej będzie wartości tym różnica będzie większa na korzyść tablicy\n",
    "list_of_floats = [random.random() for _ in range(1000)]\n",
    "print(sys.getsizeof(tab_of_floats))\n",
    "print(sys.getsizeof(list_of_floats))"
   ]
  },
  {
   "cell_type": "markdown",
   "id": "fe12fa0d-9948-410d-9bff-41cb04373c5e",
   "metadata": {},
   "source": [
    "Dzięki tablicom możemy w środowisku z ograniczonymi zasobami zmniejszyć ilość zaalokowanej pamięci. A jak wygląda czas niezbędny do zaalokowania tablicy i listy tych samych elementów ?"
   ]
  },
  {
   "cell_type": "markdown",
   "id": "a4a778b6-dd84-4ca2-bf5b-db18a894fef4",
   "metadata": {},
   "source": [
    "**_Listing 2_**"
   ]
  },
  {
   "cell_type": "code",
   "execution_count": 29,
   "id": "f3bea4a6-5d68-48f5-9f79-a7b2fa1cf900",
   "metadata": {},
   "outputs": [
    {
     "name": "stdout",
     "output_type": "stream",
     "text": [
      "Suma elementów: 0.8338521999994555 vs. 0.6286172000000079\n",
      "Dostęp do elementów: 0.4928988000010577 vs. 0.6064598000011756\n"
     ]
    }
   ],
   "source": [
    "# test czasu wykonania\n",
    "from timeit import timeit\n",
    "import random\n",
    "\n",
    "setup = \"\"\"\n",
    "from array import array\n",
    "import random\n",
    "\n",
    "tab_of_floats = array('f', [random.random() for _ in range(1_000_000)])\n",
    "\"\"\"\n",
    "\n",
    "setup1 = \"\"\"\n",
    "import random\n",
    "\n",
    "list_of_floats = [random.random() for _ in range(1_000_000)]\n",
    "\"\"\"\n",
    "\n",
    "stmt1 = \"\"\"\n",
    "sum(tab_of_floats)\n",
    "\"\"\"\n",
    "stmt2 = \"\"\"\n",
    "sum(list_of_floats)\n",
    "\"\"\"\n",
    "\n",
    "stmt3 = \"\"\"\n",
    "tab_of_floats[random.randint(0, len(tab_of_floats)-1)]\n",
    "\"\"\"\n",
    "stmt4 = \"\"\"\n",
    "list_of_floats[random.randint(0, len(list_of_floats)-1)]\n",
    "\"\"\"\n",
    "\n",
    "\n",
    "print(f\"Suma elementów: {timeit(stmt1, setup, number=100)} vs. {timeit(stmt2, setup1, number=100)}\")\n",
    "print(f\"Dostęp do elementów: {timeit(stmt3, setup, number=1000000)} vs. {timeit(stmt4, setup1, number=1000000)}\")"
   ]
  },
  {
   "cell_type": "markdown",
   "id": "25a7718f-ecfb-446a-972d-6bbc05a50770",
   "metadata": {},
   "source": [
    "Widać, że czas wykonania operacji nie koniecznie jest zawsze po stronie tablic.\n",
    "\n",
    "Pod [TYM](https://wiki.python.org/moin/TimeComplexity) linkiem znajduje się tablica złożoności obliczeniowej (w notacji `big O`) wybranych operacji w Pythonie."
   ]
  },
  {
   "cell_type": "markdown",
   "id": "05687dda-dd61-41e3-a2b6-fe720967c1d8",
   "metadata": {},
   "source": [
    "**_Listing 3_**"
   ]
  },
  {
   "cell_type": "code",
   "execution_count": 31,
   "id": "9d539d05-2f27-4170-a8ed-0d6ac8f4b910",
   "metadata": {},
   "outputs": [
    {
     "data": {
      "text/plain": [
       "array('f', [0.7181819081306458, 0.027078989893198013, 0.7048152685165405, 0.6390222907066345, 0.8316575884819031, 0.18937312066555023, 0.15494900941848755, 0.7503846883773804, 0.49444857239723206, 0.2896447479724884])"
      ]
     },
     "execution_count": 31,
     "metadata": {},
     "output_type": "execute_result"
    }
   ],
   "source": [
    "# zapisanie tablicy do pliku oraz jej wczytanie\n",
    "tab_of_floats = array('f', [random.random() for _ in range(1_000_000)])\n",
    "\n",
    "with open('floats_array.bin', 'wb') as file_arr:\n",
    "    tab_of_floats.tofile(file_arr)\n",
    "\n",
    "# wczytujemy ponownie dane do tablicy floatów\n",
    "tab_of_floats_loaded = array('f')\n",
    "file_arr  = open('floats_array.bin', 'rb')\n",
    "tab_of_floats_loaded.fromfile(file_arr, 1_000_000)\n",
    "file_arr.close()\n",
    "tab_of_floats[:10]"
   ]
  },
  {
   "cell_type": "code",
   "execution_count": 12,
   "id": "19420d47-18f1-4425-93c1-124b792eaa87",
   "metadata": {},
   "outputs": [
    {
     "name": "stdout",
     "output_type": "stream",
     "text": [
      "[0.12260510475958342, 0.8661683796035304, 0.10518445858826331, 0.8403406437764545, 0.7171574256819936, 0.6144930857488491, 0.9554982118657585, 0.970457856748045, 0.8796432542672188, 0.17391161595501003]\n"
     ]
    }
   ],
   "source": [
    "# i analogiczna operacja dla listy\n",
    "list_of_floats = [random.random() for _ in range(1_000_000)]\n",
    "with open('floats_list.txt', 'w') as file_arr:\n",
    "    file_arr.writelines('\\n'.join([str(x) for x in list_of_floats]))\n",
    "\n",
    "with open('floats_list.txt', 'r') as file_list:\n",
    "    list_of_floats_loaded = file_list.readlines()\n",
    "\n",
    "list_of_floats_loaded = [float(x.strip()) for x in list_of_floats_loaded]\n",
    "print(list_of_floats_loaded[:10])"
   ]
  },
  {
   "cell_type": "markdown",
   "id": "0fe1471d-b7b2-4445-9d00-5214d236ed1b",
   "metadata": {},
   "source": [
    "**_Listing 4_**"
   ]
  },
  {
   "cell_type": "code",
   "execution_count": 30,
   "id": "dc4536ab-0d54-4cb3-b001-32be7ac0e0a3",
   "metadata": {},
   "outputs": [
    {
     "name": "stdout",
     "output_type": "stream",
     "text": [
      "array('I', [1, 2, 3, 4, 5, 6, 7, 8, 9, 10])\n",
      "1345155407264\n",
      "1345155335552\n",
      "140709833540520\n",
      "140709833540520\n",
      "array('B', [1, 2, 3, 4, 5, 6, 7, 8, 9, 10])\n",
      "[[1, 2, 3, 4, 5], [6, 7, 8, 9, 10]]\n"
     ]
    }
   ],
   "source": [
    "tab = array('I', range(1, 11))\n",
    "print(tab)\n",
    "# lokalizacja w pamięci\n",
    "print(id(tab))\n",
    "\n",
    "mem = memoryview(tab)\n",
    "# lokalizacja w pamięci - inna, ale przecież to inny obiekt\n",
    "print(id(mem))\n",
    "\n",
    "# jednak elementy tablicy i memory view współdzielą pamięć\n",
    "print(id(tab[0]))\n",
    "print(id(mem[0]))\n",
    "\n",
    "# nie wykonamy tego dla obiektów non byte\n",
    "# print(mem.cast('I', [2, 5]))\n",
    "\n",
    "tab = array('B', range(1, 11))\n",
    "print(tab)\n",
    "mem = memoryview(tab)\n",
    "# jeżeli chcemy ten widok zmaterializować\n",
    "print(mem.cast('B', [2, 5]).tolist())"
   ]
  },
  {
   "cell_type": "markdown",
   "id": "e27835b3-15d4-40f8-b964-710bc540db9c",
   "metadata": {},
   "source": [
    "## 2. Moduł `datetime`"
   ]
  },
  {
   "cell_type": "markdown",
   "id": "ea948b89-6227-43b6-90e1-e292e1392ede",
   "metadata": {},
   "source": [
    "Moduł `datetime` oferuje funkcje pozwalające na manipulowanie obiektami daty i czasu (ale póki co nie datą i czasem ;-) ). Pozwala to z dużym ułatwieniem pracować z takimi wartościami bez konieczności ręcznej obsługi lat przestępnych, ilości dni w danym miesiącu czy stref czasowych.\n",
    "\n",
    "> Dokumentacja:\n",
    "> * https://docs.python.org/3/library/datetime.html"
   ]
  },
  {
   "cell_type": "code",
   "execution_count": 180,
   "id": "19c70370-e92b-40c1-827f-70d3f9d07d06",
   "metadata": {},
   "outputs": [
    {
     "data": {
      "text/plain": [
       "['MAXYEAR',\n",
       " 'MINYEAR',\n",
       " 'UTC',\n",
       " '__all__',\n",
       " '__builtins__',\n",
       " '__cached__',\n",
       " '__doc__',\n",
       " '__file__',\n",
       " '__loader__',\n",
       " '__name__',\n",
       " '__package__',\n",
       " '__spec__',\n",
       " 'date',\n",
       " 'datetime',\n",
       " 'datetime_CAPI',\n",
       " 'time',\n",
       " 'timedelta',\n",
       " 'timezone',\n",
       " 'tzinfo']"
      ]
     },
     "execution_count": 180,
     "metadata": {},
     "output_type": "execute_result"
    }
   ],
   "source": [
    "import datetime\n",
    "\n",
    "# składowe modułu\n",
    "dir(datetime)"
   ]
  },
  {
   "cell_type": "markdown",
   "id": "8cb88aae-08fa-4886-8ee1-b94c36de78f1",
   "metadata": {},
   "source": [
    "Poniżej zostaną omówione wybrane funkcje tego modułu."
   ]
  },
  {
   "cell_type": "code",
   "execution_count": 181,
   "id": "f196374b-fa74-421b-bf0d-b56ed3c3180c",
   "metadata": {},
   "outputs": [
    {
     "data": {
      "text/plain": [
       "(1, 9999)"
      ]
     },
     "execution_count": 181,
     "metadata": {},
     "output_type": "execute_result"
    }
   ],
   "source": [
    "# zakres wartości składowej year w module datetime\n",
    "datetime.MINYEAR, datetime.MAXYEAR"
   ]
  },
  {
   "cell_type": "markdown",
   "id": "e8827861-95b8-479f-b918-6a6f952b1623",
   "metadata": {},
   "source": [
    "Wszystkie z wyżej wypisanych nazw (dir(datetime)) bez `__` są klasami w module datetime, i sa opisane tutaj: https://docs.python.org/3/library/datetime.html#available-types\n",
    "\n",
    "Reprezentują obiekty daty (date), czasu (time), daty i czasu (datetime), strefy czasowej (tzinfo, timezone) oraz różnicy między dwoma datami (timedelta)."
   ]
  },
  {
   "cell_type": "markdown",
   "id": "e7348a20-1742-4f11-b725-682defa04c75",
   "metadata": {},
   "source": [
    "**Obiekt typu `date`**"
   ]
  },
  {
   "cell_type": "markdown",
   "id": "44e8e47b-c788-4c69-96d9-0eed4f3f23ec",
   "metadata": {},
   "source": [
    "Sygantura: `class datetime.date(year, month, day)`"
   ]
  },
  {
   "cell_type": "code",
   "execution_count": 184,
   "id": "22adaf26-e82e-44d2-a2e3-e4911a7ce332",
   "metadata": {},
   "outputs": [],
   "source": [
    "d = datetime.date(2000, 1, 1)"
   ]
  },
  {
   "cell_type": "code",
   "execution_count": 185,
   "id": "0501f071-88a1-4877-9459-a40e8baabb6d",
   "metadata": {},
   "outputs": [
    {
     "data": {
      "text/plain": [
       "datetime.date(2000, 1, 1)"
      ]
     },
     "execution_count": 185,
     "metadata": {},
     "output_type": "execute_result"
    }
   ],
   "source": [
    "d"
   ]
  },
  {
   "cell_type": "code",
   "execution_count": 187,
   "id": "d5720f94-89d9-4e0b-833e-cdf3a13757bc",
   "metadata": {},
   "outputs": [
    {
     "data": {
      "text/plain": [
       "(2000, 1, 1)"
      ]
     },
     "execution_count": 187,
     "metadata": {},
     "output_type": "execute_result"
    }
   ],
   "source": [
    "d.year, d.month, d.day"
   ]
  },
  {
   "cell_type": "code",
   "execution_count": 188,
   "id": "dcf8ffab-acd3-4e69-81e1-ec128639dd95",
   "metadata": {},
   "outputs": [
    {
     "data": {
      "text/plain": [
       "datetime.date(2025, 5, 13)"
      ]
     },
     "execution_count": 188,
     "metadata": {},
     "output_type": "execute_result"
    }
   ],
   "source": [
    "# metody statyczne\n",
    "datetime.date.today()"
   ]
  },
  {
   "cell_type": "code",
   "execution_count": 190,
   "id": "b7ad0dae-bd6d-4188-b905-e8bfe22b5b87",
   "metadata": {},
   "outputs": [
    {
     "data": {
      "text/plain": [
       "datetime.date(1970, 1, 1)"
      ]
     },
     "execution_count": 190,
     "metadata": {},
     "output_type": "execute_result"
    }
   ],
   "source": [
    "# epoch start\n",
    "datetime.date.fromtimestamp(0)"
   ]
  },
  {
   "cell_type": "code",
   "execution_count": 194,
   "id": "4aef6fda-f088-405a-b5bb-8ef76fa5143b",
   "metadata": {},
   "outputs": [
    {
     "data": {
      "text/plain": [
       "datetime.date(1972, 9, 27)"
      ]
     },
     "execution_count": 194,
     "metadata": {},
     "output_type": "execute_result"
    }
   ],
   "source": [
    "# 1000 dni później\n",
    "# sekundy * minuty * godziny * dni\n",
    "stamp = 60 * 60 * 24 * 1000\n",
    "datetime.date.fromtimestamp(stamp)"
   ]
  },
  {
   "cell_type": "code",
   "execution_count": 195,
   "id": "8becc342-6208-42fd-9963-5b97754f7bc7",
   "metadata": {},
   "outputs": [
    {
     "data": {
      "text/plain": [
       "datetime.timedelta(days=1000)"
      ]
     },
     "execution_count": 195,
     "metadata": {},
     "output_type": "execute_result"
    }
   ],
   "source": [
    "# różnica między dwoma obiektami daty (daty i czasu) zwracana jest w postaci obiektu timedelta\n",
    "# sprawdzamy\n",
    "datetime.date.fromtimestamp(stamp) - datetime.date.fromtimestamp(0)"
   ]
  },
  {
   "cell_type": "code",
   "execution_count": 197,
   "id": "120c914e-7a02-47eb-ac38-3f1cf6e6ec49",
   "metadata": {},
   "outputs": [
    {
     "data": {
      "text/plain": [
       "datetime.date(2023, 1, 12)"
      ]
     },
     "execution_count": 197,
     "metadata": {},
     "output_type": "execute_result"
    }
   ],
   "source": [
    "# kolejna metoda statyczna tej klasy\n",
    "datetime.date.fromisoformat('2023-01-12')"
   ]
  },
  {
   "cell_type": "markdown",
   "id": "3e22c664-9ee4-468e-a2c2-49da60a2bd87",
   "metadata": {},
   "source": [
    "O formacie ISO 8601: https://en.wikipedia.org/wiki/ISO_8601"
   ]
  },
  {
   "cell_type": "code",
   "execution_count": 199,
   "id": "44aeab8d-cb9d-4563-8db5-a5865df31351",
   "metadata": {},
   "outputs": [
    {
     "data": {
      "text/plain": [
       "datetime.date(2023, 1, 12)"
      ]
     },
     "execution_count": 199,
     "metadata": {},
     "output_type": "execute_result"
    }
   ],
   "source": [
    "datetime.date.fromisoformat('20230112')"
   ]
  },
  {
   "cell_type": "code",
   "execution_count": 205,
   "id": "809d39bc-3f20-4907-8ad4-a46520593fbb",
   "metadata": {},
   "outputs": [
    {
     "name": "stdout",
     "output_type": "stream",
     "text": [
      "1\n",
      "2\n",
      "datetime.IsoCalendarDate(year=2025, week=20, weekday=2)\n",
      "2025-05-13\n",
      "Tue May 13 00:00:00 2025\n"
     ]
    }
   ],
   "source": [
    "# inne funkcje tej klasy\n",
    "data = datetime.date.today()\n",
    "\n",
    "print(data.weekday())\n",
    "print(data.isoweekday())\n",
    "print(data.isocalendar())\n",
    "print(data.isoformat())\n",
    "print(data.ctime())"
   ]
  },
  {
   "cell_type": "markdown",
   "id": "1082d590-e6d0-48bc-bcf4-8837cb0ef5c2",
   "metadata": {},
   "source": [
    "**Obiekt typu `datetime`**"
   ]
  },
  {
   "cell_type": "markdown",
   "id": "4f6d706b-060e-4ae8-a93c-043f0ecb8b88",
   "metadata": {},
   "source": [
    "Sygnatura: class datetime.datetime(year, month, day, hour=0, minute=0, second=0, microsecond=0, tzinfo=None, *, fold=0)"
   ]
  },
  {
   "cell_type": "code",
   "execution_count": 207,
   "id": "f4b39112-1b44-4ceb-b7ba-3775dc09cd64",
   "metadata": {},
   "outputs": [
    {
     "data": {
      "text/plain": [
       "datetime.datetime(2025, 5, 13, 12, 31, 43, 986635)"
      ]
     },
     "execution_count": 207,
     "metadata": {},
     "output_type": "execute_result"
    }
   ],
   "source": [
    "now = datetime.datetime.today()\n",
    "now"
   ]
  },
  {
   "cell_type": "code",
   "execution_count": 209,
   "id": "d8dfd531-32f7-4631-b7e7-47816cabbb05",
   "metadata": {},
   "outputs": [
    {
     "data": {
      "text/plain": [
       "datetime.datetime(2025, 5, 13, 12, 32, 39, 890781)"
      ]
     },
     "execution_count": 209,
     "metadata": {},
     "output_type": "execute_result"
    }
   ],
   "source": [
    "datetime.datetime.now()"
   ]
  },
  {
   "cell_type": "code",
   "execution_count": null,
   "id": "71665f6e-8765-490a-b040-e379f8fa32cf",
   "metadata": {},
   "outputs": [],
   "source": [
    "# lista wszystkich dostępnych nazw stref czasowych\n",
    "import pytz\n",
    "\n",
    "print('Timezones')\n",
    "for timeZone in pytz.all_timezones:\n",
    "    print(timeZone)"
   ]
  },
  {
   "cell_type": "code",
   "execution_count": 227,
   "id": "17973b11-aaa1-413c-9000-efd17bb1bddc",
   "metadata": {},
   "outputs": [
    {
     "data": {
      "text/plain": [
       "datetime.datetime(2025, 5, 13, 3, 45, 19, 890703, tzinfo=zoneinfo.ZoneInfo(key='America/Los_Angeles'))"
      ]
     },
     "execution_count": 227,
     "metadata": {},
     "output_type": "execute_result"
    }
   ],
   "source": [
    "from zoneinfo import ZoneInfo\n",
    "\n",
    "# jaki aktualnie czas w Los Angeles?\n",
    "datetime.datetime.now(ZoneInfo(\"America/Los_Angeles\"))"
   ]
  },
  {
   "cell_type": "markdown",
   "id": "2438c81b-366b-438b-96ff-91a5cde7478b",
   "metadata": {},
   "source": [
    "Kolejne bardzo przydatne funkcje związane z obsługą daty i czasu to możliwość konwersji z danego formatu.\n",
    "\n",
    "```\n",
    "datetime.strptime(date_string, format)\n",
    "```\n",
    "\n",
    "Formaty zapisu są dostępne w tabeli w dokumentacji modułu datetime pod adresem: https://docs.python.org/3/library/datetime.html#format-codes"
   ]
  },
  {
   "cell_type": "code",
   "execution_count": 230,
   "id": "f1caf161-7dfe-479c-9e8f-9825fd3d7ccd",
   "metadata": {},
   "outputs": [
    {
     "data": {
      "text/plain": [
       "datetime.datetime(2024, 2, 3, 0, 0)"
      ]
     },
     "execution_count": 230,
     "metadata": {},
     "output_type": "execute_result"
    }
   ],
   "source": [
    "datetime.datetime.strptime('2024/02/03', \"%Y/%m/%d\")"
   ]
  },
  {
   "cell_type": "code",
   "execution_count": 234,
   "id": "117aee43-0c70-4178-83c0-8e7873c0f003",
   "metadata": {},
   "outputs": [
    {
     "data": {
      "text/plain": [
       "datetime.datetime(2024, 2, 3, 0, 0)"
      ]
     },
     "execution_count": 234,
     "metadata": {},
     "output_type": "execute_result"
    }
   ],
   "source": [
    "datetime.datetime.strptime('24/2/3', \"%y/%m/%d\")"
   ]
  },
  {
   "cell_type": "code",
   "execution_count": 237,
   "id": "06c56483-899b-4187-a393-cb84800e4553",
   "metadata": {},
   "outputs": [
    {
     "data": {
      "text/plain": [
       "1735686000.0"
      ]
     },
     "execution_count": 237,
     "metadata": {},
     "output_type": "execute_result"
    }
   ],
   "source": [
    "start_of_this_year = datetime.datetime(2025, 1, 1)\n",
    "start_of_this_year.timestamp()"
   ]
  },
  {
   "cell_type": "code",
   "execution_count": 239,
   "id": "27a4f86e-c9a4-4205-9d23-34019bfd2fcf",
   "metadata": {},
   "outputs": [
    {
     "data": {
      "text/plain": [
       "datetime.datetime(2020, 1, 1, 0, 0)"
      ]
     },
     "execution_count": 239,
     "metadata": {},
     "output_type": "execute_result"
    }
   ],
   "source": [
    "# możemy podmienić dowolna składową daty i czasu\n",
    "start_of_this_year.replace(year=2020)"
   ]
  },
  {
   "cell_type": "code",
   "execution_count": 240,
   "id": "bbc924ed-86b4-4d4b-bd4a-6bb01f1e9701",
   "metadata": {},
   "outputs": [
    {
     "data": {
      "text/plain": [
       "'2025-01-01T00:00:00'"
      ]
     },
     "execution_count": 240,
     "metadata": {},
     "output_type": "execute_result"
    }
   ],
   "source": [
    "start_of_this_year.isoformat()"
   ]
  },
  {
   "cell_type": "markdown",
   "id": "40fa6994-189a-40c2-8db5-5b7caca808c5",
   "metadata": {},
   "source": [
    "## Zadania"
   ]
  },
  {
   "cell_type": "markdown",
   "id": "d1589eb6-0c6c-4f56-bcc9-1b9c37e2ceca",
   "metadata": {},
   "source": [
    "**Zadanie 1**  \n",
    "Wykorzystując przykład z listingu 2 napisz kod, który porówna czas inicjalizowania tablicy 10000 elementów z typem `i` oraz `w` (w tym drugim to łańcuchy znaków) i listy z takimi samymi wartościami. Porównaj również czas dostępu (jest już w przykładzie w listingu 2) oraz dodaj porównanie czasu wykonania 1000 operacji `insert` dla obu typów (tablica vs. lista).\n",
    "\n",
    "**Zadanie 2**  \n",
    "Zmierz czas operacji zapisu i ładowania danych z tablicy i listy z listingu 3. Użyj do tego modułu `datetime`. Wnioski ?\n",
    "\n",
    "\n",
    "**Zadanie 3**  \n",
    "Napisz funkcję, która przyjmuje datę urodzenia w postaci łańcucha znaków,a wyświetla na wyjściu komunikat:\n",
    "\n",
    "Witaj! Na dzień dzisiejszy masz {tu wiek w latach} lat oraz {tu dodatkowo dni} dni. Razem daje to imponujące {tu dni od narodzin} dni!. Twoje najbliższe urodziny będą miały miejsce w dniu {tu data} czyli za {liczba miesięcy} miesięcy oraz {dodatkowo liczba dni} dni. Od poprzednich urodziny minęło {liczba miesięcy} miesięcy i {liczba dni} dni. \n",
    "\n",
    "**Zadanie 4**\n",
    "\n",
    "W lab_02 znajduje się plik zamowienia.csv. Wczytaj ten plik (ale bez biblioteki pandas), a następnie zamień wszystkie wartości w kolumnie `Data zamowienia` na obiekt typu `datetime.date` i wyświetl:\n",
    "* najstarszą datę,\n",
    "* najnowszą datę,\n",
    "* różnicę w dniach między najstarszą i najnowszą datą"
   ]
  }
 ],
 "metadata": {
  "kernelspec": {
   "display_name": "Python 3 (ipykernel)",
   "language": "python",
   "name": "python3"
  },
  "language_info": {
   "codemirror_mode": {
    "name": "ipython",
    "version": 3
   },
   "file_extension": ".py",
   "mimetype": "text/x-python",
   "name": "python",
   "nbconvert_exporter": "python",
   "pygments_lexer": "ipython3",
   "version": "3.13.2"
  }
 },
 "nbformat": 4,
 "nbformat_minor": 5
}
