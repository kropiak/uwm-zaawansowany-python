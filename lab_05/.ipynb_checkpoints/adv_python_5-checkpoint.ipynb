{
 "cells": [
  {
   "cell_type": "markdown",
   "id": "fbeddaf8-ea4c-4169-9840-9f1ef511d00b",
   "metadata": {},
   "source": [
    "# Lab 5. Wyrażenia regularne w Pythonie."
   ]
  },
  {
   "cell_type": "markdown",
   "id": "d83f5cf8-50bf-40fa-83a9-57f10993a730",
   "metadata": {},
   "source": [
    "## 1. Metaznaki wyrażeń regularnych."
   ]
  },
  {
   "cell_type": "markdown",
   "id": "ea60b376-302c-41f6-8144-d86f17f42c1b",
   "metadata": {},
   "source": [
    "### Tabela 1.\n",
    "\n",
    "| Metaznak | Opis | Przykład | \n",
    "| --- | --- | --- |\n",
    "| `$`| Kończy się na | `\"ski$\"` - nazwa kończy się znakami `ski` |\n",
    "| `^`| Rozpoczyna się od | `\"^Pol\"` - nazwa rozpoczyna się znakami `Pol` |\n",
    "| `.`| Dowolny znak (oprócz znaku nowej linii) | `\"b.r\"` - nazwa rozpoczyna się od litery `b` następnie zwiera dowolny znak i kończy się literą `r` |\n",
    "| `\\`| Znak ucieczki lub rozpoczęcie specjalnej sekwencji | `\"^\\.\"` - nazwa rozpoczyna się kropką (która również jest metaznakiem) |\n",
    "| `*` | Zero lub więcej wystąpień | `\"b.*o\"` - pasują `bo`, `bro`, `booo` itd. |\n",
    "| `+` | Co najmniej jedno wystąpienie | `\"b.+o\"` - pasują `bro`, `boo` itd., nie pasuje `bo` |\n",
    "| `?` | Co najwyżej jedno wystąpienie | `\"b.?o\"` - pasują `bo`, `bro`, `boo`, ale nie pasuje `booo` |\n",
    "| `[]` | Określa zbiór dopuszczalnych wartości | `\"[a-z]\"` - wszystkie znaki między `a` oraz `z`, `\"[0-9]\"` - cyfry od 0 do 9, `\"[a-c0-3]\"` - znaki od `a` do `c` oraz cyfry od 0 do 3. |\n",
    "| `[^]` | Określa zbiór wartości, które nie mogą znaleźć się w wynikach | `\"[^abc]\"` - wartości, które nie zawierają `a`, `b` lub `c`, `\"[^0-9]\"` - wartości, które nie zawierają cyfr |\n",
    "| `()` | Pozwala na grupowanie wyrażeń. | |\n",
    "| `\\|` | Alternatywa | `\"tak\\|Tak\"` - słowo `tak` lub `Tak`, można również zapisać jako `\"(T\\|t)ak\"` |\n",
    "| `{m,n}` | Określa bardziej precyzyjnie liczebność wystąpienia elementów wyrażenia | `\"b.{2}o\"` - dokładnie dwa dwolne znaki, `\"b.{2,3}\"` - co najmniej 2, ale nie więcej niż 3 wystąpienia, `\"b.{2,}o\"` - co najmniej dwa wystąpienia, `\"b.{,3}\"` - co najwyżej 3 wystąpienia. |"
   ]
  },
  {
   "cell_type": "markdown",
   "id": "0da8043a-300a-454e-8099-478dbb130d55",
   "metadata": {},
   "source": [
    "> Więcej informacji na temat elementów wyrażeń regularnych w kontekście ich działania w Pythonie można znaleźć w zestawieniu dostępnym pod adresem: https://docs.python.org/3/library/re.html#regular-expression-syntax"
   ]
  },
  {
   "cell_type": "markdown",
   "id": "b2c6ecb1-ef32-4b54-95c2-5e2783cb19d9",
   "metadata": {},
   "source": [
    "## 2. Moduł `re`"
   ]
  },
  {
   "cell_type": "markdown",
   "id": "4600103a-c807-46f2-ac74-1a164ed8c82f",
   "metadata": {},
   "source": [
    "Standardowa biblioteka Pythona zawiera moduł `re`, który dostarcza kilka funkcji pozwalających na obsługę wyrażeń regularnych. \n",
    "\n",
    "Dokumentację zawierającą elementy składniowe wyrażeń regularnych oraz funkcje tego modułu można znaleźć tu: https://docs.python.org/3/library/re.html\n"
   ]
  },
  {
   "cell_type": "markdown",
   "id": "d7208450-5356-4ad2-ae2b-5ef477ce87e1",
   "metadata": {},
   "source": [
    "### 2.1 Funkcja `re.match`"
   ]
  },
  {
   "cell_type": "markdown",
   "id": "eac72124-58f1-469a-b019-a4b2217263b7",
   "metadata": {},
   "source": [
    "Sygnatura: `re.match(pattern, string, flags=0)`\n",
    "\n",
    "Zwraca obiekt `Match` jeżeli na początku łańcucha znaków (`string`) zawiera zero lub więcej pasujących elementów do wyrażenia (`pattern`). Nie znajduje wszystkich wystąpień wyrażenia (to można osiągnąć poprzez użycie `re.search()`)"
   ]
  },
  {
   "cell_type": "code",
   "execution_count": 2,
   "id": "96366789-4728-4328-97f0-03c40faf8f38",
   "metadata": {},
   "outputs": [],
   "source": [
    "import re"
   ]
  },
  {
   "cell_type": "code",
   "execution_count": 9,
   "id": "72326645-5922-4936-9013-b15c6408c534",
   "metadata": {},
   "outputs": [
    {
     "data": {
      "text/plain": [
       "re.Match"
      ]
     },
     "execution_count": 9,
     "metadata": {},
     "output_type": "execute_result"
    }
   ],
   "source": [
    "# rozpoczyna się od dowolnego znaku, a drugi znak to o\n",
    "result = re.match('^.o', 'Kowalski')\n",
    "type(result)"
   ]
  },
  {
   "cell_type": "code",
   "execution_count": 14,
   "id": "66369461-2d5a-416b-9a48-db1974f389e6",
   "metadata": {},
   "outputs": [
    {
     "name": "stdout",
     "output_type": "stream",
     "text": [
      "<re.Match object; span=(0, 2), match='Ko'>\n",
      "Ko\n"
     ]
    }
   ],
   "source": [
    "# obiekt Match zawiera informacje o tym jaka część łańcucha pasuje do wzorca\n",
    "print(result)\n",
    "print(result[0])"
   ]
  },
  {
   "cell_type": "code",
   "execution_count": 22,
   "id": "ace5f5ba-8a8a-463a-8c8d-8be5b9b01a37",
   "metadata": {},
   "outputs": [],
   "source": [
    "# gdybyśmy chcieli sprawdzić czy nazwa kończy się na 'ski` to\n",
    "# wykorzystując poniższe wyrażenie - nie zadziała jak byśmy tego chcieli\n",
    "# match dopasowuje tylko na początku wyrażenia\n",
    "result = re.match('ski$', 'Kowalski')\n",
    "result"
   ]
  },
  {
   "cell_type": "code",
   "execution_count": 23,
   "id": "60f5a915-177c-4970-a2e7-58646cbd8706",
   "metadata": {},
   "outputs": [
    {
     "data": {
      "text/plain": [
       "<re.Match object; span=(0, 8), match='Kowalski'>"
      ]
     },
     "execution_count": 23,
     "metadata": {},
     "output_type": "execute_result"
    }
   ],
   "source": [
    "# ale kombinując nieco inaczej, możemy osiągnąć tutaj porządany efekt\n",
    "result = re.match('.+ski', 'Kowalski')\n",
    "result"
   ]
  },
  {
   "cell_type": "code",
   "execution_count": 24,
   "id": "8a21f18d-01aa-4366-bc58-95c7c73f2b33",
   "metadata": {},
   "outputs": [
    {
     "data": {
      "text/plain": [
       "<re.Match object; span=(0, 12), match='Jan Kowalski'>"
      ]
     },
     "execution_count": 24,
     "metadata": {},
     "output_type": "execute_result"
    }
   ],
   "source": [
    "result = re.match('.+ski', 'Jan Kowalski')\n",
    "result"
   ]
  },
  {
   "cell_type": "code",
   "execution_count": 26,
   "id": "435bfb68-d779-490d-8a21-154d6c6834cd",
   "metadata": {},
   "outputs": [
    {
     "data": {
      "text/plain": [
       "<re.Match object; span=(0, 12), match='Jan Kowalski'>"
      ]
     },
     "execution_count": 26,
     "metadata": {},
     "output_type": "execute_result"
    }
   ],
   "source": [
    "# w dokumentacji funkcji match wyczytamy również, że dopasowanie zostanie wykonane\n",
    "# tylko dla pierwszej linii\n",
    "result = re.match('.+ski', 'Jan Kowalski \\n Adam Malinowski')\n",
    "result"
   ]
  },
  {
   "cell_type": "markdown",
   "id": "d40dad8b-a88e-49e2-a8b8-649033e45a12",
   "metadata": {},
   "source": [
    "### 2.2 Funkcja `re.fullmatch`"
   ]
  },
  {
   "cell_type": "code",
   "execution_count": 21,
   "id": "7bcfe966-c732-4387-bf62-5b8b68033b10",
   "metadata": {},
   "outputs": [
    {
     "data": {
      "text/plain": [
       "<re.Match object; span=(0, 8), match='Kowalski'>"
      ]
     },
     "execution_count": 21,
     "metadata": {},
     "output_type": "execute_result"
    }
   ],
   "source": [
    "# podobnie jak match, ale dopasowuje wzorzec do całej sekwnecji, a nie szuka tylko pasującego fragmentu\n",
    "result = re.fullmatch('^[A-Z].+ski$', 'Kowalski')\n",
    "result"
   ]
  },
  {
   "cell_type": "code",
   "execution_count": 22,
   "id": "bfc943d7-90c8-47b0-8abf-829b962c06b8",
   "metadata": {},
   "outputs": [],
   "source": [
    "result = re.fullmatch('^[A-Z].+ski$', 'Kowalski Jan')\n",
    "result"
   ]
  },
  {
   "cell_type": "markdown",
   "id": "34e61027-72da-4533-a20c-94d9561b070b",
   "metadata": {},
   "source": [
    "### 2.3 Funkcja `re.compile`"
   ]
  },
  {
   "cell_type": "markdown",
   "id": "ec3576a7-9051-424e-bdff-d7542af47cdd",
   "metadata": {},
   "source": [
    "Funkcja re.compile pozwala na kompilację wyrażenia do obiektu wyrażenia regularnego (więcej [tu](https://docs.python.org/3/library/re.html#re-objects)), an którym możemy później wywołać metody takie jak `match()` czy `search()` oraz inne. Możemy również zdefiniowac dodatkowe flagi dla tego wyrażenia."
   ]
  },
  {
   "cell_type": "code",
   "execution_count": 4,
   "id": "1340ec93-8c8e-496c-a148-a53443066d4f",
   "metadata": {},
   "outputs": [
    {
     "data": {
      "text/plain": [
       "<re.Match object; span=(0, 2), match='Ko'>"
      ]
     },
     "execution_count": 4,
     "metadata": {},
     "output_type": "execute_result"
    }
   ],
   "source": [
    "pattern = '^.o'\n",
    "\n",
    "regexp = re.compile(pattern)\n",
    "result = regexp.match('Kowalski')\n",
    "\n",
    "# to to samo co wcześniejszy przykład\n",
    "# result = re.match('^.o', 'Kowalski')\n",
    "\n",
    "# jednak jeżeli chcemy to wyrażenie wykonać wielokrotnie w naszym skrypcie, to po kompilacji może to być bardziej efektywne\n",
    "result"
   ]
  },
  {
   "cell_type": "markdown",
   "id": "a43ccfec-99f2-47a5-8e86-e51ea762eaff",
   "metadata": {},
   "source": [
    "### 2.4 Funkcja `Pattern.search`"
   ]
  },
  {
   "cell_type": "markdown",
   "id": "0d04a849-84bc-4229-aab5-f29259eb3b5d",
   "metadata": {},
   "source": [
    "Sygnatura: `Pattern.search(string[, pos[, endpos]])`\n",
    "\n",
    "Ta funkcja odnajduje pierwsze dopasowanie wzorca w zadanym łańcuchu znaków. Może przyjmować opcjonalne argumenty określające zakres w sekwencji do przeszukania (`sekwencja[pos:endpos]`).\n"
   ]
  },
  {
   "cell_type": "code",
   "execution_count": 7,
   "id": "783497db-bd31-4da3-8092-c4cb41863f51",
   "metadata": {},
   "outputs": [
    {
     "data": {
      "text/plain": [
       "<re.Match object; span=(0, 2), match='Ko'>"
      ]
     },
     "execution_count": 7,
     "metadata": {},
     "output_type": "execute_result"
    }
   ],
   "source": [
    "result = regexp.search('Kowalski')\n",
    "result"
   ]
  },
  {
   "cell_type": "code",
   "execution_count": 27,
   "id": "b9d962e5-6794-4109-9883-8021a366c4fb",
   "metadata": {},
   "outputs": [
    {
     "data": {
      "text/plain": [
       "<re.Match object; span=(0, 1), match='K'>"
      ]
     },
     "execution_count": 27,
     "metadata": {},
     "output_type": "execute_result"
    }
   ],
   "source": [
    "pattern = '[A-Z]'\n",
    "regexp = re.compile(pattern)\n",
    "result = regexp.search('Kowalski')\n",
    "result"
   ]
  },
  {
   "cell_type": "code",
   "execution_count": 28,
   "id": "ed6c7af6-1711-45a1-944e-d4de29122b27",
   "metadata": {},
   "outputs": [],
   "source": [
    "result = regexp.search('Kowalski', 1)\n",
    "result"
   ]
  },
  {
   "cell_type": "code",
   "execution_count": 29,
   "id": "5b8c162b-83a9-4d22-92a0-7a64d0f3df76",
   "metadata": {},
   "outputs": [
    {
     "data": {
      "text/plain": [
       "<re.Match object; span=(1, 2), match='O'>"
      ]
     },
     "execution_count": 29,
     "metadata": {},
     "output_type": "execute_result"
    }
   ],
   "source": [
    "result = regexp.search('KOalski', 1)\n",
    "result"
   ]
  },
  {
   "cell_type": "markdown",
   "id": "e455e2fb-8be7-432c-9473-626bf26ce371",
   "metadata": {},
   "source": [
    "### 2.5 Funkcja `re.split`"
   ]
  },
  {
   "cell_type": "markdown",
   "id": "14919125-1b57-4b68-8ce6-e832ae0ebaf7",
   "metadata": {},
   "source": [
    "Podobnie jak funkcja `str.split()` dzieli sekwencje łańcucha znaków z wykorzystaniem podanego podłańcucha, tak `re.split()` dzieli łańuch z wykorzystaniem wyrażenia regularnego. Poprzez zdefiniowanie wartości argumentu `maxsplit` możemy również ograniczyc liczbę podziałów, po których funkcja powinna przestać to robić. Zwraca listę."
   ]
  },
  {
   "cell_type": "code",
   "execution_count": 30,
   "id": "b9a54948-3bde-4611-af09-6b60ccb03db5",
   "metadata": {},
   "outputs": [
    {
     "data": {
      "text/plain": [
       "['', ' Abracadabra ', ' to ', ' czary ', ' i ', ' magia']"
      ]
     },
     "execution_count": 30,
     "metadata": {},
     "output_type": "execute_result"
    }
   ],
   "source": [
    "seq = '1 Abracadabra 2 to 3 czary 4 i 5 magia'\n",
    "result = re.split('[0-9]', seq)\n",
    "result"
   ]
  },
  {
   "cell_type": "code",
   "execution_count": 31,
   "id": "2f5b9907-cd48-4e15-8d80-385d74b3e1c3",
   "metadata": {},
   "outputs": [
    {
     "data": {
      "text/plain": [
       "['', ' Abracadabra ', ' to ', ' czary 4 i 5 magia']"
      ]
     },
     "execution_count": 31,
     "metadata": {},
     "output_type": "execute_result"
    }
   ],
   "source": [
    "result = re.split('[0-9]', seq, maxsplit=3)\n",
    "result"
   ]
  },
  {
   "cell_type": "markdown",
   "id": "2aa5a630-9b6f-489c-ae4e-7a662215b736",
   "metadata": {},
   "source": [
    "### 2.6 Funkcja `re.findall`"
   ]
  },
  {
   "cell_type": "markdown",
   "id": "3740890d-7a98-4018-8c73-87ff9745d418",
   "metadata": {},
   "source": [
    "Zwraca wszystkie wystąpienia wzorca w łańcuchu znaków jako listę łańcuchów lub krotek."
   ]
  },
  {
   "cell_type": "code",
   "execution_count": 37,
   "id": "3f561f9e-88e8-4e0e-bc23-b0d22b4e9ea5",
   "metadata": {},
   "outputs": [
    {
     "data": {
      "text/plain": [
       "['kota', 'kot']"
      ]
     },
     "execution_count": 37,
     "metadata": {},
     "output_type": "execute_result"
    }
   ],
   "source": [
    "re.findall('k[a-z]*', 'Ala ma kota, a kot to Filemon.')"
   ]
  },
  {
   "cell_type": "code",
   "execution_count": 38,
   "id": "0d06090e-c265-4fb2-a0a3-643089a76ddd",
   "metadata": {},
   "outputs": [
    {
     "data": {
      "text/plain": [
       "['1', '2', '3', '4', '5']"
      ]
     },
     "execution_count": 38,
     "metadata": {},
     "output_type": "execute_result"
    }
   ],
   "source": [
    "re.findall('[0-9]', '1 Abracadabra 2 to 3 czary 4 i 5 magia')"
   ]
  },
  {
   "cell_type": "code",
   "execution_count": 70,
   "id": "00755bf6-6408-4cfc-9346-f1dd3b4507ee",
   "metadata": {},
   "outputs": [
    {
     "name": "stdout",
     "output_type": "stream",
     "text": [
      "['Bob był budowniczym']\n",
      "['Bob był budowniczym', 'Nie bo nie']\n"
     ]
    }
   ],
   "source": [
    "# jedną z flag, którą możemy przekazać w celu zmiany domyślnego sposobu ewaluacji wyrażenia\n",
    "# jest re.MULTILINE, które jest przydatne dla przeszukiwania tekstu wielowierszowego (oddzielonego znakami nowego wiersza)\n",
    "\n",
    "# bez flagi\n",
    "res = re.findall('^[A-Z].*', 'Bob był budowniczym\\nNie bo nie\\nco tam słychać?\\n')\n",
    "print(res)\n",
    "\n",
    "# z flagą\n",
    "res = re.findall('^[A-Z].+', 'Bob był budowniczym\\nNie bo nie\\nco tam słychać?\\n', flags=re.MULTILINE)\n",
    "print(res)"
   ]
  },
  {
   "cell_type": "markdown",
   "id": "1689a500-9f48-4044-8e3f-0deababc322b",
   "metadata": {},
   "source": [
    "### 2.7 Funkcja `re.finditer`"
   ]
  },
  {
   "cell_type": "markdown",
   "id": "5857be7c-1e4e-46e4-9c8b-36852972370a",
   "metadata": {},
   "source": [
    "Funkcja ta zwraca iterator, który zwraca obiekty Match dla każdego odnalezionego dopasowania w łańcuchu znaków."
   ]
  },
  {
   "cell_type": "code",
   "execution_count": 41,
   "id": "37f3a2db-9a8b-4183-9bdf-b0d0167bc0e9",
   "metadata": {},
   "outputs": [
    {
     "data": {
      "text/plain": [
       "<callable_iterator at 0x1e2a532b5e0>"
      ]
     },
     "execution_count": 41,
     "metadata": {},
     "output_type": "execute_result"
    }
   ],
   "source": [
    "result = re.finditer('[0-9]', '1 Abracadabra 2 to 3 czary 4 i 5 magia')\n",
    "result"
   ]
  },
  {
   "cell_type": "code",
   "execution_count": 42,
   "id": "aad88f6f-b9cb-4994-ad98-fc3e8d890377",
   "metadata": {},
   "outputs": [
    {
     "name": "stdout",
     "output_type": "stream",
     "text": [
      "<re.Match object; span=(0, 1), match='1'>\n",
      "<re.Match object; span=(14, 15), match='2'>\n",
      "<re.Match object; span=(19, 20), match='3'>\n",
      "<re.Match object; span=(27, 28), match='4'>\n",
      "<re.Match object; span=(31, 32), match='5'>\n"
     ]
    }
   ],
   "source": [
    "for res in result:\n",
    "    print(res)"
   ]
  },
  {
   "cell_type": "markdown",
   "id": "d6f1d72f-7b50-49ec-b1b4-bb9ea65028e8",
   "metadata": {},
   "source": [
    "## Zadania"
   ]
  },
  {
   "cell_type": "code",
   "execution_count": 44,
   "id": "d7a38474-5ee0-4973-95c2-74474452894b",
   "metadata": {},
   "outputs": [],
   "source": [
    "text = \"\"\"\n",
    "Adam Malinowski\n",
    ".gitignore\n",
    "2023-01-17 error \"Page not found\"\n",
    "[2025-03-06] NOTICE \"User admin logged in\"\n",
    "Code 3300 was invalid\n",
    "https://www.onet.pl 200 176353\n",
    "File /etc/passwd: permission denied\n",
    "Józef\n",
    "Ania\n",
    "JOLA\n",
    "marek\n",
    "Kowalski\n",
    "bodo363\n",
    "PIN 0000 was invalid\n",
    "/users/test is not a valid directory name\n",
    "192.168.0.1 access denied\n",
    "1000\n",
    "666\n",
    "\"\"\""
   ]
  },
  {
   "cell_type": "markdown",
   "id": "5e1a5bd7-c522-4496-8517-d8236017d340",
   "metadata": {},
   "source": [
    "Zadania wykonaj na zmiennej `text` zadeklarowanej powyżej.\n",
    "\n",
    "\n",
    "1. Wypisz wszystkie dopasowania dla linii rozpoczynających się wielką literą.\n",
    "2. Wypisz dopasowania zawierające cyfry.\n",
    "3. Wypisz całe linie zawierające kropkę.\n",
    "4. Wypisz liczby składające się z co najmniej 3 cyfr.\n",
    "5. Wypisz całe linie zawierające liczby składające się z co najmniej 3 cyfr.\n",
    "6. Wypisz całe linie zawierające tylko litery.\n",
    "7. Wypisz całe linie zawierające tylko cyfry.\n",
    "8. Wypisz dopasowania zawierające słowo `valid` lub `invalid`.\n",
    "9. Wypisz dopasowania zawierające datę w formacie `YYYY-MM-DD`.\n",
    "10. Wypisz dopasowania zawierające ścieżkę w formacie UNIX (/.../...).\n",
    "11. Wypisz dopasowania zawierającą adres IP w wersji 4.\n",
    "12. Wypisz tekst z każdego cytowania (tekst pomiędzy \" oraz \").\n",
    "13. Wypisz linie, których długość to dokładnie 4 znaki."
   ]
  }
 ],
 "metadata": {
  "kernelspec": {
   "display_name": "Python 3 (ipykernel)",
   "language": "python",
   "name": "python3"
  },
  "language_info": {
   "codemirror_mode": {
    "name": "ipython",
    "version": 3
   },
   "file_extension": ".py",
   "mimetype": "text/x-python",
   "name": "python",
   "nbconvert_exporter": "python",
   "pygments_lexer": "ipython3",
   "version": "3.13.2"
  }
 },
 "nbformat": 4,
 "nbformat_minor": 5
}
