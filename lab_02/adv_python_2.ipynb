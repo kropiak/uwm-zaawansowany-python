{
 "cells": [
  {
   "cell_type": "markdown",
   "id": "d44e5477-84cd-484b-ba5c-58b55c66a54d",
   "metadata": {},
   "source": [
    "# Zaawansowany Python"
   ]
  },
  {
   "cell_type": "markdown",
   "id": "ff488514-52ca-43ee-8425-c24ebf1653d2",
   "metadata": {},
   "source": [
    "## lab 2 - Wybrane zagadnienia programowania obiektowego w Pythonie"
   ]
  },
  {
   "cell_type": "markdown",
   "id": "5fc4af90-8ed4-4561-bd67-52d1f75f94de",
   "metadata": {},
   "source": [
    "## 1. collections.namedtuple, typing.NamedTuple oraz Dataclass"
   ]
  },
  {
   "cell_type": "markdown",
   "id": "b0437d79-b949-48ec-9ce7-157e9c850203",
   "metadata": {},
   "source": [
    "Dokumentacja:\n",
    "\n",
    "* collections.namedtuple:\n",
    "  * https://docs.python.org/3/library/collections.html#collections.namedtuple\n",
    "* typing.NamedTuple:\n",
    "  * https://docs.python.org/3/library/typing.html#typing.NamedTuple\n",
    "* Dataclass:\n",
    "  * https://peps.python.org/pep-0557/\n",
    "  * https://docs.python.org/3/library/dataclasses.html\n"
   ]
  },
  {
   "cell_type": "markdown",
   "id": "421bffc4-cf86-480b-9df0-f6b8438b6c03",
   "metadata": {},
   "source": [
    "### 1.1 collections.namedtuple"
   ]
  },
  {
   "cell_type": "markdown",
   "id": "fd149f31-69e4-4a42-a2e8-57a57d7ceffb",
   "metadata": {},
   "source": [
    "Klasa `namedtuple` umożliwia stworzenie obiektu krotko-podobnego umożliwiającego donanie nazw do wartości, które możemy w ramach tego obiektu przechować. Zachowujemy wiele cech krotek, ale dodajemy również możliwości definicji cech jak przy tworzeniu własnych klas."
   ]
  },
  {
   "cell_type": "markdown",
   "id": "4c36d9f4-8cf0-4599-8bfe-0c41e7ef6661",
   "metadata": {},
   "source": [
    "**Listing 1**"
   ]
  },
  {
   "cell_type": "code",
   "execution_count": 2,
   "id": "823571ea-0c4c-4425-9e5b-624dc688c44e",
   "metadata": {},
   "outputs": [
    {
     "name": "stdout",
     "output_type": "stream",
     "text": [
      "User(firstname='Jan', lastname='Nowak', age=34, email='jan.nowak@student.uwm.edu.pl')\n"
     ]
    },
    {
     "ename": "AttributeError",
     "evalue": "can't set attribute",
     "output_type": "error",
     "traceback": [
      "\u001b[1;31m---------------------------------------------------------------------------\u001b[0m",
      "\u001b[1;31mAttributeError\u001b[0m                            Traceback (most recent call last)",
      "Cell \u001b[1;32mIn[2], line 11\u001b[0m\n\u001b[0;32m      8\u001b[0m \u001b[38;5;28mprint\u001b[39m(u)\n\u001b[0;32m     10\u001b[0m \u001b[38;5;66;03m# jak to z krotkami - są niemutowalne (niezmienne)\u001b[39;00m\n\u001b[1;32m---> 11\u001b[0m \u001b[43mu\u001b[49m\u001b[38;5;241;43m.\u001b[39;49m\u001b[43mfirstname\u001b[49m \u001b[38;5;241m=\u001b[39m \u001b[38;5;124m'\u001b[39m\u001b[38;5;124mAdam\u001b[39m\u001b[38;5;124m'\u001b[39m\n",
      "\u001b[1;31mAttributeError\u001b[0m: can't set attribute"
     ]
    }
   ],
   "source": [
    "from collections import namedtuple\n",
    "\n",
    "# definicja krotki nazwanej\n",
    "User = namedtuple('User', ['firstname','lastname','age','email'])\n",
    "\n",
    "# inicjalizacja obiektu krotki nazwanej\n",
    "u = User('Jan','Nowak',34,'jan.nowak@student.uwm.edu.pl')\n",
    "print(u)\n",
    "\n",
    "# jak to z krotkami - są niemutowalne (niezmienne)\n",
    "u.firstname = 'Adam'"
   ]
  },
  {
   "cell_type": "code",
   "execution_count": 43,
   "id": "651e1170-ddb2-4104-8301-033241196fec",
   "metadata": {},
   "outputs": [],
   "source": [
    "# dodajmy jeszcze jedną krotkę na potrzeby przykładu z wczytaniem danych z pliku\n",
    "\n",
    "Order = namedtuple('Order', 'Kraj, Sprzedawca, Data_zamowienia, idZamowienia, Utarg')"
   ]
  },
  {
   "cell_type": "markdown",
   "id": "79c21721-d778-46b2-aa7b-756c975ed777",
   "metadata": {},
   "source": [
    "Krotki nazwane mogą nam się przydać np. przy wczytywaniu danych z plików czy baz danych, gdzie chcemy na pewnym etapie mieć obiekt, którego nie można tak łatwo (celowo lub przypadkiem) zmodyfikować."
   ]
  },
  {
   "cell_type": "code",
   "execution_count": 44,
   "id": "6eeb1e4d-82c7-4167-9b21-ef908da256ee",
   "metadata": {},
   "outputs": [
    {
     "name": "stdout",
     "output_type": "stream",
     "text": [
      "Sprzedawca Utarg <class '__main__.Order'>\n",
      "Kowalski 440.00 <class '__main__.Order'>\n",
      "Sowiński 1863.40 <class '__main__.Order'>\n",
      "Peacock 1552.60 <class '__main__.Order'>\n",
      "Leverling 654.06 <class '__main__.Order'>\n"
     ]
    }
   ],
   "source": [
    "# plik z danymi jest dołączony do notebooka\n",
    "import csv\n",
    "\n",
    "# _make jest odpowiedzialne za utworzenie instancji obiektu krotki z przekazanych argumentów\n",
    "orders = map(Order._make, csv.reader(open(\"zamowienia.csv\", encoding='utf8'), delimiter=';'))\n",
    "orders = list(orders)\n",
    "\n",
    "for order in orders[:5]:\n",
    "    print(order.Sprzedawca, order.Utarg, type(order))"
   ]
  },
  {
   "cell_type": "code",
   "execution_count": 45,
   "id": "b9e96b1d-05e8-4e01-ae2d-17c89d421e38",
   "metadata": {},
   "outputs": [
    {
     "name": "stdout",
     "output_type": "stream",
     "text": [
      "Order(Kraj='Polska', Sprzedawca='Nowak', Data_zamowienia='2003-07-16', idZamowienia='10248', Utarg='440.00')\n"
     ]
    },
    {
     "data": {
      "text/plain": [
       "Order(Kraj='Polska', Sprzedawca='Kowalski', Data_zamowienia='2003-07-16', idZamowienia='10248', Utarg='440.00')"
      ]
     },
     "execution_count": 45,
     "metadata": {},
     "output_type": "execute_result"
    }
   ],
   "source": [
    "# kilka wybranych metod i właściwości krotki nazwanej\n",
    "orders[1]._asdict()\n",
    "\n",
    "print(orders[1]._replace(Sprzedawca = 'Nowak'))\n",
    "# ale nie podmienia tego w trybie in place\n",
    "orders[1]"
   ]
  },
  {
   "cell_type": "code",
   "execution_count": 46,
   "id": "2b624c89-7717-400f-a216-d8c358072def",
   "metadata": {},
   "outputs": [
    {
     "name": "stdout",
     "output_type": "stream",
     "text": [
      "('Kraj', 'Sprzedawca', 'Data_zamowienia', 'idZamowienia', 'Utarg')\n"
     ]
    }
   ],
   "source": [
    "print(orders[1]._fields)"
   ]
  },
  {
   "cell_type": "code",
   "execution_count": 47,
   "id": "1217a259-e9b3-4d0c-a7ff-40fd12a86d38",
   "metadata": {},
   "outputs": [
    {
     "data": {
      "text/plain": [
       "{'x': 0, 'y': 0}"
      ]
     },
     "execution_count": 47,
     "metadata": {},
     "output_type": "execute_result"
    }
   ],
   "source": [
    "# istnieje również możliwość zdefiniowania wartości domyślnej, nieco w ograniczony sposób\n",
    "Point = namedtuple('Point', ['x','y'], defaults=[0,0])\n",
    "p = Point()\n",
    "p._asdict()"
   ]
  },
  {
   "cell_type": "code",
   "execution_count": 33,
   "id": "f5a219e2-979e-4724-b37e-0fd96a0d5045",
   "metadata": {},
   "outputs": [],
   "source": [
    "p1 = Point(2,2)"
   ]
  },
  {
   "cell_type": "code",
   "execution_count": 39,
   "id": "9c4d2e9f-0a32-4a79-8ae7-dadd529bcc9f",
   "metadata": {},
   "outputs": [
    {
     "name": "stdout",
     "output_type": "stream",
     "text": [
      "False True True\n"
     ]
    }
   ],
   "source": [
    "# klasyczne krotki nazwane dostarczają również domyślnej implementacji\n",
    "# metod zaimplementowanych w bazowej klasie tuple\n",
    "print(p > p1, 0 in p, len(p1) == 2)"
   ]
  },
  {
   "cell_type": "markdown",
   "id": "93bd9b4c-32d4-4327-87bc-ebceef9e6ddb",
   "metadata": {},
   "source": [
    "### 1.2 typing.NamedTuple"
   ]
  },
  {
   "cell_type": "markdown",
   "id": "62e1cfce-2279-406c-8681-884d143da8a4",
   "metadata": {},
   "source": [
    "Typowane krotki nazwane są slternatywną wersją dla klasycznych krotek nazwanych pozwalającą na zdefiniowanie wskazówek typu."
   ]
  },
  {
   "cell_type": "code",
   "execution_count": 42,
   "id": "760a32d8-be57-45e6-a0b5-47e647995f10",
   "metadata": {},
   "outputs": [
    {
     "data": {
      "text/plain": [
       "{'kraj': str,\n",
       " 'sprzedawca': str,\n",
       " 'data_zamowienia': str,\n",
       " 'id_zamowienia': int,\n",
       " 'utarg': float}"
      ]
     },
     "execution_count": 42,
     "metadata": {},
     "output_type": "execute_result"
    }
   ],
   "source": [
    "# dla ułatwienia nazwy pól zostały zamienione na bardziej odpowiednie dla Pythona\n",
    "from typing import NamedTuple\n",
    "\n",
    "\n",
    "class NewOrder(NamedTuple):\n",
    "    kraj: str\n",
    "    sprzedawca: str\n",
    "    data_zamowienia: str\n",
    "    id_zamowienia: int\n",
    "    utarg: float\n",
    "\n",
    "# dla ułatwiena introspekcji obiektów typu NamedTuple wsprowadzono dodatkowy atrybut\n",
    "NewOrder.__annotations__"
   ]
  },
  {
   "cell_type": "code",
   "execution_count": 60,
   "id": "ce5219bb-cbda-4f46-8413-a7b97a0ef306",
   "metadata": {},
   "outputs": [
    {
     "data": {
      "text/plain": [
       "(NewOrder(kraj='Polska', sprzedawca='Kowalski', data_zamowienia='2003-07-16', id_zamowienia='10248', utarg='440.00'),\n",
       " NewOrder(kraj='Polska', sprzedawca='Sowiński', data_zamowienia='2003-07-10', id_zamowienia='10249', utarg='1863.40'))"
      ]
     },
     "execution_count": 60,
     "metadata": {},
     "output_type": "execute_result"
    }
   ],
   "source": [
    "# mimo iż wskazówki typów są określone, to nie otrzymujemy żadnego ostrzeżenia jeżeli\n",
    "# przypisujemy wartości innych typów\n",
    "new_order_1 = NewOrder(*orders[1]._asdict().values())\n",
    "new_order_2 = NewOrder(*orders[2]._asdict().values())\n",
    "new_order_1, new_order_2"
   ]
  },
  {
   "cell_type": "code",
   "execution_count": 63,
   "id": "8e982834-3e70-487a-95db-0523c68c8983",
   "metadata": {},
   "outputs": [
    {
     "name": "stdout",
     "output_type": "stream",
     "text": [
      "False True\n"
     ]
    }
   ],
   "source": [
    "print(new_order_1 == new_order_2, new_order_1 < new_order_2)"
   ]
  },
  {
   "cell_type": "markdown",
   "id": "8e55874d-6d99-47a2-b76c-480148ebc5e7",
   "metadata": {},
   "source": [
    "Szczegółowe wyjaśnienie zasad porównywania krotek można znaleźć np.tu:\n",
    "\n",
    "https://www.askpython.com/python/tuple/tuple-comparison"
   ]
  },
  {
   "cell_type": "markdown",
   "id": "761ae51c-4486-4e6f-b3d7-17d1098a428e",
   "metadata": {},
   "source": [
    "### 1.2 Dataclass - klasy danych"
   ]
  },
  {
   "cell_type": "markdown",
   "id": "72c6bf13-f39b-4370-9838-10c4c2e574f3",
   "metadata": {},
   "source": [
    "> Dokumentacja: https://docs.python.org/3/library/dataclasses.html  \n",
    "> Specyfikacja: https://peps.python.org/pep-0557/\n",
    "\n",
    "Data class, która najczęściej używana jest jako dekorator, dostarcza rozwiązania pozwalającego stworzyć coś na wzór pojemnika na dane (struktury) z dodatkową możliwością automatycznego wygenerowania implementacji niektórych metod magicznych np. porównujących wartości atrybutów w tych klasach. Dataclass przechowuje właściwości w postaci pól (ang. `fields`), które mogą być typowane, ale poza pewnymi wyjątkami nie są one restrykcyjnie sprawdzane.\n",
    "\n",
    "Sygnatura dekoratora wygląda jak poniżej:  \n",
    "`def dataclass(*, init=True, repr=True, eq=True, order=False, unsafe_hash=False, frozen=False,\n",
    "           match_args=True, kw_only=False, slots=False, weakref_slot=False)`\n",
    "\n",
    "Atrybuty nazwane określają czy generowane ma być wskazana metoda. W przypadku init, repr oraz eq sytuacja jest dość czywista jeżeli chodzi o nazwy tych metod, ale warto wskazać, że dla agumentu order chodzi o metody  `__lt__()`, `__le__()`, `__gt__()`, and `__ge__()`.\n",
    "Atrybut `unsafe_hash` określa czy generowana będzie metoda `__hash__()`, której powstanie jest uzależnione od wartości atrybutów `eq` oraz `frozen` a cała logika jest dość mocno zawiła, więc odsyłam do dokumentacji podanej wcześniej. Atrybut `frozen` określa czy możliwe jest przypisywanie wartości do atrybutów po inicjalizacji obiektu, więc można stworzyś coś na wzór obiektu niemutowalnego."
   ]
  },
  {
   "cell_type": "code",
   "execution_count": 104,
   "id": "9de7686c-09b4-4c7d-8b6d-0fbf9e3b9eaf",
   "metadata": {},
   "outputs": [],
   "source": [
    "from dataclasses import dataclass, field, make_dataclass"
   ]
  },
  {
   "cell_type": "code",
   "execution_count": 80,
   "id": "678b9a68-b363-427a-aed4-3211456118ce",
   "metadata": {},
   "outputs": [
    {
     "name": "stdout",
     "output_type": "stream",
     "text": [
      "{}\n",
      "{'username': <class 'str'>, 'email': <class 'str'>, 'is_active': <class 'bool'>}\n",
      "False\n"
     ]
    },
    {
     "ename": "AttributeError",
     "evalue": "'User' object has no attribute 'username'",
     "output_type": "error",
     "traceback": [
      "\u001b[1;31m---------------------------------------------------------------------------\u001b[0m",
      "\u001b[1;31mAttributeError\u001b[0m                            Traceback (most recent call last)",
      "Cell \u001b[1;32mIn[80], line 11\u001b[0m\n\u001b[0;32m      9\u001b[0m \u001b[38;5;28mprint\u001b[39m(u\u001b[38;5;241m.\u001b[39m\u001b[38;5;18m__annotations__\u001b[39m)\n\u001b[0;32m     10\u001b[0m \u001b[38;5;28mprint\u001b[39m(u\u001b[38;5;241m.\u001b[39mis_admin)\n\u001b[1;32m---> 11\u001b[0m \u001b[38;5;28mprint\u001b[39m(\u001b[43mu\u001b[49m\u001b[38;5;241;43m.\u001b[39;49m\u001b[43musername\u001b[49m) \u001b[38;5;66;03m# błąd\u001b[39;00m\n",
      "\u001b[1;31mAttributeError\u001b[0m: 'User' object has no attribute 'username'"
     ]
    }
   ],
   "source": [
    "# klasyczna klasa z adnotacjami\n",
    "class User:\n",
    "    username: str # adnotacja\n",
    "    email: str # adnotacja\n",
    "    is_active: bool = False # adnotacja z wartością domyślną\n",
    "    is_admin = False # pole na poziomie klasy (nie instancji)\n",
    "\n",
    "u = User()\n",
    "print(u.__dict__)\n",
    "print(u.__annotations__)\n",
    "print(u.is_admin)\n",
    "print(u.username) # błąd"
   ]
  },
  {
   "cell_type": "code",
   "execution_count": 81,
   "id": "e9aa90d0-964d-4208-8980-9c5a40d3f258",
   "metadata": {},
   "outputs": [],
   "source": [
    "u.username = 'adept'"
   ]
  },
  {
   "cell_type": "code",
   "execution_count": 82,
   "id": "9a708e73-b60e-471d-8f10-fc8e61145dfe",
   "metadata": {},
   "outputs": [
    {
     "data": {
      "text/plain": [
       "{'username': 'adept'}"
      ]
     },
     "execution_count": 82,
     "metadata": {},
     "output_type": "execute_result"
    }
   ],
   "source": [
    "u.__dict__"
   ]
  },
  {
   "cell_type": "code",
   "execution_count": 83,
   "id": "a9308122-adfe-47a2-942c-47123305318d",
   "metadata": {},
   "outputs": [
    {
     "ename": "TypeError",
     "evalue": "User() takes no arguments",
     "output_type": "error",
     "traceback": [
      "\u001b[1;31m---------------------------------------------------------------------------\u001b[0m",
      "\u001b[1;31mTypeError\u001b[0m                                 Traceback (most recent call last)",
      "Cell \u001b[1;32mIn[83], line 1\u001b[0m\n\u001b[1;32m----> 1\u001b[0m u2 \u001b[38;5;241m=\u001b[39m \u001b[43mUser\u001b[49m\u001b[43m(\u001b[49m\u001b[38;5;124;43m'\u001b[39;49m\u001b[38;5;124;43mzealot\u001b[39;49m\u001b[38;5;124;43m'\u001b[39;49m\u001b[43m,\u001b[49m\u001b[43m \u001b[49m\u001b[38;5;124;43m'\u001b[39;49m\u001b[38;5;124;43mzealot@student.uwm.edu.pl\u001b[39;49m\u001b[38;5;124;43m'\u001b[39;49m\u001b[43m)\u001b[49m\n",
      "\u001b[1;31mTypeError\u001b[0m: User() takes no arguments"
     ]
    }
   ],
   "source": [
    "# domyślny konstruktor odziedziczony po klasie bazowej jest bezargumentowy\n",
    "# więc to nie zadziała\n",
    "u2 = User('zealot', 'zealot@student.uwm.edu.pl')"
   ]
  },
  {
   "cell_type": "code",
   "execution_count": 85,
   "id": "2ad4d3de-dc1e-4c9b-9098-8a78d2003180",
   "metadata": {},
   "outputs": [
    {
     "ename": "TypeError",
     "evalue": "User.__init__() missing 2 required positional arguments: 'username' and 'email'",
     "output_type": "error",
     "traceback": [
      "\u001b[1;31m---------------------------------------------------------------------------\u001b[0m",
      "\u001b[1;31mTypeError\u001b[0m                                 Traceback (most recent call last)",
      "Cell \u001b[1;32mIn[85], line 8\u001b[0m\n\u001b[0;32m      5\u001b[0m     is_active: \u001b[38;5;28mbool\u001b[39m \u001b[38;5;241m=\u001b[39m \u001b[38;5;28;01mFalse\u001b[39;00m \u001b[38;5;66;03m# adnotacja z wartością domyślną\u001b[39;00m\n\u001b[0;32m      6\u001b[0m     is_admin \u001b[38;5;241m=\u001b[39m \u001b[38;5;28;01mFalse\u001b[39;00m \u001b[38;5;66;03m# pole na poziomie klasy (nie instancji)\u001b[39;00m\n\u001b[1;32m----> 8\u001b[0m u \u001b[38;5;241m=\u001b[39m \u001b[43mUser\u001b[49m\u001b[43m(\u001b[49m\u001b[43m)\u001b[49m\n",
      "\u001b[1;31mTypeError\u001b[0m: User.__init__() missing 2 required positional arguments: 'username' and 'email'"
     ]
    }
   ],
   "source": [
    "@dataclass\n",
    "class User:\n",
    "    username: str # adnotacja\n",
    "    email: str # adnotacja\n",
    "    is_active: bool = False # adnotacja z wartością domyślną\n",
    "    is_admin = False # pole na poziomie klasy (nie instancji)\n",
    "\n",
    "u = User()"
   ]
  },
  {
   "cell_type": "markdown",
   "id": "901deed1-64f8-4965-8fa4-4602e57f7d46",
   "metadata": {},
   "source": [
    "Powyższy błąd wynika z faktu, że domyślnie `init=True` w sygnaturze dekoratora `@dataclass`. Możemy albo zmienić wartość tego atrybutu przy inicjalizacji albo kontruować obiekty podając wymagane argumenty."
   ]
  },
  {
   "cell_type": "code",
   "execution_count": 95,
   "id": "d1b51c2e-57d0-4e69-b42b-f844a45bb770",
   "metadata": {},
   "outputs": [
    {
     "name": "stdout",
     "output_type": "stream",
     "text": [
      "User(username='zealot', email='zealot@student.uwm.edu.pl', is_active=True)\n"
     ]
    }
   ],
   "source": [
    "u = User('zealot','zealot@student.uwm.edu.pl', True)\n",
    "print(u) # domyślnie repr=True, więc zobaczymy coś więcej niż domyślny łańcuch znaków dla obiektu"
   ]
  },
  {
   "cell_type": "code",
   "execution_count": 96,
   "id": "2e184b74-2ea6-4780-8441-9794e327c66e",
   "metadata": {},
   "outputs": [
    {
     "data": {
      "text/plain": [
       "True"
      ]
     },
     "execution_count": 96,
     "metadata": {},
     "output_type": "execute_result"
    }
   ],
   "source": [
    "from copy import deepcopy\n",
    "u1 = deepcopy(u)\n",
    "u == u1"
   ]
  },
  {
   "cell_type": "code",
   "execution_count": 98,
   "id": "a395795a-ce96-4478-aa15-ccdba4c1753e",
   "metadata": {},
   "outputs": [
    {
     "name": "stdout",
     "output_type": "stream",
     "text": [
      "User(username='adept', email='zealot@student.uwm.edu.pl', is_active=True)\n",
      "User(username='zealot', email='zealot@student.uwm.edu.pl', is_active=True)\n"
     ]
    },
    {
     "data": {
      "text/plain": [
       "False"
      ]
     },
     "execution_count": 98,
     "metadata": {},
     "output_type": "execute_result"
    }
   ],
   "source": [
    "u1.username = 'adept'\n",
    "print(u1)\n",
    "print(u)\n",
    "u == u1"
   ]
  },
  {
   "cell_type": "code",
   "execution_count": 101,
   "id": "852b61d2-821f-4607-8379-f503f83ce708",
   "metadata": {},
   "outputs": [],
   "source": [
    "# pola klasy dataclass można również deklarować z użyciem jawnego wywołania dataclass.field\n",
    "# sygnatura: dataclasses.field(*, default=MISSING, default_factory=MISSING, init=True, repr=True, \n",
    "# hash=None, compare=True, metadata=None, kw_only=MISSING)\n",
    "# więcej: https://docs.python.org/3/library/dataclasses.html#dataclasses.field\n",
    "@dataclass\n",
    "class User:\n",
    "    username: str # adnotacja\n",
    "    email: str = field(repr=False)\n",
    "    is_active: bool = False # adnotacja z wartością domyślną\n",
    "    is_admin = False # pole na poziomie klasy (nie instancji)"
   ]
  },
  {
   "cell_type": "code",
   "execution_count": 102,
   "id": "831a18e6-96d4-499b-b4ef-0b3ce8065612",
   "metadata": {},
   "outputs": [
    {
     "name": "stdout",
     "output_type": "stream",
     "text": [
      "User(username='zealot', is_active=True)\n"
     ]
    }
   ],
   "source": [
    "u = User('zealot','zealot@student.uwm.edu.pl', True)\n",
    "print(u)"
   ]
  },
  {
   "cell_type": "markdown",
   "id": "9ae2c99b-429a-400c-968c-adc680bb9a06",
   "metadata": {},
   "source": [
    "Możliwe jest również dynamiczne tworzenie definicji klasy danych. Przykład z oficjalnej dokumentacji poniżej."
   ]
  },
  {
   "cell_type": "code",
   "execution_count": 105,
   "id": "c095c7c6-0c9c-42f3-a4bc-de79a328b3b1",
   "metadata": {},
   "outputs": [],
   "source": [
    "C = make_dataclass('C',\n",
    "                   [('x', int),\n",
    "                     'y',\n",
    "                    ('z', int, field(default=5))],\n",
    "                   namespace={'add_one': lambda self: self.x + 1})"
   ]
  },
  {
   "cell_type": "code",
   "execution_count": 106,
   "id": "514523d4-2bd7-4847-8346-9930f39dba83",
   "metadata": {},
   "outputs": [],
   "source": [
    "# ekwiwalent w postaci deklaracji klasy\n",
    "@dataclass\n",
    "class C:\n",
    "    x: int\n",
    "    y: 'typing.Any'\n",
    "    z: int = 5\n",
    "\n",
    "    def add_one(self):\n",
    "        return self.x + 1"
   ]
  },
  {
   "cell_type": "markdown",
   "id": "f105fe27-e2d6-4504-bea4-b3207bfa334d",
   "metadata": {},
   "source": [
    "**Zadania**\n",
    "\n",
    "\n",
    "\n",
    "**Zadanie 1**  \n",
    "Wykorzystując przykłady stwórz funkcję, która stworzy (i zwróci) klasyczną krotkę nazwaną o nazwie `Order`, ale pola w niej zdefiniowane będą dynamiczne, na podstawie wartości z pierwszego wiersza pliku zamowienia.csv. Te nazwy powinny być zamienione na małe znaki i spacje zamienione na znak `_`. Wczytaj dane z pliku opakowując każdy wiersz w tę krotkę i wyświetl pierwsze 10 wierszy (pomijając nagłówkowy).\n",
    "\n",
    "**Zadanie 2**  \n",
    "Wykorzystaj krotkę `Point` z przykładów a następnie napisz kod, który przetestuje wszystkie metody porównywania krotek (sprawdź, które metody magiczne są przeciążone), wybrane operacje arytmetyczne (o ile są możliwe).\n",
    "\n",
    "**Zadanie 3**  \n",
    "Mając do dyspozycji słownik poniższej postaci stwórz funkcję, króta odczyta dane z tego słownika i dynamicznie (za pomocą make_dataclass) będzie tworzyło klasy danych na jego podstawie.\n",
    "\n",
    "```python\n",
    "slownik = {\n",
    "    1 : {\n",
    "        'class_name': 'Osoba', \n",
    "        'props': [('name', 'str'), ('is_admin', 'bool', 'False')]},\n",
    "    2 : {\n",
    "        'class_name': 'Produkt', \n",
    "        'props': [('name', 'str'), ('price', 'float', '0.0'), ('quantity', 'float', '0.0')]}\n",
    "    }\n",
    "```"
   ]
  }
 ],
 "metadata": {
  "kernelspec": {
   "display_name": "Python 3 (ipykernel)",
   "language": "python",
   "name": "python3"
  },
  "language_info": {
   "codemirror_mode": {
    "name": "ipython",
    "version": 3
   },
   "file_extension": ".py",
   "mimetype": "text/x-python",
   "name": "python",
   "nbconvert_exporter": "python",
   "pygments_lexer": "ipython3",
   "version": "3.13.2"
  }
 },
 "nbformat": 4,
 "nbformat_minor": 5
}
