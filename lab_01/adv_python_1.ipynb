{
 "cells": [
  {
   "cell_type": "markdown",
   "metadata": {},
   "source": [
    "# Lab 1. Wybrane zagadnienia programowania obiektowego w Pythonie."
   ]
  },
  {
   "cell_type": "markdown",
   "metadata": {},
   "source": [
    "## 1. Cykl życia obiektu."
   ]
  },
  {
   "cell_type": "markdown",
   "metadata": {},
   "source": [
    "**Listing 1**"
   ]
  },
  {
   "cell_type": "code",
   "execution_count": 19,
   "metadata": {},
   "outputs": [
    {
     "name": "stdout",
     "output_type": "stream",
     "text": [
      "__new__()\n",
      "__init__()\n",
      "Testowy obiekt \n",
      "1\n",
      "foo foo\n",
      "{'foo': 'foo foo', 'so_what': 'Who am I?'}\n",
      "__del__()\n",
      "__new__()\n",
      "__init__()\n",
      "__del__()\n",
      "2\n",
      "foo foo\n",
      "{'foo': 'foo foo'}\n"
     ]
    }
   ],
   "source": [
    "class Dummy():\n",
    "    # a to poniżej to docstring\n",
    "    \"\"\" Testowy obiekt \"\"\"\n",
    "\n",
    "    # zmienna klasowa - współdzielona pomiędzy instancje klasy Dummy\n",
    "    class_counter = 0\n",
    "\n",
    "    # inicjalizator\n",
    "    def __init__(self):\n",
    "        print(\"__init__()\")\n",
    "        # dostęp do zmiennej klasowej odbywa się jak poniżej\n",
    "        Dummy.class_counter += 1\n",
    "        # zmienna instancji\n",
    "        self.foo = 'foo foo'\n",
    "\n",
    "    # metoda new() jest wywoływana przed inicjalizatorem\n",
    "    # i zwraca obiekt wywoływanego typu (czyli tu Dummy)\n",
    "    # można to nazwać konstruktorem\n",
    "    def __new__(cls, *args, **kwargs):\n",
    "        print('__new__()')\n",
    "        return super().__new__(cls)\n",
    "\n",
    "    # metoda del jest wywoływana w momencie usuwania obiektu z pamięci\n",
    "    # czyli w momencie \"śmierci\" obiektu (spadek liczby referencji do 0 do obszaru\n",
    "    # w pamięci zajmowanego przez obiekt), nazywana destruktorem\n",
    "    def __del__(self):\n",
    "        print('__del__()')\n",
    "\n",
    "\n",
    "d = Dummy()\n",
    "print(d.__doc__)\n",
    "print(d.class_counter)\n",
    "print(d.foo)\n",
    "\n",
    "# zmienna obiektu\n",
    "d.so_what = 'Who am I?'\n",
    "\n",
    "print(d.__dict__)\n",
    "\n",
    "del d\n",
    "\n",
    "d1 = Dummy()\n",
    "print(d1.class_counter)\n",
    "print(d1.foo)\n",
    "print(d1.__dict__)\n"
   ]
  },
  {
   "cell_type": "markdown",
   "metadata": {},
   "source": [
    "**Listing 2**"
   ]
  },
  {
   "cell_type": "code",
   "execution_count": null,
   "metadata": {},
   "outputs": [
    {
     "name": "stdout",
     "output_type": "stream",
     "text": [
      "<class '__main__.whoops'> <class '__main__.whoopsi'>\n"
     ]
    }
   ],
   "source": [
    "# czy to jest poprawny składniowo kod Python?\n",
    "class whoops: pass\n",
    "\n",
    "wh = whoops()\n",
    "\n",
    "# a to?\n",
    "class whoopsi: ...\n",
    "\n",
    "\n",
    "# podobny do powyższego zapis znajdziemy w plikach z rozszerzeniem .pyi, które są plikami zawierającymi\n",
    "# tylko szkielet (ang. stub), który może zawierać tylko sygnatury funkcji, klas i ich metod\n",
    "# które pełnią funkcję interfejsów w Pythonie, których nie możemy implementować w sposób znany chociażby\n",
    "# z języka Java czy C#. Można to np. zobaczyć w pliku builtins.pyi, ale i wielu innych\n",
    "\n",
    "\n",
    "wh2 = whoopsi()\n",
    "print(wh.__class__, wh2.__class__)\n"
   ]
  },
  {
   "cell_type": "markdown",
   "metadata": {},
   "source": [
    "Więcej o wyrażeniu `pass`: https://docs.python.org/3/tutorial/controlflow.html#pass-statements\n",
    "\n",
    "Więcej o wyrażeniu `...` (Ellipsis): https://docs.python.org/3/library/constants.html#Ellipsis"
   ]
  },
  {
   "cell_type": "markdown",
   "metadata": {},
   "source": [
    "**Listing 3** - to tylko prezentacja pewnej idei, ale nie jest to ani kompletna, ani zalecana metoda implementacji wzorca Singleton w Pythonie. Nie rób tego w domu!"
   ]
  },
  {
   "cell_type": "code",
   "execution_count": null,
   "metadata": {},
   "outputs": [
    {
     "name": "stdout",
     "output_type": "stream",
     "text": [
      "__new__()\n",
      "__init__()\n",
      "2120635527728\n",
      "__new__()\n",
      "__init__()\n",
      "To Singleton\n",
      "2120635527728\n"
     ]
    }
   ],
   "source": [
    "# poniższy przykład prezentuje jak można osiągnąć niezbyt funkcjonalna i nie kompletną (np. nie ma obsługi atrybutów konstruktora)\n",
    "# implementację wzorca singleton, czyli ograniczenie możliwości tworzenia instancji danego obiektu tylko do 1 sztuki\n",
    "class DummySingleton():\n",
    "    \"\"\" Testowy obiekt \"\"\"\n",
    "\n",
    "    instance = None\n",
    "\n",
    "    def __init__(self):\n",
    "        print(\"__init__()\")\n",
    "\n",
    "    def __new__(cls):\n",
    "        print('__new__()')\n",
    "        if DummySingleton.instance is None:\n",
    "            DummySingleton.instance = object.__new__(cls)\n",
    "            \n",
    "        return DummySingleton.instance\n",
    "\n",
    "    def __del__(self):\n",
    "        print('__del__()')\n",
    "\n",
    "single = DummySingleton()\n",
    "single.name = \"To Singleton\"\n",
    "print(id(single))\n",
    "\n",
    "single2 = DummySingleton()\n",
    "print(single2.name)\n",
    "print(id(single2))"
   ]
  },
  {
   "cell_type": "markdown",
   "metadata": {},
   "source": [
    "## 2. Wybrane metody magiczne modelu danych Pythona."
   ]
  },
  {
   "cell_type": "markdown",
   "metadata": {},
   "source": [
    "Poniżej przedstawione zostaną przykłady działania wybranych metod magicznych modelu danych Pythona. Niektóre z nich zostana również zaprezentowane w działaniu poprzez ich przeciążenie (w odniesieniu do Pythona używa się często terminu **przeciążanie operatorów**) we własnych definicjach klas.  \n",
    "\n",
    "**Listing 4**"
   ]
  },
  {
   "cell_type": "code",
   "execution_count": null,
   "metadata": {},
   "outputs": [
    {
     "name": "stdout",
     "output_type": "stream",
     "text": [
      "False\n",
      "True\n",
      "Square(2)  +  Square(3)  to  Square(3.605551275463989)\n",
      "Square(6)\n",
      "Square(1.0)\n",
      "False\n"
     ]
    }
   ],
   "source": [
    "class Square:\n",
    "    \"\"\" Klasa do obsługi figury typu kwadrat\"\"\"\n",
    "\n",
    "    def __init__(self, side=1):\n",
    "        self.side = side\n",
    "    \n",
    "    def __str__(self) -> str:\n",
    "        return f\"Square({self.side})\"\n",
    "    \n",
    "    # tu możemy się zastanowić jak zrealizować dodawanie dwóch kwadratów\n",
    "    # czy sumujemy długość boku (stworzymy kwadrat o boku, który opisuje dwa kwadraty?, czy też sumujemy pole i wyznaczamy nową wartość size?\n",
    "    # przyjmijmy ten drugi scenariusz\n",
    "    # nazwa pierwszego argumenty metody, która w dokumentacji zawsze nosi nazwę self, jest tylko umową, ale wymogiem jest to, że będzie przekazywana\n",
    "    # do metody zawsze jako pierwszy argument. Więc jak wolimy this to ...\n",
    "    def __add__(this, other):\n",
    "        import math\n",
    "        if isinstance(other, type(this)):\n",
    "            new_side = math.sqrt(this.side**2 + other.side**2)\n",
    "            return type(this)(new_side)\n",
    "        else:\n",
    "            raise TypeError(\n",
    "                \"unsupported operand for +: \"\n",
    "                f\"'{type(this).__name__}' and '{type(other).__name__}'\"\n",
    "            )\n",
    "    \n",
    "    def __mul__(self, scale: int | float):\n",
    "        return Square(self.side * scale)\n",
    "    \n",
    "    def __truediv__(self, scale: int | float):\n",
    "        return Square(self.side / scale)\n",
    "    \n",
    "    def __eq__(self, other):\n",
    "        if isinstance(other, Square):\n",
    "        # lub\n",
    "        # if isinstance(other, type(self)):\n",
    "            return self.side == other.side\n",
    "        return False\n",
    "\n",
    "\n",
    "if __name__ == '__main__':\n",
    "    s = Square(2)\n",
    "    s2 = Square(3)\n",
    "\n",
    "    print(s, ' + ', s2, ' to ', s + s2)\n",
    "    print(s * 3)\n",
    "    print(s / 2)\n",
    "    print(s == s2)"
   ]
  },
  {
   "cell_type": "markdown",
   "metadata": {},
   "source": [
    "**Listing 5**\n",
    "\n",
    "Ten listing przedstawia trzy sposoby na implementację klasy z abstrakcyjnymi metodami. Metody abstrakcyjne to takie, które w miejscu ich zdefiniowania nie poasiadają ciała (implementacji) i należy ją zapewnić w klasie potomnej (czyli dziedziczącej po niej)."
   ]
  },
  {
   "cell_type": "code",
   "execution_count": null,
   "metadata": {},
   "outputs": [
    {
     "ename": "NotImplementedError",
     "evalue": "Należy zaimplementować tę metodę",
     "output_type": "error",
     "traceback": [
      "\u001b[1;31m---------------------------------------------------------------------------\u001b[0m",
      "\u001b[1;31mNotImplementedError\u001b[0m                       Traceback (most recent call last)",
      "Cell \u001b[1;32mIn[33], line 20\u001b[0m\n\u001b[0;32m     18\u001b[0m \u001b[38;5;28;01mif\u001b[39;00m \u001b[38;5;18m__name__\u001b[39m \u001b[38;5;241m==\u001b[39m \u001b[38;5;124m\"\u001b[39m\u001b[38;5;124m__main__\u001b[39m\u001b[38;5;124m\"\u001b[39m:\n\u001b[0;32m     19\u001b[0m     c \u001b[38;5;241m=\u001b[39m Circle(\u001b[38;5;241m5\u001b[39m)\n\u001b[1;32m---> 20\u001b[0m     c2 \u001b[38;5;241m=\u001b[39m \u001b[43mCircleEmpty\u001b[49m\u001b[43m(\u001b[49m\u001b[43m)\u001b[49m\n",
      "Cell \u001b[1;32mIn[33], line 6\u001b[0m, in \u001b[0;36mFigure.__init__\u001b[1;34m(self)\u001b[0m\n\u001b[0;32m      5\u001b[0m \u001b[38;5;28;01mdef\u001b[39;00m\u001b[38;5;250m \u001b[39m\u001b[38;5;21m__init__\u001b[39m(\u001b[38;5;28mself\u001b[39m):\n\u001b[1;32m----> 6\u001b[0m     \u001b[38;5;28;01mraise\u001b[39;00m \u001b[38;5;167;01mNotImplementedError\u001b[39;00m(\u001b[38;5;124m\"\u001b[39m\u001b[38;5;124mNależy zaimplementować tę metodę\u001b[39m\u001b[38;5;124m\"\u001b[39m)\n",
      "\u001b[1;31mNotImplementedError\u001b[0m: Należy zaimplementować tę metodę"
     ]
    }
   ],
   "source": [
    "# sposób 1 - wyrzucanie wyjątku NotImplementedError\n",
    "\n",
    "class Figure:\n",
    "\n",
    "    def __init__(self):\n",
    "        raise NotImplementedError(\"Należy zaimplementować tę metodę\")\n",
    "    def get_area(self): \n",
    "        raise NotImplementedError(\"Należy zaimplementować tę metodę\")\n",
    "\n",
    "class CircleEmpty(Figure):\n",
    "    pass\n",
    "\n",
    "class Circle(Figure):\n",
    "\n",
    "    def __init__(self, radius):\n",
    "        self.radius = radius\n",
    "\n",
    "if __name__ == \"__main__\":\n",
    "    c = Circle(5)\n",
    "    c2 = CircleEmpty()"
   ]
  },
  {
   "cell_type": "code",
   "execution_count": null,
   "metadata": {},
   "outputs": [
    {
     "ename": "AssertionError",
     "evalue": "Należy zaimplementować tę metodę",
     "output_type": "error",
     "traceback": [
      "\u001b[1;31m---------------------------------------------------------------------------\u001b[0m",
      "\u001b[1;31mAssertionError\u001b[0m                            Traceback (most recent call last)",
      "Cell \u001b[1;32mIn[34], line 20\u001b[0m\n\u001b[0;32m     18\u001b[0m \u001b[38;5;28;01mif\u001b[39;00m \u001b[38;5;18m__name__\u001b[39m \u001b[38;5;241m==\u001b[39m \u001b[38;5;124m\"\u001b[39m\u001b[38;5;124m__main__\u001b[39m\u001b[38;5;124m\"\u001b[39m:\n\u001b[0;32m     19\u001b[0m     c \u001b[38;5;241m=\u001b[39m Circle(\u001b[38;5;241m5\u001b[39m)\n\u001b[1;32m---> 20\u001b[0m     c2 \u001b[38;5;241m=\u001b[39m \u001b[43mCircleEmpty\u001b[49m\u001b[43m(\u001b[49m\u001b[43m)\u001b[49m\n",
      "Cell \u001b[1;32mIn[34], line 6\u001b[0m, in \u001b[0;36mFigure.__init__\u001b[1;34m(self)\u001b[0m\n\u001b[0;32m      5\u001b[0m \u001b[38;5;28;01mdef\u001b[39;00m\u001b[38;5;250m \u001b[39m\u001b[38;5;21m__init__\u001b[39m(\u001b[38;5;28mself\u001b[39m):\n\u001b[1;32m----> 6\u001b[0m     \u001b[38;5;28;01massert\u001b[39;00m \u001b[38;5;28;01mFalse\u001b[39;00m, \u001b[38;5;124m\"\u001b[39m\u001b[38;5;124mNależy zaimplementować tę metodę\u001b[39m\u001b[38;5;124m\"\u001b[39m\n",
      "\u001b[1;31mAssertionError\u001b[0m: Należy zaimplementować tę metodę"
     ]
    }
   ],
   "source": [
    "# sposób 2 - użycie instrukcji assert\n",
    "\n",
    "class Figure:\n",
    "\n",
    "    def __init__(self):\n",
    "        assert False, \"Należy zaimplementować tę metodę\"\n",
    "    def get_area(self): \n",
    "        assert False, \"Należy zaimplementować tę metodę\"\n",
    "\n",
    "class CircleEmpty(Figure):\n",
    "    pass\n",
    "\n",
    "class Circle(Figure):\n",
    "\n",
    "    def __init__(self, radius):\n",
    "        self.radius = radius\n",
    "\n",
    "if __name__ == \"__main__\":\n",
    "    c = Circle(5)\n",
    "    c2 = CircleEmpty()"
   ]
  },
  {
   "cell_type": "code",
   "execution_count": null,
   "metadata": {},
   "outputs": [
    {
     "ename": "TypeError",
     "evalue": "Can't instantiate abstract class CircleEmpty without an implementation for abstract methods '__init__', 'get_field'",
     "output_type": "error",
     "traceback": [
      "\u001b[1;31m---------------------------------------------------------------------------\u001b[0m",
      "\u001b[1;31mTypeError\u001b[0m                                 Traceback (most recent call last)",
      "Cell \u001b[1;32mIn[2], line 27\u001b[0m\n\u001b[0;32m     25\u001b[0m \u001b[38;5;28;01mif\u001b[39;00m \u001b[38;5;18m__name__\u001b[39m \u001b[38;5;241m==\u001b[39m \u001b[38;5;124m\"\u001b[39m\u001b[38;5;124m__main__\u001b[39m\u001b[38;5;124m\"\u001b[39m:\n\u001b[0;32m     26\u001b[0m     c \u001b[38;5;241m=\u001b[39m Circle(\u001b[38;5;241m5\u001b[39m)\n\u001b[1;32m---> 27\u001b[0m     c2 \u001b[38;5;241m=\u001b[39m \u001b[43mCircleEmpty\u001b[49m\u001b[43m(\u001b[49m\u001b[43m)\u001b[49m\n",
      "\u001b[1;31mTypeError\u001b[0m: Can't instantiate abstract class CircleEmpty without an implementation for abstract methods '__init__', 'get_field'"
     ]
    }
   ],
   "source": [
    "# sposób 3 - z użyciem klas ABC (Abstract Base Classes) - tutaj tylko prosty przykład, bardziej szczegółowo\n",
    "# klasami ABC zajmiemy się na kolejnych laboratoriach\n",
    "from abc import ABCMeta, abstractmethod\n",
    "\n",
    "class Figure(metaclass=ABCMeta):\n",
    "\n",
    "    @abstractmethod\n",
    "    def __init__(self): pass\n",
    "\n",
    "    @abstractmethod\n",
    "    def get_area(self): ...\n",
    "\n",
    "class CircleEmpty(Figure):\n",
    "    pass\n",
    "\n",
    "class Circle(Figure):\n",
    "\n",
    "    def __init__(self, radius):\n",
    "        self.radius = radius\n",
    "\n",
    "    def get_area(self):\n",
    "        import math\n",
    "        return (math.PI * self.radius) ** 2\n",
    "\n",
    "if __name__ == \"__main__\":\n",
    "    c = Circle(5)\n",
    "    c2 = CircleEmpty()"
   ]
  },
  {
   "cell_type": "markdown",
   "metadata": {},
   "source": [
    "W poniższym przykładzie wykorzystamy magiczne metody, które są częściej wykorzystywane dla kolekcji.  \n",
    "\n",
    "**Listing 6**"
   ]
  },
  {
   "cell_type": "code",
   "execution_count": null,
   "metadata": {},
   "outputs": [
    {
     "name": "stdout",
     "output_type": "stream",
     "text": [
      "KoloFortuny([(1, Field(100)), (2, Field(Bankrut)), (3, Field(50)), (4, Field(300)), (5, Field(Niespodzianka)), (6, Field(1000))])\n",
      "Field(300)\n",
      "(1, Field(100))\n",
      "(2, Field(Bankrut))\n",
      "(3, Field(50))\n",
      "(4, Field(750))\n",
      "(5, Field(Niespodzianka))\n",
      "(6, Field(1000))\n",
      "True\n",
      "()\n",
      "{'imie': 'Marek', 'nazwisko': 'Malinowski'}\n",
      "(1, 2, 3, 6, 34, 5)\n",
      "{}\n",
      "Adam\n"
     ]
    }
   ],
   "source": [
    "class Field:\n",
    "\n",
    "    def __init__(self, value):\n",
    "        self.value = value\n",
    "    \n",
    "    def __str__(self):\n",
    "        return f\"Field({self.value})\"\n",
    "    \n",
    "    def __repr__(self):\n",
    "        return self.__str__()\n",
    "    \n",
    "    def __eq__(self, other):\n",
    "        if isinstance(other, type(self)):\n",
    "            return self.value == other.value\n",
    "        else:\n",
    "            return False\n",
    "\n",
    "\n",
    "class KoloFortuny:\n",
    "\n",
    "    def __init__(self, *fields):\n",
    "        self.fields = [tuple[int, Field]]\n",
    "        if fields:\n",
    "            self.fields = list(zip(range(1, len(fields) + 1), [Field(val) for val in fields]))\n",
    "\n",
    "    def __str__(self):\n",
    "        return f\"KoloFortuny({self.fields})\"\n",
    "    \n",
    "    def __getitem__(self, idx):\n",
    "        return self.fields[idx][1]\n",
    "    \n",
    "    def __setitem__(self, idx, val:Field):\n",
    "        if isinstance(val, Field):\n",
    "            self.fields[idx] = (idx + 1, val)\n",
    "        else:\n",
    "            raise TypeError(\"Można wstawić tylko wartość typu Field!\")\n",
    "    \n",
    "    def __iter__(self):\n",
    "        return iter(self.fields)\n",
    "    \n",
    "    def __contains__(self, other):\n",
    "        if isinstance(other, Field):\n",
    "            return other in [val for _, val in self.fields]\n",
    "        else:\n",
    "            raise TypeError(\"Nie umiem znaleźć innych elementów niż te typu Field!\")\n",
    "\n",
    "\n",
    "if __name__ == '__main__':\n",
    "\n",
    "    kolo = KoloFortuny(100, 'Bankrut', 50, 300, 'Niespodzianka', 1000)\n",
    "    print(kolo)\n",
    "    print(kolo[3])\n",
    "    kolo[3] = Field(750)\n",
    "    # odkomentuj poniższą linię i sprawdź działanie\n",
    "    # kolo[3] = 750\n",
    "\n",
    "    for field in kolo:\n",
    "        print(field)\n",
    "    \n",
    "    print(Field(750) in kolo)\n",
    "\n",
    "\n"
   ]
  },
  {
   "cell_type": "markdown",
   "metadata": {},
   "source": [
    "## Zadania do wykonania\n",
    "\n",
    "\n",
    "1. W klasie `Square`:\n",
    "   * dziedziczenie po klasie `Figure` - pamiętaj o implementacji wymaganych metod\n",
    "   * dodaj przeciążony operator `__iadd__` i zaiplementuj jego działanie analogicznie do logiki w metodzie `__add__`,\n",
    "   * dodaj przeciążony operator `__radd__`, ale powinien działać poprawnie tylko dla dodawania do instancji klasy `Square` wartości typu `int`\n",
    "   * zmodyfikuj kod metod `__iadd__` oraz `__add__`, aby dla typów `int` działały tak samo jak `__radd__`\n",
    "   * dodaj odpowiedni kod testujący powyższe funkcjonalności\n",
    "\n",
    "2. W klasie `Figure`:\n",
    "   *  dodaj abstrakcyjną metodę `get_circumference` (zwracanie obwodu figury) i zaimplementuj je w klasie `Circle` oraz `Square`. Zapisz kod testujący poprawne działanie tej funkcjonalności,\n",
    "   *  zastanów się czy możliwe jest przeciążenie operatorów `__gt__` oraz `__lt__` w tej klasie tak, aby porównywane było pole figur? Zaimplementuj odpowiednie rozwiązanie.\n",
    "  \n",
    "3. W klasie `Field` zaimplementuj:\n",
    "   * przeciążenie operatora `__setattr__` dla atrybutu `value` z poniższymi zasadami:\n",
    "     * jeżeli ustawiamy wartość tego atrybutu jako typ `int` to możliwe jest przypisanie wartości z zakresu 10 - 2000\n",
    "     * jeżeli jest to typ `str` to można przypisać cokolwiek\n",
    "     * w innym przypadku rzucamy wyjątek `TypeError`\n",
    "     * napisz kod testujący te funkcjonalności.\n"
   ]
  },
  {
   "cell_type": "markdown",
   "metadata": {},
   "source": [
    "## Ciekawe informacje o Pythonie w kontekście \"zaawansowane\":\n",
    "\n",
    "* https://leanpub.com/insidethepythonvirtualmachine/read\n",
    "* https://github.com/python/cpython\n",
    "* https://www.geeksforgeeks.org/python-virtual-machine/\n",
    "* https://www.geeksforgeeks.org/python-vs-cpython/"
   ]
  }
 ],
 "metadata": {
  "kernelspec": {
   "display_name": "venv",
   "language": "python",
   "name": "python3"
  },
  "language_info": {
   "codemirror_mode": {
    "name": "ipython",
    "version": 3
   },
   "file_extension": ".py",
   "mimetype": "text/x-python",
   "name": "python",
   "nbconvert_exporter": "python",
   "pygments_lexer": "ipython3",
   "version": "3.13.2"
  }
 },
 "nbformat": 4,
 "nbformat_minor": 2
}
