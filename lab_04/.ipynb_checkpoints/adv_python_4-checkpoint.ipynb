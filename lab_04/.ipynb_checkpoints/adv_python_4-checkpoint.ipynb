{
 "cells": [
  {
   "cell_type": "markdown",
   "id": "7029a591-7ac7-49eb-aae7-ad79b6fd7c1a",
   "metadata": {},
   "source": [
    "# Lab 04. Dekoratory."
   ]
  },
  {
   "cell_type": "markdown",
   "id": "15fd16a8-faa4-4309-9ab1-d9121858c35a",
   "metadata": {},
   "source": [
    "Dekoratory zostały opisane w dwóch dokumentach PEP:\n",
    "* [PEP-0318](https://peps.python.org/pep-0318/) - wydany w 2003 roku opisuje dekoratory dla funkcji i metod (Python 2.4)\n",
    "* [PEP-3129](https://peps.python.org/pep-3129/) - wydany w 2007 roku i rozszerza zastosowanie dekoratorów o dekoratory klas (Python 3.0)\n",
    "\n",
    "Dekorator to funkcja, która otacza inną funkcję (ang. wraps lub wrapper)."
   ]
  },
  {
   "cell_type": "code",
   "execution_count": 19,
   "id": "2b777de5-a678-4f0b-9ed8-51dc27fc1a79",
   "metadata": {},
   "outputs": [],
   "source": [
    "def decorator(obj):\n",
    "    return obj\n",
    "\n",
    "\n",
    "def say_hello():\n",
    "    print('Hello')\n",
    "\n",
    "\n",
    "@decorator\n",
    "def say_bla():\n",
    "    print('Bla!')"
   ]
  },
  {
   "cell_type": "code",
   "execution_count": 22,
   "id": "48d308cf-0c5d-4b5b-929d-e56f79803b13",
   "metadata": {},
   "outputs": [],
   "source": [
    "# wywołanie dekoratora jest ekwiwalentem powniższego wywołania\n",
    "# zapisujemy do zmiennej obiekt zwrócony przez dekorator, czyli tu funkcję\n",
    "say_hello = decorator(say_hello)"
   ]
  },
  {
   "cell_type": "code",
   "execution_count": 24,
   "id": "c35bdb2f-56e6-4b24-bab2-27f2525e58b0",
   "metadata": {},
   "outputs": [
    {
     "name": "stdout",
     "output_type": "stream",
     "text": [
      "Hello\n"
     ]
    }
   ],
   "source": [
    "# którą możemy następnie wywołać\n",
    "say_hello()"
   ]
  },
  {
   "cell_type": "code",
   "execution_count": 21,
   "id": "e0d44c16-e9c6-488f-8519-a014a97b80a6",
   "metadata": {},
   "outputs": [
    {
     "name": "stdout",
     "output_type": "stream",
     "text": [
      "Bla!\n"
     ]
    }
   ],
   "source": [
    "say_bla()"
   ]
  },
  {
   "cell_type": "code",
   "execution_count": 25,
   "id": "5a089c45-91f2-4ea6-a6ff-97588c94f39b",
   "metadata": {},
   "outputs": [
    {
     "name": "stdout",
     "output_type": "stream",
     "text": [
      "cos innego\n"
     ]
    }
   ],
   "source": [
    "# zobaczmy inny przykład\n",
    "# tutaj wywołanie funkcji udekorowanej wywołuje inną funkcję\n",
    "\n",
    "def cos_innego():\n",
    "    print(\"cos innego\")\n",
    "\n",
    "\n",
    "def decorator(obj):\n",
    "    return cos_innego\n",
    "\n",
    "@decorator\n",
    "def main():\n",
    "    print(\"hello\")\n",
    "\n",
    "main()"
   ]
  },
  {
   "cell_type": "code",
   "execution_count": 29,
   "id": "f4b44073-d64e-47ae-8f95-b68a8f21de8d",
   "metadata": {},
   "outputs": [
    {
     "data": {
      "text/plain": [
       "<function __main__.cos_innego()>"
      ]
     },
     "execution_count": 29,
     "metadata": {},
     "output_type": "execute_result"
    }
   ],
   "source": [
    "# co tu się tak na prawdę dzieje?\n",
    "# czym jest main? To jest alias na decorator, który zwraca obiekt funkcji cos_innego\n",
    "main\n",
    "# wywołanie main() wywołuje więc decorator(main), które z przekazanym main nie robi nic, ale jak zostało\n",
    "# wspomniane zwraca cos_innego, a że ten main jest wywołany (przez () ) to wywołujemy faktycznie tylko\n",
    "# funkcję cos_innego"
   ]
  },
  {
   "cell_type": "markdown",
   "id": "611147d2-67fd-4e48-aef9-328268c90514",
   "metadata": {},
   "source": [
    "Zobaczmy kolejny przykład, gdzie funkcja dekorowana jest wywoływana wewnątrz funkcji dekorującej."
   ]
  },
  {
   "cell_type": "code",
   "execution_count": 34,
   "id": "355efee3-da75-41db-a929-2e284955d68d",
   "metadata": {},
   "outputs": [
    {
     "name": "stdout",
     "output_type": "stream",
     "text": [
      "hello\n",
      "hello\n"
     ]
    }
   ],
   "source": [
    "def zrob_zrob(obj):\n",
    "    obj()\n",
    "    obj()\n",
    "\n",
    "\n",
    "@zrob_zrob\n",
    "def main():\n",
    "    print(\"hello\")\n",
    "\n",
    "main"
   ]
  },
  {
   "cell_type": "markdown",
   "id": "4134bb02-4dfe-4945-8ca6-973e79a12699",
   "metadata": {},
   "source": [
    "To jednak nie jest działanie, które znamy z praktyki. W praktyce opakowujemy wewnątrz dekoratora funkcję dekorującą jeszcze jedną funkcją."
   ]
  },
  {
   "cell_type": "code",
   "execution_count": 35,
   "id": "19e4dd36-6c35-42d2-8516-30238a8073de",
   "metadata": {},
   "outputs": [
    {
     "name": "stdout",
     "output_type": "stream",
     "text": [
      "hello\n",
      "hello\n"
     ]
    },
    {
     "data": {
      "text/plain": [
       "(<function __main__.zrob_zrob.<locals>.wrapper()>, None)"
      ]
     },
     "execution_count": 35,
     "metadata": {},
     "output_type": "execute_result"
    }
   ],
   "source": [
    "def zrob_zrob(obj):\n",
    "    def wrapper():\n",
    "        obj()\n",
    "        obj()\n",
    "    return wrapper\n",
    "\n",
    "\n",
    "@zrob_zrob\n",
    "def main():\n",
    "    print(\"hello\")\n",
    "\n",
    "main, main()"
   ]
  },
  {
   "cell_type": "markdown",
   "id": "b78da25c-9311-45cc-9b66-fb5c215273ec",
   "metadata": {},
   "source": [
    "Taka konstrukcja również nie jest w pełni funkcjonalna. Obiekt zwracany jest tu typu `wrapper`, a nie naszej funkcji dekorowanej i jeżeli funkcja main coś zwraca, to ta informacja jest tracona. Nie ma tutaj również obsługi ewentualnych argumentów przekazanych do funkcji.\n",
    "\n",
    "Dodajmy kilka z tych brakujących funkcjonalności."
   ]
  },
  {
   "cell_type": "code",
   "execution_count": 44,
   "id": "08f04dd6-f2f4-46c5-86f9-d1841f0d9010",
   "metadata": {},
   "outputs": [
    {
     "name": "stdout",
     "output_type": "stream",
     "text": [
      "10\n",
      "10\n"
     ]
    },
    {
     "data": {
      "text/plain": [
       "(<function __main__.zrob_zrob.<locals>.wrapper(*args, **kwargs)>, None)"
      ]
     },
     "execution_count": 44,
     "metadata": {},
     "output_type": "execute_result"
    }
   ],
   "source": [
    "# przekazujemy argumenty do wnętrza dekoratora\n",
    "\n",
    "def zrob_zrob(obj):\n",
    "    def wrapper(*args, **kwargs):\n",
    "        obj(*args, **kwargs)\n",
    "        obj(*args, **kwargs)\n",
    "    return wrapper\n",
    "\n",
    "\n",
    "@zrob_zrob\n",
    "def main(x):\n",
    "    print(f'{x}')\n",
    "\n",
    "main, main(10)"
   ]
  },
  {
   "cell_type": "code",
   "execution_count": 45,
   "id": "ce4e84aa-8082-4863-9c63-617e56ab213e",
   "metadata": {},
   "outputs": [
    {
     "data": {
      "text/plain": [
       "(<function __main__.zrob_zrob.<locals>.wrapper(*args, **kwargs)>, None)"
      ]
     },
     "execution_count": 45,
     "metadata": {},
     "output_type": "execute_result"
    }
   ],
   "source": [
    "# jednak jeżeli nasza funkcja coś zwraca to ta informacja jest nadal tracona\n",
    "# dodatkowo obiekt zwracany to funkcja wrapper\n",
    "\n",
    "def zrob_zrob(obj):\n",
    "    def wrapper(*args, **kwargs):\n",
    "        obj(*args, **kwargs)\n",
    "        obj(*args, **kwargs)\n",
    "    return wrapper\n",
    "\n",
    "\n",
    "@zrob_zrob\n",
    "def main(x):\n",
    "    return f'{x}'\n",
    "\n",
    "main, main(10)"
   ]
  },
  {
   "cell_type": "code",
   "execution_count": 68,
   "id": "729156b8-6339-4e90-b2e1-be6414dc38ae",
   "metadata": {},
   "outputs": [
    {
     "name": "stdout",
     "output_type": "stream",
     "text": [
      "dekoruję...\n"
     ]
    },
    {
     "data": {
      "text/plain": [
       "(<function __main__.zrob_zrob.<locals>.wrapper(*args, **kwargs)>,\n",
       " '10',\n",
       " 'wrapper',\n",
       " 'to wrapper')"
      ]
     },
     "execution_count": 68,
     "metadata": {},
     "output_type": "execute_result"
    }
   ],
   "source": [
    "#\n",
    "\n",
    "def zrob_zrob(obj):\n",
    "    def wrapper(*args, **kwargs):\n",
    "        \"\"\"to wrapper\"\"\"\n",
    "        print(\"dekoruję...\")\n",
    "        res = obj(*args, **kwargs)\n",
    "        return res\n",
    "    return wrapper\n",
    "\n",
    "\n",
    "@zrob_zrob\n",
    "def main(x):\n",
    "    \"\"\"udekorowana\"\"\"\n",
    "    return f'{x}'\n",
    "\n",
    "main, main(10), main.__name__,  main.__doc__"
   ]
  },
  {
   "cell_type": "code",
   "execution_count": 69,
   "id": "b0ab7188-c184-4656-b162-eef005e9312b",
   "metadata": {},
   "outputs": [
    {
     "name": "stdout",
     "output_type": "stream",
     "text": [
      "dekoruję...\n"
     ]
    },
    {
     "data": {
      "text/plain": [
       "(<function __main__.zrob_zrob.<locals>.wrapper(*args, **kwargs)>,\n",
       " '10',\n",
       " 'main',\n",
       " 'udekorowana')"
      ]
     },
     "execution_count": 69,
     "metadata": {},
     "output_type": "execute_result"
    }
   ],
   "source": [
    "# nadal obiekt zwracany jest typu wrapper, co może być problemem w przypadku kontroli typów\n",
    "# wywołujemy return dla funkcji dekorowanej\n",
    "# ale również dla wrapper\n",
    "\n",
    "def zrob_zrob(obj):\n",
    "    def wrapper(*args, **kwargs):\n",
    "        print(\"dekoruję...\")\n",
    "        obj(*args, **kwargs)\n",
    "        return obj(*args, **kwargs)\n",
    "    wrapper.__name__ = obj.__name__\n",
    "    wrapper.__doc__ = obj.__doc__\n",
    "    return wrapper\n",
    "\n",
    "\n",
    "@zrob_zrob\n",
    "def main(x):\n",
    "    \"\"\"udekorowana\"\"\"\n",
    "    return f'{x}'\n",
    "\n",
    "main, main(10), main.__name__,  main.__doc__"
   ]
  },
  {
   "cell_type": "markdown",
   "id": "d1d8b4b9-8815-4cf3-b57b-1bfabb3ae0a1",
   "metadata": {},
   "source": [
    "Aby jednak się z tym nie męczyć we własnych dekoratorach wykorzystamy dekorator stworzony do tego celu w module `functools`."
   ]
  },
  {
   "cell_type": "code",
   "execution_count": 72,
   "id": "8389cc53-b132-4f6f-98dd-4f19ce523931",
   "metadata": {},
   "outputs": [
    {
     "name": "stdout",
     "output_type": "stream",
     "text": [
      "dekoruję...\n"
     ]
    },
    {
     "data": {
      "text/plain": [
       "(<function __main__.main(x)>, '10', 'main', 'udekorowana')"
      ]
     },
     "execution_count": 72,
     "metadata": {},
     "output_type": "execute_result"
    }
   ],
   "source": [
    "from functools import wraps\n",
    "\n",
    "def zrob_zrob(obj):\n",
    "    @wraps(obj)\n",
    "    def wrapper(*args, **kwargs):\n",
    "        print(\"dekoruję...\")\n",
    "        obj(*args, **kwargs)\n",
    "        return obj(*args, **kwargs)\n",
    "    return wrapper\n",
    "\n",
    "\n",
    "@zrob_zrob\n",
    "def main(x):\n",
    "    \"\"\"udekorowana\"\"\"\n",
    "    return f'{x}'\n",
    "\n",
    "main, main(10), main.__name__,  main.__doc__"
   ]
  },
  {
   "cell_type": "markdown",
   "id": "33738efa-a801-4391-94a4-7a1d5ca176f9",
   "metadata": {},
   "source": [
    "To teraz czas na kilka dekoratorów, które mogą być faktycznie do czegoś wykorzystane."
   ]
  },
  {
   "cell_type": "code",
   "execution_count": 83,
   "id": "76ae0369-d795-4685-a1e6-2294ad0f5d5c",
   "metadata": {},
   "outputs": [
    {
     "name": "stdout",
     "output_type": "stream",
     "text": [
      "Funkcja wykonała się w 0.06s\n",
      "Funkcja wykonała się w 0.04s\n",
      "Funkcja wykonała się w 0.04s\n"
     ]
    }
   ],
   "source": [
    "from time import perf_counter\n",
    "\n",
    "\n",
    "def execution_time(func):\n",
    "    @wraps(func)\n",
    "    def wrapper(*args, **kwargs):\n",
    "        start = perf_counter()\n",
    "        result = func(*args, **kwargs)\n",
    "        stop = perf_counter()\n",
    "        print(f\"Funkcja wykonała się w {stop - start:.2f}s\")\n",
    "        return result\n",
    "    return wrapper\n",
    "\n",
    "\n",
    "@execution_time\n",
    "def milion(val):\n",
    "    [val for _ in range(1_000_000)]\n",
    "\n",
    "milion(0)\n",
    "milion('boom!')\n",
    "milion(1/3)"
   ]
  },
  {
   "cell_type": "markdown",
   "id": "4f5eeedf-d789-4f1b-bbac-a65f6afbf036",
   "metadata": {},
   "source": [
    "Dekoratory klasy nie różnią się sposobem ich deklaracji i wywołania i (za oficjalną dokumentacją) mogą wyglądać tak:\n",
    "```python\n",
    "\n",
    "class A:\n",
    "  pass\n",
    "# dekorowanie bez adnotacji\n",
    "A = foo(bar(A))\n",
    "\n",
    "# ekwiwalent\n",
    "@foo\n",
    "@bar\n",
    "class A:\n",
    "  pass\n",
    "```"
   ]
  },
  {
   "cell_type": "markdown",
   "id": "b6af0a8d-492d-4341-b991-ce5e9ec8c5b0",
   "metadata": {},
   "source": [
    "Skoro dekorator to po prostu funkcja, która opakowuje inną funkcję, to powinniśmy móc również przekazać argumenty do takiego dekoratora (nie mylić z funkcją dekorowaną, to już wiemy)."
   ]
  },
  {
   "cell_type": "code",
   "execution_count": 33,
   "id": "8b1f3c87-759d-4212-9b16-f1637813ca20",
   "metadata": {},
   "outputs": [
    {
     "name": "stdout",
     "output_type": "stream",
     "text": [
      "Czekam 5 sekund...\n",
      "Czas minął!\n",
      "Czekam 2 sekund...\n",
      "Czas minął tak szybko!\n"
     ]
    },
    {
     "ename": "TypeError",
     "evalue": "sleep.<locals>.inner() missing 1 required positional argument: 'func'",
     "output_type": "error",
     "traceback": [
      "\u001b[1;31m---------------------------------------------------------------------------\u001b[0m",
      "\u001b[1;31mTypeError\u001b[0m                                 Traceback (most recent call last)",
      "Cell \u001b[1;32mIn[33], line 28\u001b[0m\n\u001b[0;32m     26\u001b[0m wakeup()\n\u001b[0;32m     27\u001b[0m wakeup_fast()\n\u001b[1;32m---> 28\u001b[0m \u001b[43mwakeup_how\u001b[49m\u001b[43m(\u001b[49m\u001b[43m)\u001b[49m\n",
      "\u001b[1;31mTypeError\u001b[0m: sleep.<locals>.inner() missing 1 required positional argument: 'func'"
     ]
    }
   ],
   "source": [
    "import time\n",
    "\n",
    "\n",
    "def sleep(sleep_time):\n",
    "    def inner(func):\n",
    "        def wrapper(*args, **kwargs):\n",
    "            print(f'Czekam {sleep_time} sekund...')\n",
    "            time.sleep(sleep_time)\n",
    "            return func(*args, **kwargs)\n",
    "        return wrapper\n",
    "    return inner\n",
    "    \n",
    "@sleep(sleep_time=5)\n",
    "def wakeup():\n",
    "    print(\"Czas minął!\")\n",
    "\n",
    "@sleep(sleep_time=2)\n",
    "def wakeup_fast():\n",
    "    print(\"Czas minął tak szybko!\")\n",
    "\n",
    "# bez argumentów nie zadziała w tym przypadku!\n",
    "@sleep\n",
    "def wakeup_how():\n",
    "    print(\"Czas minął tak szybko!\")\n",
    "\n",
    "wakeup()\n",
    "wakeup_fast()\n",
    "wakeup_how()"
   ]
  },
  {
   "cell_type": "code",
   "execution_count": 66,
   "id": "c14ed2ff-14d0-4f32-b074-239253010da6",
   "metadata": {},
   "outputs": [
    {
     "name": "stdout",
     "output_type": "stream",
     "text": [
      "Czekam 5 sekund...\n",
      "Czas minął!\n",
      "Czekam 2 sekund...\n",
      "Czas minął tak szybko!\n",
      "Czekam 3 sekund...\n",
      "Czas minął dość szybko!\n"
     ]
    }
   ],
   "source": [
    "# dokonajmy więc zmian - wraps został dodany, aby niejako było to rozwiązanie kompletne (typ zwracanej funkcji oraz docstring).\n",
    "import functools\n",
    "\n",
    "\n",
    "# stosowana jest tu pewna sztuczka w sygnaturze funkcji\n",
    "def sleep(_func=None, *, sleep_time=3):\n",
    "    def inner(func):\n",
    "        # @functools.wraps(func)\n",
    "        def wrapper(*args, **kwargs):\n",
    "            # print(sleep_time)\n",
    "            # sleep_time = sleep_time if isinstance(sleep_time, int) else 3\n",
    "            print(f'Czekam {sleep_time} sekund...')\n",
    "            time.sleep(sleep_time)\n",
    "            return func(*args, **kwargs)\n",
    "        return wrapper\n",
    "    if _func is None:\n",
    "        return inner\n",
    "    else:\n",
    "        return inner(_func)\n",
    "    \n",
    "@sleep(sleep_time=5)\n",
    "def wakeup():\n",
    "    print(\"Czas minął!\")\n",
    "\n",
    "@sleep(sleep_time=2)\n",
    "def wakeup_fast():\n",
    "    print(\"Czas minął tak szybko!\")\n",
    "\n",
    "# bez argumentów nie zadziała w tym przypadku!\n",
    "@sleep\n",
    "def wakeup_how():\n",
    "    print(\"Czas minął dość szybko!\")\n",
    "\n",
    "wakeup()\n",
    "wakeup_fast()\n",
    "wakeup_how()"
   ]
  },
  {
   "cell_type": "markdown",
   "id": "dded0b34-e9b8-4071-91d0-dc8ee11d08f6",
   "metadata": {},
   "source": [
    "Jak widać dodana została kolejna funkcja opakowująca. Zobaczmy wywołanie bez `@` co pozwoli lepiej zrozumieć dlaczego było to potrzebne."
   ]
  },
  {
   "cell_type": "code",
   "execution_count": 78,
   "id": "4aa90886-b66b-47ea-9d29-d988bb24f4a9",
   "metadata": {},
   "outputs": [
    {
     "data": {
      "text/plain": [
       "<function __main__.sleep(_func=None, *, sleep_time=3)>"
      ]
     },
     "metadata": {},
     "output_type": "display_data"
    },
    {
     "data": {
      "text/plain": [
       "<function __main__.sleep.<locals>.inner(func)>"
      ]
     },
     "metadata": {},
     "output_type": "display_data"
    },
    {
     "data": {
      "text/plain": [
       "<function __main__.sleep.<locals>.inner.<locals>.wrapper(*args, **kwargs)>"
      ]
     },
     "metadata": {},
     "output_type": "display_data"
    },
    {
     "name": "stdout",
     "output_type": "stream",
     "text": [
      "Czekam 5 sekund...\n"
     ]
    },
    {
     "data": {
      "text/plain": [
       "'Czas minął Jan!'"
      ]
     },
     "metadata": {},
     "output_type": "display_data"
    },
    {
     "data": {
      "text/plain": [
       "<function __main__.sleep.<locals>.inner(func)>"
      ]
     },
     "metadata": {},
     "output_type": "display_data"
    },
    {
     "data": {
      "text/plain": [
       "<function __main__.sleep.<locals>.inner.<locals>.wrapper(*args, **kwargs)>"
      ]
     },
     "metadata": {},
     "output_type": "display_data"
    },
    {
     "name": "stdout",
     "output_type": "stream",
     "text": [
      "Czekam 3 sekund...\n"
     ]
    },
    {
     "data": {
      "text/plain": [
       "'Czas minął Jan!'"
      ]
     },
     "metadata": {},
     "output_type": "display_data"
    },
    {
     "data": {
      "text/plain": [
       "<function __main__.sleep.<locals>.inner.<locals>.wrapper(*args, **kwargs)>"
      ]
     },
     "metadata": {},
     "output_type": "display_data"
    },
    {
     "data": {
      "text/plain": [
       "<function __main__.sleep.<locals>.inner.<locals>.wrapper(*args, **kwargs)>"
      ]
     },
     "metadata": {},
     "output_type": "display_data"
    },
    {
     "name": "stdout",
     "output_type": "stream",
     "text": [
      "Czekam 3 sekund...\n"
     ]
    },
    {
     "data": {
      "text/plain": [
       "'Czas minął Jan!'"
      ]
     },
     "metadata": {},
     "output_type": "display_data"
    },
    {
     "name": "stdout",
     "output_type": "stream",
     "text": [
      "Czekam 3 sekund...\n"
     ]
    },
    {
     "data": {
      "text/plain": [
       "'Czas minął Adam!'"
      ]
     },
     "metadata": {},
     "output_type": "display_data"
    },
    {
     "name": "stdout",
     "output_type": "stream",
     "text": [
      "Czekam 6 sekund...\n"
     ]
    },
    {
     "data": {
      "text/plain": [
       "'Czas minął Antonio!'"
      ]
     },
     "metadata": {},
     "output_type": "display_data"
    }
   ],
   "source": [
    "def wakeup(name='Jan'):\n",
    "    return f\"Czas minął {name}!\"\n",
    "\n",
    "display(sleep)\n",
    "display(sleep(sleep_time=5))\n",
    "display(sleep(sleep_time=5)(wakeup))\n",
    "display(sleep(sleep_time=5)(wakeup)())\n",
    "\n",
    "# przekazanie funkcji wakeup do dekoratora bez podania wartości argumentu sleep_time\n",
    "# nie dekorujemy żadnej funkcji\n",
    "display(sleep()) \n",
    "\n",
    "# zwraca funkcję wakeup jeżeli użyjemy @functools.wraps albo wrapper bez użycia tego dekoratora\n",
    "display(sleep(wakeup)) \n",
    "\n",
    "# wywołuje wrapper, który jak wiemy wywołuje func() czyli przekazaną funkcję wakeup\n",
    "display(sleep(wakeup)()) \n",
    "\n",
    "# przekazuje do sleep wynik wywołania funkcji wakeup('Adam'), ale nie jest ona wywoływana\n",
    "display(sleep(wakeup('Adam'))) \n",
    "\n",
    "# tu będzie błąd, gdyż do dekoratora trafi str (jak powyżej), ale zostanie on wywołany\n",
    "# ang. call a to nie jest dopuszczalna operacja (np. 'Czas minął Adam!'())\n",
    "# display(sleep(wakeup('Adam'))()) \n",
    "\n",
    "# wywołamy sleep z domyślnym parametrem sleep_time, które jak widać w wywołaniu sleep() powyżej zwróci funkcję inner\n",
    "# co oznacza, że to wywołanie to faktycznie wywołanie inner(wakeup), które zwróci wrapper (ale jej nie wywołujemy)\n",
    "display(sleep()(wakeup))\n",
    "\n",
    "# jeżeli teraz wywołamy tę zwracaną funkcję\n",
    "display(sleep()(wakeup)())\n",
    "\n",
    "# to teraz spróbujmy przekazać argument do wakeup tak, aby to zadziałało\n",
    "display(sleep()(wakeup)('Adam'))\n",
    "\n",
    "display(sleep(sleep_time=6)(wakeup)('Antonio'))"
   ]
  },
  {
   "cell_type": "markdown",
   "id": "0a56c040-4603-4b81-9f9b-447ab905d0d8",
   "metadata": {},
   "source": [
    "W Pythonie (i innych językach programowania zorientowanych obiektowo) możemy również wykorzystać dekoratory klas, które są również traktowane jako jeden z wzorców projektowych. Tutaj cała sztuka polega na przesłonięciu metod `__init__` oraz `__call__` w klasie dekoratora."
   ]
  },
  {
   "cell_type": "code",
   "execution_count": 37,
   "id": "87171aa2-58af-4229-94fe-d6fb1d35603f",
   "metadata": {},
   "outputs": [
    {
     "name": "stdout",
     "output_type": "stream",
     "text": [
      "Funkcja powtorz wykonała się w czasie 0.00000143 sekund\n"
     ]
    },
    {
     "data": {
      "text/plain": [
       "'Foo Foo Foo Foo Foo Foo Foo Foo Foo Foo Foo Foo Foo Foo Foo Foo Foo Foo Foo Foo '"
      ]
     },
     "execution_count": 37,
     "metadata": {},
     "output_type": "execute_result"
    }
   ],
   "source": [
    "class TimerDecorator:\n",
    "    def __init__(self, func):\n",
    "        self.func = func\n",
    "\n",
    "    def __call__(self, *args, **kwargs):\n",
    "        start_time = time.time()\n",
    "        result = self.func(*args, **kwargs)\n",
    "        end_time = time.time()\n",
    "        print(f\"Funkcja {self.func.__name__} wykonała się w czasie {end_time - start_time:.08f} sekund\")\n",
    "        return result\n",
    "\n",
    "\n",
    "@TimerDecorator\n",
    "def powtorz(co, ile):\n",
    "    return co * ile\n",
    "\n",
    "\n",
    "powtorz('Foo ', 20)"
   ]
  },
  {
   "cell_type": "markdown",
   "id": "9bf6d3c1-6201-485e-94fc-f0a0d4beb60b",
   "metadata": {},
   "source": [
    "## Zadania"
   ]
  },
  {
   "cell_type": "markdown",
   "id": "ed2026e3-c246-4abe-8053-68f26b4dbbf5",
   "metadata": {},
   "source": [
    "1. Stwórz dekorator bezargumentowy funkcji, który będzie logował (log w rozumieniu dziennik zdarzeń) zdarzenie wywołania funkcji udekorowanej. Postać łańcucha znaków, który zwraca (niech tu będzie po prostu print) jest następujący:\n",
    "[data i czas wywołania] nazwa funkcji argumenty jej wywołania (nazwa i wartość jeżeli to możliwe - można pomyśleć o zwróceniu postaci łańcuchowej *args oraz **kwargs przekazanych do tej funkcji).\n",
    "\n",
    "2. Napisz dekorator `require_permission`, który będzie możliwy do użycia biorąc pod uwagę poniższy scenariusz jego użycia:\n",
    "\n",
    "```python\n",
    "class User:\n",
    "    def __init__(self, permissions):\n",
    "        self.permissions = permissions\n",
    "\n",
    "    def has_permission(self, permission):\n",
    "        return permission in self.permissions\n",
    "\n",
    "@require_permission('admin')\n",
    "def delete_user(user, user_id):\n",
    "    print(f\"User {user_id} deleted\")\n",
    "\n",
    "# Przykładowe wywołanie\n",
    "admin_user = User(permissions=['admin'])\n",
    "delete_user(admin_user, 123)\n",
    "```\n",
    "\n",
    "3. Stwórz dekorator klasy o nazwie `Singleton` i zaimplementuj logikę wzorca singleton dla udekorowanej własnej klasy. Przetestuj jego działanie."
   ]
  }
 ],
 "metadata": {
  "kernelspec": {
   "display_name": "Python 3 (ipykernel)",
   "language": "python",
   "name": "python3"
  },
  "language_info": {
   "codemirror_mode": {
    "name": "ipython",
    "version": 3
   },
   "file_extension": ".py",
   "mimetype": "text/x-python",
   "name": "python",
   "nbconvert_exporter": "python",
   "pygments_lexer": "ipython3",
   "version": "3.13.2"
  }
 },
 "nbformat": 4,
 "nbformat_minor": 5
}
