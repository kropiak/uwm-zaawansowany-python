{
 "cells": [
  {
   "cell_type": "markdown",
   "id": "68968d26-c474-4588-8af1-d62a45b3e39e",
   "metadata": {},
   "source": [
    "# Zaawansowany Python, lab 3"
   ]
  },
  {
   "cell_type": "markdown",
   "id": "a3383b28-6e14-41a9-9924-db9a7b23ad5b",
   "metadata": {},
   "source": [
    "## 1. Metoda klasy oraz metoda statyczna"
   ]
  },
  {
   "cell_type": "markdown",
   "id": "b6b59016-195a-436a-a157-76f7f3ff89ec",
   "metadata": {},
   "source": [
    "**Listing 1**"
   ]
  },
  {
   "cell_type": "code",
   "execution_count": 2,
   "id": "3f0883b9-beab-465c-8a04-a84cb00749cb",
   "metadata": {},
   "outputs": [],
   "source": [
    "from enum import Enum\n",
    "import inspect\n",
    "\n",
    "\n",
    "class FieldType(Enum):\n",
    "    INTEGER = 1\n",
    "    FLOAT = 2\n",
    "    STRING = 3 \n",
    "    DATE = 4\n",
    "\n",
    "\n",
    "class Field:\n",
    "\n",
    "    def __init__(self, field_type: FieldType):\n",
    "        self.field_type = field_type\n",
    "    \n",
    "    def get_fieldtype(self):\n",
    "        return self.field_type\n",
    "\n",
    "    def __str__(self):\n",
    "        return self.field_type.__class__.__name__\n",
    "\n",
    "\n",
    "class Model:\n",
    "    \n",
    "    def __init__(self, db_table=None):\n",
    "        if db_table is None:\n",
    "            self.db_table = f'db_{self.__class__.__name__.lower()}'\n",
    "        else:\n",
    "            self.db_table = db_table\n",
    "\n",
    "    def get_fields(self):\n",
    "        fields = {}\n",
    "        for name, obj in inspect.getmembers(self):\n",
    "            if isinstance(obj, Field):\n",
    "                fields[name] = obj.get_fieldtype()\n",
    "        return fields\n",
    "\n",
    "    def __setattr__(self, attr, val):\n",
    "        for name, obj in inspect.getmembers(self):\n",
    "            if name == attr and isinstance(obj, Field):\n",
    "                obj.value = val\n",
    "                return\n",
    "        super().__setattr__(attr, val)\n",
    "\n",
    "    @staticmethod\n",
    "    def generate_table_for_name(name: str):\n",
    "        \"\"\" metoda statyczna wzracająca nazwę tabeli dla przykładowej nazwy modelu \"\"\"\n",
    "        return f'db_{name.lower()}'\n",
    "        \n",
    "    @classmethod\n",
    "    def from_dict(cls, name: str, fields: dict[str, Field]):\n",
    "        # tu wykorzystać match case z mapowaniem słownika\n",
    "        for field in fields.items():\n",
    "            \n",
    "            match field:\n",
    "                case (str(), Field()):\n",
    "                    setattr(cls, field[0], field[1])\n",
    "        \n",
    "        model = cls()\n",
    "        model.db_table = f'db_{name.lower()}'\n",
    "        return model\n",
    "        "
   ]
  },
  {
   "cell_type": "code",
   "execution_count": 34,
   "id": "ddd08dd9-da68-43bd-9d39-8ffe6cd452e8",
   "metadata": {},
   "outputs": [
    {
     "name": "stdout",
     "output_type": "stream",
     "text": [
      "FieldType.INTEGER\n",
      "INTEGER\n",
      "1\n",
      "<enum 'FieldType'>\n"
     ]
    }
   ],
   "source": [
    "# wykorzystanie klasy typu Enum\n",
    "print(FieldType.INTEGER)\n",
    "print(FieldType.INTEGER.name)\n",
    "print(FieldType.INTEGER.value)\n",
    "print(FieldType)"
   ]
  },
  {
   "cell_type": "code",
   "execution_count": 35,
   "id": "06dfe3d6-7b37-434f-931c-e5ac8c59239e",
   "metadata": {},
   "outputs": [
    {
     "data": {
      "text/plain": [
       "'db_osoba'"
      ]
     },
     "execution_count": 35,
     "metadata": {},
     "output_type": "execute_result"
    }
   ],
   "source": [
    "# wywołanie metody statycznej\n",
    "Model.generate_table_for_name('Osoba')"
   ]
  },
  {
   "cell_type": "code",
   "execution_count": 62,
   "id": "481061e6-2f93-4755-9c86-090a7fbe1c48",
   "metadata": {},
   "outputs": [],
   "source": [
    "# czy można stworzyć instancję klasy Model?\n",
    "model = Model()\n",
    "# Można. Klasa nie jest abstrakcyjna"
   ]
  },
  {
   "cell_type": "code",
   "execution_count": 54,
   "id": "4a5b075b-589d-428a-8891-63e6bdab4c5e",
   "metadata": {},
   "outputs": [
    {
     "data": {
      "text/plain": [
       "{}"
      ]
     },
     "execution_count": 54,
     "metadata": {},
     "output_type": "execute_result"
    }
   ],
   "source": [
    "model.get_fields()"
   ]
  },
  {
   "cell_type": "code",
   "execution_count": 55,
   "id": "82f3b0dc-4e59-4001-b965-ecc85784b9f5",
   "metadata": {},
   "outputs": [],
   "source": [
    "model.id = Field(FieldType.INTEGER)"
   ]
  },
  {
   "cell_type": "code",
   "execution_count": 56,
   "id": "54e6bf69-1f24-4625-95c4-69d9412b45a6",
   "metadata": {},
   "outputs": [
    {
     "data": {
      "text/plain": [
       "{'id': <FieldType.INTEGER: 1>}"
      ]
     },
     "execution_count": 56,
     "metadata": {},
     "output_type": "execute_result"
    }
   ],
   "source": [
    "model.get_fields()"
   ]
  },
  {
   "cell_type": "code",
   "execution_count": 57,
   "id": "f1590d21-4053-46d3-85fe-2bf5111c0c15",
   "metadata": {},
   "outputs": [],
   "source": [
    "# deklaracja klasy dziedziczącej po Model\n",
    "class Person(Model):\n",
    "    id = Field(FieldType.INTEGER)\n",
    "    firstname = Field(FieldType.STRING)\n",
    "    lastname = Field(FieldType.STRING)\n",
    "    age = Field(FieldType.INTEGER)"
   ]
  },
  {
   "cell_type": "code",
   "execution_count": 31,
   "id": "e53bf18d-51cc-4382-bd0e-88721bedaae2",
   "metadata": {},
   "outputs": [
    {
     "data": {
      "text/plain": [
       "'db_person'"
      ]
     },
     "execution_count": 31,
     "metadata": {},
     "output_type": "execute_result"
    }
   ],
   "source": [
    "p = Person()\n",
    "p.db_table"
   ]
  },
  {
   "cell_type": "code",
   "execution_count": 58,
   "id": "9ebcc53c-d028-4b57-b1e9-3ef0d07bfca2",
   "metadata": {},
   "outputs": [
    {
     "data": {
      "text/plain": [
       "<__main__.Field at 0x1d01f6ef0e0>"
      ]
     },
     "execution_count": 58,
     "metadata": {},
     "output_type": "execute_result"
    }
   ],
   "source": [
    "p.id"
   ]
  },
  {
   "cell_type": "code",
   "execution_count": 32,
   "id": "711fd9a1-f68f-4bde-99a2-69183a367e46",
   "metadata": {},
   "outputs": [
    {
     "data": {
      "text/plain": [
       "{'age': 'Field', 'firstname': 'Field', 'id': 'Field', 'lastname': 'Field'}"
      ]
     },
     "execution_count": 32,
     "metadata": {},
     "output_type": "execute_result"
    }
   ],
   "source": [
    "p.get_fields()"
   ]
  },
  {
   "cell_type": "code",
   "execution_count": 19,
   "id": "0c3cfd3c-24a5-4197-8226-eb49e1254145",
   "metadata": {},
   "outputs": [],
   "source": [
    "test = Model.from_dict('Movie',{'id': Field(FieldType.INTEGER), 'name': Field(FieldType.STRING)})"
   ]
  },
  {
   "cell_type": "code",
   "execution_count": 20,
   "id": "7cd4ac8e-d1cf-4bcd-a9d3-f89ea2b380bc",
   "metadata": {},
   "outputs": [
    {
     "data": {
      "text/plain": [
       "{'id': 'Field', 'name': 'Field'}"
      ]
     },
     "execution_count": 20,
     "metadata": {},
     "output_type": "execute_result"
    }
   ],
   "source": [
    "test.get_fields()"
   ]
  },
  {
   "cell_type": "code",
   "execution_count": 21,
   "id": "15c0f40c-128d-4ea1-8a4b-a42c5823cc55",
   "metadata": {},
   "outputs": [
    {
     "data": {
      "text/plain": [
       "'db_movie'"
      ]
     },
     "execution_count": 21,
     "metadata": {},
     "output_type": "execute_result"
    }
   ],
   "source": [
    "test.db_table"
   ]
  },
  {
   "cell_type": "markdown",
   "id": "0c8a069d-ee0d-4ef7-af9c-8df33e9690d4",
   "metadata": {},
   "source": [
    "## 2. Abstrakcyjne klasy bazowe (ABC - Abstract Base Classes)"
   ]
  },
  {
   "cell_type": "markdown",
   "id": "9f868504-7c89-4dc7-bb5d-2df6ceb4cd62",
   "metadata": {},
   "source": [
    "Abstrakcyjne klasy bazowe Pythona zostały zdefiniowane w module abc i zawierają zbiór klas, które są często powiązane ze soba poprzez dziedziczenie dostarczając coraz to większej ilości metod abstrakcyjnych, które konkretna klasa musi zapewnić.\n",
    "\n",
    "> Listę tych klas oraz dziedziczenia znajdziesz tu: https://docs.python.org/3/library/collections.abc.html\n",
    "\n",
    "Warto w tym kontekście poznać termin kacze typowanie (ang. duck typing): https://devopedia.org/duck-typing"
   ]
  },
  {
   "cell_type": "markdown",
   "id": "15ceb710-607e-486c-86c7-9bb84ec88799",
   "metadata": {},
   "source": [
    "**Listing 2**"
   ]
  },
  {
   "cell_type": "code",
   "execution_count": 8,
   "id": "cff14bb9-887e-4da9-bc62-cf57a0c09587",
   "metadata": {},
   "outputs": [],
   "source": [
    "# a teraz przykład z Field jako klasa abstrakcyjna\n",
    "from abc import ABC, abstractmethod\n",
    "\n",
    "\n",
    "class Field(ABC):\n",
    "\n",
    "    def __init__(self):\n",
    "        self.value = None\n",
    "\n",
    "    def get_fieldtype(self):\n",
    "        return self.__class__.__name__\n",
    "\n",
    "    def __setatrr__(self, attr, val):\n",
    "        if attr == 'value':\n",
    "            self._set_field_value(val)\n",
    "        else:\n",
    "            super().__setattr__(self,attr,val)\n",
    "\n",
    "    @abstractmethod\n",
    "    def _get_field_value(self):\n",
    "        ...\n",
    "\n",
    "    @abstractmethod\n",
    "    def _set_field_value(self, val):\n",
    "        ...\n",
    "\n",
    "    def __str__(self):\n",
    "        return self.__class__.__name__\n",
    "\n",
    "\n",
    "class StringField(Field):\n",
    "\n",
    "    def _set_field_value(self, val):\n",
    "        if isinstance(val, str):\n",
    "            self.value = val\n",
    "\n",
    "    def _get_field_value(self):\n",
    "        return self.value\n"
   ]
  },
  {
   "cell_type": "code",
   "execution_count": 42,
   "id": "619ff160-1388-41ff-adfe-8b4130cd0bd4",
   "metadata": {},
   "outputs": [
    {
     "ename": "TypeError",
     "evalue": "Can't instantiate abstract class Field without an implementation for abstract methods '_get_field_value', '_set_field_value'",
     "output_type": "error",
     "traceback": [
      "\u001b[1;31m---------------------------------------------------------------------------\u001b[0m",
      "\u001b[1;31mTypeError\u001b[0m                                 Traceback (most recent call last)",
      "Cell \u001b[1;32mIn[42], line 2\u001b[0m\n\u001b[0;32m      1\u001b[0m \u001b[38;5;66;03m# próba inicjalizacji klasy abstrakcyjnej\u001b[39;00m\n\u001b[1;32m----> 2\u001b[0m field \u001b[38;5;241m=\u001b[39m \u001b[43mField\u001b[49m\u001b[43m(\u001b[49m\u001b[43m)\u001b[49m\n",
      "\u001b[1;31mTypeError\u001b[0m: Can't instantiate abstract class Field without an implementation for abstract methods '_get_field_value', '_set_field_value'"
     ]
    }
   ],
   "source": [
    "# próba inicjalizacji klasy abstrakcyjnej\n",
    "field = Field()"
   ]
  },
  {
   "cell_type": "code",
   "execution_count": 9,
   "id": "c59b2cee-44c3-4280-b9b1-981a7335a141",
   "metadata": {},
   "outputs": [],
   "source": [
    "# kod w klasie Model pozwala na przypisanie właściwości typu Field do instancji klasy model\n",
    "class Movie(Model):\n",
    "    title = StringField()\n",
    "    director = StringField()"
   ]
  },
  {
   "cell_type": "code",
   "execution_count": 11,
   "id": "b5cce0e1-7b15-4357-9f00-2d7700bde3d4",
   "metadata": {},
   "outputs": [
    {
     "name": "stdout",
     "output_type": "stream",
     "text": [
      "StringField\n",
      "StringField\n"
     ]
    }
   ],
   "source": [
    "# do samego pola klasy model dzięki odpowiedniej inmplementacji przypisywana jest wartość\n",
    "# pozostawiając wciąż pole klasą konkretną dziedziczącą po Field\n",
    "movie = Movie()\n",
    "print(movie.title)\n",
    "movie.title = 'Pierwszy człowiek'\n",
    "print(movie.title)"
   ]
  },
  {
   "cell_type": "code",
   "execution_count": 45,
   "id": "cbb51331-5f1c-4016-95a7-bec03d0326a4",
   "metadata": {},
   "outputs": [
    {
     "data": {
      "text/plain": [
       "'StringField'"
      ]
     },
     "execution_count": 45,
     "metadata": {},
     "output_type": "execute_result"
    }
   ],
   "source": [
    "movie.title.get_fieldtype()"
   ]
  },
  {
   "cell_type": "code",
   "execution_count": 46,
   "id": "b3848318-5dd7-4009-ba7e-4c8716b1864e",
   "metadata": {},
   "outputs": [
    {
     "data": {
      "text/plain": [
       "'db_movie'"
      ]
     },
     "execution_count": 46,
     "metadata": {},
     "output_type": "execute_result"
    }
   ],
   "source": [
    "movie.db_table"
   ]
  },
  {
   "cell_type": "code",
   "execution_count": 14,
   "id": "4ce2065c-0371-4173-814c-c40d56a20fd3",
   "metadata": {},
   "outputs": [
    {
     "data": {
      "text/plain": [
       "<__main__.StringField at 0x2c3ed2de900>"
      ]
     },
     "execution_count": 14,
     "metadata": {},
     "output_type": "execute_result"
    }
   ],
   "source": [
    "movie.title"
   ]
  },
  {
   "cell_type": "markdown",
   "id": "7492817e-970c-4e83-bb4c-2b0984845157",
   "metadata": {},
   "source": [
    "**Zadania**\n",
    "\n",
    "> **UWAGA!**\n",
    "> \n",
    "> Zachowaj oryginalny kod źródłowy przedstawiony w przykładach, a swoje rozwiązanie implementuj w nowych komórkach kodu.\n",
    "\n",
    "1. Dokonaj refaktoryzacji klasy `Model` i zamień logikę w inicjalizatorze tak, aby ustawianie wartości atrybutu `db_table` odbywało się poprzez wywołanie odpowiedniej metody (jest aktualnie zdefiniowana jako statyczna).\n",
    "\n",
    "2. Bazując na listingu 1 sprawdź czy możliwe jest zadeklarowanie klasy Enum `FieldType` jako klasy wewnętrznej klasy `Field` i przetestuj działanie takiej implementacji.\n",
    "\n",
    "3. Dokonaj refaktoryzacji kodu klas `Field` oraz klasy `StringField` zmieniając deklarację metod `_get_field_value` oraz `_set_field_value` tak aby były ukryte (według konwencji Pythona). Przetestuj czy rozwiązanie działa poprawnie przy przypisywaniu wartości dla tej klasy.\n",
    "\n",
    "4. Dopisanie logiki w klasach `Field` (bazowej lub dziedziczących - zdecyduj), aby po wywołaniu np. w przykładach `movie.title` wyświetlały wartość tego pola modelu, a nie `<__main__.StringField at ...>`.\n",
    "\n",
    "5. Bazując na listingu 2 zaimpementuj dwie klasy implementujące `Field` - `IntegerField` oraz `DateField`, które powinny działac w podobny sposób. Sprawdzamy czy wartość im przypisywana jest określonego typu (tu nie musi to być doskonałe rozwiązanie).\n",
    "\n",
    "6. Dopisz do klasy `Model` metodę `save`, która będzie zwracała poprawny (plus/minus) SQL, który wstawi dane do tabeli o nazwie odpowiadającej zmiennej `db_table` z zachowaniem poniższych warunków:\n",
    "\n",
    "* wykonujemy `INSERT` jeżeli `id` nie ma przypisanej wartości i wtedy dla tej kolumny dajemy wartość `default`,\n",
    "* wykonujemy `UPDATE` jeżeli `id` ma przypisaną wartość,\n",
    "* pozostałe pola (instancje) klasy `Field` danego modelu również znajdują się w tym 'zapytaniu'.\n",
    "\n",
    "7. Sprawdź w dokumentacji (link w punkcie 2) jak wygląda dziedziczenie w schemacie klas ABC i zaimplementuj dwie klasy:\n",
    "\n",
    "* klasę `Koszyk` dziedziczącą po klasie `MutableSequence` - zaimplementuj niezbędne metody\n",
    "* klasę `Tydzien` z dodanymi w kodzie nazwami dni tygodnia dziedziczącą po klasie `Collection`\n",
    "* dodaj kod testujący działanie wszystkich zaimplementowanych metod\n"
   ]
  }
 ],
 "metadata": {
  "kernelspec": {
   "display_name": "Python 3 (ipykernel)",
   "language": "python",
   "name": "python3"
  },
  "language_info": {
   "codemirror_mode": {
    "name": "ipython",
    "version": 3
   },
   "file_extension": ".py",
   "mimetype": "text/x-python",
   "name": "python",
   "nbconvert_exporter": "python",
   "pygments_lexer": "ipython3",
   "version": "3.13.2"
  }
 },
 "nbformat": 4,
 "nbformat_minor": 5
}
