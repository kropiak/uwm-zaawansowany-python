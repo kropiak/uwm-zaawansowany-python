{
 "cells": [
  {
   "cell_type": "markdown",
   "id": "f36a3fc5-0fb4-4a8e-b09d-429695d87e4f",
   "metadata": {},
   "source": [
    "# Lab 6. Wyrażenia regularne w Pythonie, część 2"
   ]
  },
  {
   "cell_type": "markdown",
   "id": "31f70965-fa77-4cad-bd9a-afea1eafef6b",
   "metadata": {},
   "source": [
    "## 1. Inne metaznaki wyrażeń regularnych."
   ]
  },
  {
   "cell_type": "markdown",
   "id": "95685a8f-3f85-4c97-8739-5e1ceaa81790",
   "metadata": {},
   "source": [
    "W tej części przedstawione zostaną kolejne elementy wyrażeń regularnych, w tym przwchwytywanie w przód praz tył oraz grupy. Bardzo przydatnym narzędziem do testowania wyrażeń regularnych jest to dostępne pod adresem https://regex101.com/."
   ]
  },
  {
   "cell_type": "markdown",
   "id": "2e64c07a-3b63-46fc-9f38-e5ab6f0e5022",
   "metadata": {},
   "source": [
    "| Metaznak | Opis                                                                                     \n",
    "|----------|------------------------------------------------------------------------------------------\n",
    "| `\\A`     | Zwraca dopasowanie, jeśli określone znaki znajdują się na początku ciągu\n",
    "| `\\b`     | Zwraca dopasowanie, jeśli określone znaki znajdują się na początku lub końcu wyrazu\n",
    "| `\\B`     | Zwraca dopasowanie, jeśli określone znaki występują, ale NIE na początku ani końcu wyrazu\n",
    "| `\\d`     | Zwraca dopasowanie, jeśli ciąg zawiera cyfry (liczby od 0 do 9), to samo co [0-9]\n",
    "| `\\D`     | Zwraca dopasowanie, jeśli ciąg NIE zawiera cyfr, to samo co [^0-9]\n",
    "| `\\s`     | Zwraca dopasowanie, jeśli ciąg zawiera znak białej spacji\n",
    "| `\\S`     | Zwraca dopasowanie, jeśli ciąg NIE zawiera znaku białej spacji\n",
    "| `\\w`     | Zwraca dopasowanie, jeśli ciąg zawiera dowolne znaki słowa (litery od a do Z, cyfry od 0 do 9 oraz znak podkreślenia `_`) (czyli [a-zA-Z0-9_])\n",
    "| `\\W`     | Zwraca dopasowanie, jeśli ciąg NIE zawiera żadnych znaków, które zwraca \\w\n",
    "| `\\Z`     | Zwraca dopasowanie, jeśli określone znaki znajdują się na końcu ciągu"
   ]
  },
  {
   "cell_type": "markdown",
   "id": "bd6c0aae-376e-41fa-affc-ed362cd30658",
   "metadata": {},
   "source": [
    "**Flagi**\n",
    "\n",
    "Implementacja silnika wyrażeń regularnych w Pythonie pozwala na ustaawienie poniższych flag:\n",
    "\n",
    "\n",
    "* `re.A`, `re.ASCII` (ASCII-only matching) - dopasowanie uwzględniające tylko znaki ASCII,\n",
    "\n",
    "* `re.I`, `re.IGNORECASE` (ignore case) - wyszukiwanie bez uwzględniania wielkości liter,\n",
    "\n",
    "* `re.L`, `re.LOCALE` (locale dependent) - użycie \\w, \\W, \\b, \\B oraz wyszukiwanie bez uwzględniania znaków jest zależne od ustawień regionalnych. Używane tylko z regułami bajtowymi.\n",
    "\n",
    "* `re.M`, `re.MULTILINE` (multi-line) - powoduje zmianę interpretowania metaznaczników `^` oraz `$`, które przy włączonej fladze są uwzględniane na końcu lub początku każdej linii, a nie tylko całego łańcucha jako całości,\n",
    "\n",
    "* `re.S`, `re.DOTALL` (dot matches all) - jeżeli włączona to traktuje wszystkie znaki łącznie ze znakiem nowej linii jako dowolny znak, wyłączona wszystkie znaki poza znakiem nowej linii,\n",
    "\n",
    "* `re.U`,`re.UNICODE` (Unicode matching) - dopasowanie uwzględniające dopasowanie wg. tablicy znaków Unicode, ale w Pythonie 3 jest ignorowane, zachowane dla wstecznej kompaybilności, gdyż Python 3 domyślnie korzysta z tego typu wyszukowania dla typu `str`\n",
    "\n",
    "* `re.X`, `re.VERBOSE` (verbose) - pozwala na używanie białych znaków oraz komentarzy w wyrażeniach dla poprawienia ich czytelności. Zobacz przykład w: https://docs.python.org/3/library/re.html#re.VERBOSE\n",
    "\n",
    "* `re.NOFLAG` - wyłącza wszystkie flagi, jeżeli są domyślnie jakieś ustawione - oczywiście dla tego jednego wyrażenia.\n",
    "\n",
    "* `re.DEBUG` - wyświetla szczegółowe informacje o przetwarzanym wyrażeniu"
   ]
  },
  {
   "cell_type": "code",
   "execution_count": 166,
   "id": "35f5f650-4705-4bfa-bf65-4a8b94cb0f1a",
   "metadata": {},
   "outputs": [],
   "source": [
    "text = r\"\"\"Adam Malinowski\n",
    ".gitignore\n",
    "2023-01-17 error \"Page not found\"\n",
    "[2025-03-06] NOTICE \"User admin logged in\"\n",
    "Code 3300 was invalid\n",
    "https://www.onet.pl 200 176353\n",
    "File /etc/passwd: permission denied\n",
    "Józef\n",
    "C:\\Program Files\n",
    "Ania\n",
    "JOLA\n",
    "marek\n",
    "Kowalski\n",
    "bodo363\n",
    "PIN 0000 was invalid\n",
    "/users/test is not a valid directory name\n",
    "192.168.0.1 access denied\n",
    "1000\n",
    "666\n",
    "\"\"\""
   ]
  },
  {
   "cell_type": "code",
   "execution_count": 38,
   "id": "3d6f9f4e-b1b7-4984-abeb-52bb73c3fb10",
   "metadata": {},
   "outputs": [],
   "source": [
    "import re"
   ]
  },
  {
   "cell_type": "code",
   "execution_count": 167,
   "id": "94866dac-0b1c-447e-a7ec-e5b419434bae",
   "metadata": {},
   "outputs": [
    {
     "name": "stdout",
     "output_type": "stream",
     "text": [
      "AT AT_BEGINNING_STRING\n",
      "LITERAL 65\n",
      "MAX_REPEAT 1 MAXREPEAT\n",
      "  ANY None\n",
      "\n",
      " 0. INFO 4 0b0 2 MAXREPEAT (to 5)\n",
      " 5: AT BEGINNING_STRING\n",
      " 7. LITERAL 0x41 ('A')\n",
      " 9. REPEAT_ONE 5 1 MAXREPEAT (to 15)\n",
      "13.   ANY\n",
      "14.   SUCCESS\n",
      "15: SUCCESS\n"
     ]
    },
    {
     "data": {
      "text/plain": [
       "['Adam Malinowski']"
      ]
     },
     "execution_count": 167,
     "metadata": {},
     "output_type": "execute_result"
    }
   ],
   "source": [
    "# zwraca łańcuchy rozpoczynające się od A\n",
    "re.findall(r'\\AA.+', text, flags=re.DEBUG)"
   ]
  },
  {
   "cell_type": "code",
   "execution_count": 168,
   "id": "f1b40e87-b7f1-4662-8b17-e99d2083ec6d",
   "metadata": {},
   "outputs": [
    {
     "data": {
      "text/plain": [
       "['/passwd', '/test']"
      ]
     },
     "execution_count": 168,
     "metadata": {},
     "output_type": "execute_result"
    }
   ],
   "source": [
    "# zwraca wyrazy, które rozpoczynają się od znaku /\n",
    "re.findall(r'\\b/[a-z]+', text)"
   ]
  },
  {
   "cell_type": "code",
   "execution_count": 169,
   "id": "92c785c9-dac8-40a2-ae70-e650be23779b",
   "metadata": {},
   "outputs": [
    {
     "data": {
      "text/plain": [
       "['Malinowski', 'Kowalski']"
      ]
     },
     "execution_count": 169,
     "metadata": {},
     "output_type": "execute_result"
    }
   ],
   "source": [
    "# zwraca wyrazy, które kończą się znakiem ciągiem ski\n",
    "re.findall(r'[a-zA-Z]+ski\\b', text)"
   ]
  },
  {
   "cell_type": "code",
   "execution_count": 204,
   "id": "b171e92a-48d7-48ef-b5ae-2e6a1ee282bc",
   "metadata": {},
   "outputs": [
    {
     "data": {
      "text/plain": [
       "['Adam',\n",
       " 'Malinowski',\n",
       " 'gitignore',\n",
       " '2023',\n",
       " '01',\n",
       " '17',\n",
       " 'error',\n",
       " 'Page',\n",
       " 'not',\n",
       " 'found',\n",
       " '2025',\n",
       " '03',\n",
       " '06',\n",
       " 'NOTICE',\n",
       " 'User',\n",
       " 'admin',\n",
       " 'logged',\n",
       " 'in',\n",
       " 'Code',\n",
       " '3300',\n",
       " 'was',\n",
       " 'invalid',\n",
       " 'https',\n",
       " 'www',\n",
       " 'onet',\n",
       " 'pl',\n",
       " '200',\n",
       " '176353',\n",
       " 'File',\n",
       " 'etc',\n",
       " 'passwd',\n",
       " 'permission',\n",
       " 'denied',\n",
       " 'Józef',\n",
       " 'C',\n",
       " 'Program',\n",
       " 'Files',\n",
       " 'Ania',\n",
       " 'JOLA',\n",
       " 'marek',\n",
       " 'Kowalski',\n",
       " 'bodo363',\n",
       " 'PIN',\n",
       " '0000',\n",
       " 'was',\n",
       " 'invalid',\n",
       " 'users',\n",
       " 'test',\n",
       " 'is',\n",
       " 'not',\n",
       " 'a',\n",
       " 'valid',\n",
       " 'directory',\n",
       " 'name',\n",
       " '192',\n",
       " '168',\n",
       " '0',\n",
       " '1',\n",
       " 'access',\n",
       " 'denied',\n",
       " '1000',\n",
       " '666']"
      ]
     },
     "execution_count": 204,
     "metadata": {},
     "output_type": "execute_result"
    }
   ],
   "source": [
    "# zwraca wszystkie wyrazy\n",
    "re.findall(r'\\w+', text)"
   ]
  },
  {
   "cell_type": "code",
   "execution_count": 98,
   "id": "11c77bf2-4d04-41c3-85b6-9bca0eded194",
   "metadata": {},
   "outputs": [
    {
     "data": {
      "text/plain": [
       "['A', 'M', 'P', 'NOTICE', 'U', 'C', 'F', 'J', 'A', 'JOLA', 'K', 'PIN']"
      ]
     },
     "execution_count": 98,
     "metadata": {},
     "output_type": "execute_result"
    }
   ],
   "source": [
    "# znajduje wszystkie wyrazy, które rozpoczynają się wielką literą i kolejne znaki to też wielkie litery\n",
    "re.findall(r'\\b[A-Z]+', text)"
   ]
  },
  {
   "cell_type": "code",
   "execution_count": 205,
   "id": "00c3e600-3407-4753-9673-9a79b0f5cb2a",
   "metadata": {},
   "outputs": [
    {
     "data": {
      "text/plain": [
       "['Adam',\n",
       " 'Malinowski',\n",
       " 'gitignore',\n",
       " 'error',\n",
       " 'Page',\n",
       " 'not',\n",
       " 'found',\n",
       " 'NOTICE',\n",
       " 'User',\n",
       " 'admin',\n",
       " 'logged',\n",
       " 'in',\n",
       " 'Code',\n",
       " 'was',\n",
       " 'invalid',\n",
       " 'https',\n",
       " 'www',\n",
       " 'onet',\n",
       " 'pl',\n",
       " 'File',\n",
       " 'etc',\n",
       " 'passwd',\n",
       " 'permission',\n",
       " 'denied',\n",
       " 'Józef',\n",
       " 'C',\n",
       " 'Program',\n",
       " 'Files',\n",
       " 'Ania',\n",
       " 'JOLA',\n",
       " 'marek',\n",
       " 'Kowalski',\n",
       " 'PIN',\n",
       " 'was',\n",
       " 'invalid',\n",
       " 'users',\n",
       " 'test',\n",
       " 'is',\n",
       " 'not',\n",
       " 'a',\n",
       " 'valid',\n",
       " 'directory',\n",
       " 'name',\n",
       " 'access',\n",
       " 'denied']"
      ]
     },
     "execution_count": 205,
     "metadata": {},
     "output_type": "execute_result"
    }
   ],
   "source": [
    "re.findall(r'\\b[^\\d\\W]+\\b', text)"
   ]
  },
  {
   "cell_type": "markdown",
   "id": "c89cd60d-bbdc-46b1-a4ef-f16347e57150",
   "metadata": {},
   "source": [
    "## 2. Konsumowanie w przód i w tył"
   ]
  },
  {
   "cell_type": "markdown",
   "id": "a208be1c-96c2-4cff-b5f3-b9724af829f5",
   "metadata": {},
   "source": [
    "Konsumowanie w przód (Lookahead) oraz w tył (Lookbehind) pozwala na definiowanie wyrażeń, których część nie zostanie wyświetlona w wynikach jako dopasowanie, więc jest to coś w stylu odnajdź i przytnij."
   ]
  },
  {
   "cell_type": "code",
   "execution_count": 208,
   "id": "1b402cd9-ffa4-492f-837b-1bee30b8b3c5",
   "metadata": {},
   "outputs": [
    {
     "name": "stdout",
     "output_type": "stream",
     "text": [
      "Konsumowanie w przód: ['Python']\n"
     ]
    }
   ],
   "source": [
    "text = \"Python 3.10 is awesome, but Python 2.7 is outdated.\"\n",
    "\n",
    "# Znajdź wszystkie wystąpienia \"Python\", po których występuje wersja zaczynająca się od \"3\", ale wersji nie wyświetlaj\n",
    "pattern = r\"Python(?=\\s3\\.\\d+)\"\n",
    "matches = re.findall(pattern, text)\n",
    "\n",
    "print(\"Konsumowanie w przód:\", matches)"
   ]
  },
  {
   "cell_type": "code",
   "execution_count": 209,
   "id": "d01309e4-0866-45fb-b80d-f2c61b66c77e",
   "metadata": {},
   "outputs": [
    {
     "name": "stdout",
     "output_type": "stream",
     "text": [
      "Konsumowanie w tył: ['3.10', '2.7']\n"
     ]
    }
   ],
   "source": [
    "# Znajdź wszystkie wersje, które są poprzedzone słowem \"Version\"\n",
    "text = \"Version 3.10 is stable, but version 2.7 is deprecated.\"\n",
    "\n",
    "pattern = r\"(?<=Version\\s)\\d\\.\\d+\"\n",
    "matches = re.findall(pattern, text, flags=re.I)\n",
    "\n",
    "print(\"Konsumowanie w tył:\", matches)"
   ]
  },
  {
   "cell_type": "code",
   "execution_count": 210,
   "id": "9fea0614-1d59-4aed-8157-229c7d067380",
   "metadata": {},
   "outputs": [
    {
     "name": "stdout",
     "output_type": "stream",
     "text": [
      "Konsumowanie w przód oraz w tył: ['100', '80']\n"
     ]
    }
   ],
   "source": [
    "text = \"Standardowa cena to $100, ale cena po rabacie to $80.\"\n",
    "\n",
    "# Znajdź liczby, które są poprzedzone znakiem dolara i następują po nich przecinki lub kropki\n",
    "pattern = r\"(?<=\\$)\\d+(?=[,.])\"\n",
    "matches = re.findall(pattern, text)\n",
    "\n",
    "print(\"Konsumowanie w przód oraz w tył:\", matches)"
   ]
  },
  {
   "cell_type": "code",
   "execution_count": 211,
   "id": "2d0c4ef7-715e-4b89-9d69-38d44e11c4f8",
   "metadata": {},
   "outputs": [
    {
     "name": "stdout",
     "output_type": "stream",
     "text": [
      "Negatywne konsumowanie w przód: ['cat', 'cat']\n"
     ]
    }
   ],
   "source": [
    "text = \"cat, caterpillar, dog, catalog\"\n",
    "\n",
    "# Znajdź wszystkie słowa zaczynające się od \"cat\", ale nie kończące się na \"er\"\n",
    "pattern = r\"cat(?!er)\"\n",
    "matches = re.findall(pattern, text)\n",
    "\n",
    "print(\"Negatywne konsumowanie w przód:\", matches)"
   ]
  },
  {
   "cell_type": "code",
   "execution_count": 143,
   "id": "2c5abd1f-d700-496c-847b-10dc589d5167",
   "metadata": {},
   "outputs": [
    {
     "name": "stdout",
     "output_type": "stream",
     "text": [
      "Negatywne wyszukiwanie w tył: ['404', '500']\n"
     ]
    }
   ],
   "source": [
    "text = \"error404, success200, error500, success404\"\n",
    "\n",
    "# Znajdź wszystkie kody błędów, które nie są poprzedzone słowem \"success\"\n",
    "pattern = r\"(?<!success)\\d{3}\"\n",
    "matches = re.findall(pattern, text)\n",
    "\n",
    "print(\"Negatywne wyszukiwanie w tył:\", matches)"
   ]
  },
  {
   "cell_type": "markdown",
   "id": "aaa6711b-5570-436e-a6e0-f0ece62bbca5",
   "metadata": {},
   "source": [
    "## 3. Grupy"
   ]
  },
  {
   "cell_type": "markdown",
   "id": "607ae7d8-1a4a-4e9e-9653-b53580284e5f",
   "metadata": {},
   "source": [
    "Grupy są elementem wyrażeń regularnych, które pozwalają na podział elementów odnalezionego wyrażenia na części (również możemy je nazwać) i ponowne do nich odwołanie w tym wyrażeniu.\n",
    "Grupy definiujemy umieszczając wyrażenia w nawiasach `()`."
   ]
  },
  {
   "cell_type": "code",
   "execution_count": 213,
   "id": "e346a443-fa6d-46ba-81d9-3d2ff545bf38",
   "metadata": {},
   "outputs": [
    {
     "data": {
      "text/plain": [
       "[('1995', '05', '20')]"
      ]
     },
     "execution_count": 213,
     "metadata": {},
     "output_type": "execute_result"
    }
   ],
   "source": [
    "# przykład 1\n",
    "text = 'Data narodzin Adama to 1995-05-20'\n",
    "\n",
    "re.findall(r'(\\d{4})-(\\d{2})-(\\d{2})', text)\n",
    "\n",
    "# dla ciekawości przetestuj\n",
    "# re.findall(r'(\\d{4})-(\\d{2})-(\\d{2})', text, flags=re.DEBUG)"
   ]
  },
  {
   "cell_type": "code",
   "execution_count": 214,
   "id": "43f0c1e7-390c-4f5f-86a0-e0a79236b673",
   "metadata": {},
   "outputs": [
    {
     "data": {
      "text/plain": [
       "[('1995', '-', '05', '-', '20')]"
      ]
     },
     "execution_count": 214,
     "metadata": {},
     "output_type": "execute_result"
    }
   ],
   "source": [
    "# przykład 2\n",
    "# teraz zmienimy wyrażenie oczekując innego separatora z odłowaniem do grupy\n",
    "# dodaliśmy grupę, która zawiera - a następnie poprzez \\2 odwołujemy się do drugiej grupy w naszym wyrażeniu\n",
    "# oczywiście może nie jest porządanym, aby ten znak separatora przechwytywać, ale to już inna kwestia\n",
    "re.findall(r'(\\d{4})(-)(\\d{2})(\\2)(\\d{2})', text)"
   ]
  },
  {
   "cell_type": "code",
   "execution_count": 215,
   "id": "0709bf42-9fb8-47b3-bbe7-ab7428bffeae",
   "metadata": {},
   "outputs": [
    {
     "data": {
      "text/plain": [
       "[('1995', '05', '20')]"
      ]
     },
     "execution_count": 215,
     "metadata": {},
     "output_type": "execute_result"
    }
   ],
   "source": [
    "# przykład 3\n",
    "# grupom możemy nadać nazwy\n",
    "re.findall(r'(?P<rok>\\d{4})-(?P<miesiac>\\d{2})-(?P<dzien>\\d{2})', text)"
   ]
  },
  {
   "cell_type": "code",
   "execution_count": 134,
   "id": "ad6c07ca-df6d-4c67-9c88-e83d28767bc9",
   "metadata": {},
   "outputs": [
    {
     "data": {
      "text/plain": [
       "[('1995', '20')]"
      ]
     },
     "execution_count": 134,
     "metadata": {},
     "output_type": "execute_result"
    }
   ],
   "source": [
    "# przykład 4 - grupa nie przechwytująca\n",
    "# jeżeli chcemy określić grupę we wzorcu, ale nie umieszczać jej dopasowania w wynikach to poprzedzamy\n",
    "# wyrażenie w danej grupie znakami ?:\n",
    "re.findall(r'(\\d{4})-(?:\\d{2})-(\\d{2})', text)"
   ]
  },
  {
   "cell_type": "code",
   "execution_count": 203,
   "id": "885c1386-aefc-4ad5-8601-36188a88e5f4",
   "metadata": {},
   "outputs": [
    {
     "data": {
      "text/plain": [
       "['/passwd', 'C:\\\\Program', '/test']"
      ]
     },
     "execution_count": 203,
     "metadata": {},
     "output_type": "execute_result"
    }
   ],
   "source": [
    "# przykład z grupą oraz alternatywnym wyrażeniem, wyszukuje początek ścieżki w stylu Unix oraz Windows\n",
    "re.findall(r'(\\b/[a-z]+|\\b[a-zA-Z]:\\\\\\w+)', text)"
   ]
  },
  {
   "cell_type": "code",
   "execution_count": 201,
   "id": "5425a725-68f8-4245-8860-438c4c5060ae",
   "metadata": {},
   "outputs": [
    {
     "data": {
      "text/plain": [
       "['/passwd', '/test']"
      ]
     },
     "execution_count": 201,
     "metadata": {},
     "output_type": "execute_result"
    }
   ],
   "source": [
    "re.findall(r'(\\b/[a-z]+)', text)"
   ]
  },
  {
   "cell_type": "markdown",
   "id": "d9c22910-eb21-4bb1-a93a-18f18b0498e9",
   "metadata": {},
   "source": [
    "## Zadania\n",
    "\n",
    "1. Napisz wyrażenia, które ze zmiennej `text` (tej na początku notebooka) wypiszą:\n",
    "* 1.1 wszystkie liczby,\n",
    "* 1.2 wszystkie liczby co najmniej dwucyfrowe,\n",
    "* 1.3 wszystkie liczby, które zawierają co najmniej dwa kolejne zera,\n",
    "* 1.4 wszystkie wyrazy, które nie zawierają cyfr,\n"
   ]
  },
  {
   "cell_type": "markdown",
   "id": "ed95af9d-03b7-4ff8-b11b-171275796abf",
   "metadata": {},
   "source": [
    "2. Napisz wyrażenie regularne z grupowaniem, które w jednej grupie umieści kod kierunkowy kraju, a w drugiej numer telefonu dla numerów z komórki poniżej. Obie wartości mają zawierać tylko same cyfry bez żadnych dodatkowych znaków w wynikach."
   ]
  },
  {
   "cell_type": "code",
   "execution_count": 144,
   "id": "52c588cf-99bf-4347-83b5-f4b0e917c822",
   "metadata": {},
   "outputs": [],
   "source": [
    "tel = ['+48 555 444 333', \n",
    "'(48) 555-444-333',\n",
    "'(+48)555444333',\n",
    "'+48 555444333', \n",
    " '+48555444333', \n",
    " '48555444333']"
   ]
  },
  {
   "cell_type": "markdown",
   "id": "df7c4c23-99f4-4e48-8d9d-01b3ab5fb49e",
   "metadata": {},
   "source": [
    "3. Wykorzystując konsumowanie w przód oraz w tył wyświetl wszystkie ceny z poniższego tekstu, ale bez oznaczenia waluty."
   ]
  },
  {
   "cell_type": "code",
   "execution_count": 216,
   "id": "55e8a5a6-b8e0-48e0-aede-ce3feb1245fd",
   "metadata": {},
   "outputs": [],
   "source": [
    "tekst = \"\"\"\n",
    "Komputer: 3999.00 PLN, myszka: $30.0, monitor: 399.00 Euro, podkładka: 39 zł\n",
    "\"\"\""
   ]
  }
 ],
 "metadata": {
  "kernelspec": {
   "display_name": "Python 3 (ipykernel)",
   "language": "python",
   "name": "python3"
  },
  "language_info": {
   "codemirror_mode": {
    "name": "ipython",
    "version": 3
   },
   "file_extension": ".py",
   "mimetype": "text/x-python",
   "name": "python",
   "nbconvert_exporter": "python",
   "pygments_lexer": "ipython3",
   "version": "3.13.2"
  }
 },
 "nbformat": 4,
 "nbformat_minor": 5
}
