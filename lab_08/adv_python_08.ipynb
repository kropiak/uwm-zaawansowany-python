{
 "cells": [
  {
   "cell_type": "markdown",
   "id": "0d75b88d-ef7a-400c-893d-1c36edc52917",
   "metadata": {},
   "source": [
    "# Lab 8. Iteratory, generatory oraz wyrażenia generujące"
   ]
  },
  {
   "cell_type": "markdown",
   "id": "74498d6b-c424-424c-952c-013dd4fb30f2",
   "metadata": {},
   "source": [
    "### 1. Iteratory i generatory"
   ]
  },
  {
   "cell_type": "markdown",
   "id": "edcb5793-0e00-40ca-8d24-a13de012dd9b",
   "metadata": {},
   "source": [
    "### 1.1. Iteratory\n",
    "\n",
    "> * Dokumentacja PEP: https://peps.python.org/pep-0234/\n",
    "> * Pojęcia iteratora w dokumentacji Python: https://docs.python.org/3/glossary.html#term-iterator\n",
    "\n",
    "Rozpatrując poniższy fragment kodu:\n",
    "```python\n",
    "for element in range(1, 11):\n",
    "    print(element)\n",
    "```\n",
    "\n",
    "wszystko raczej jest jasne. Ale skąd pętla for wie jak ma się uniwersalnie zachowywać dla różnych obiektów iterowalnego ? Cały mechanizm jest obsługiwany przez iteratory. W niewidoczny dla nas sposób pętle for wywołuje funkcję `iter()` na obiekcie kolekcji. Funkcja zwraca obiekt iteratora, który ma zdefiniowaną metodę `__next__()`, odpowiedzialną za zwracanie kolejnych elementów kolekcji. Kiedy nie ma już więcej elementów kolekcji zgłaszany jest wyjątek `StopIteration`, kończący działanie pętli for. Można wywołać funkcję `__next__()` iteratora za pomocą wbudowanej funkcji `next()`.\n",
    "\n",
    "**Przykład:**\n",
    "```python\n",
    "imie = \"Reks\"\n",
    "it = iter(imie)\n",
    "print(it)\n",
    "# na wyjściu: <str_iterator object at 0x0000000003807FD0>\n",
    "next(it)\n",
    "# 'R'\n",
    "next(it)\n",
    "# 'e'\n",
    "next(it)\n",
    "# 'k'\n",
    "next(it)\n",
    "# 's'\n",
    "next(it)\n",
    "# Traceback (most recent call last):\n",
    "#  File \"<input>\", line 1, in <module>\n",
    "# StopIteration\n",
    "```\n",
    "\n",
    "Przykład implementacji własnego iteratora."
   ]
  },
  {
   "cell_type": "code",
   "execution_count": 19,
   "id": "058af9fd-9780-4846-abbc-d5ea8b250d9b",
   "metadata": {},
   "outputs": [],
   "source": [
    "class Wspak:\n",
    "    \"\"\"Iterator zwracający wartości w odwróconym porządku\"\"\"\n",
    "    \n",
    "    def __init__(self, data):\n",
    "        self.data = data\n",
    "        self.index = len(data)\n",
    "\n",
    "    def __iter__(self):\n",
    "        return self\n",
    "\n",
    "    def __next__(self):\n",
    "        if self.index == 0:\n",
    "            raise StopIteration\n",
    "        self.index = self.index - 1\n",
    "        return self.data[self.index]"
   ]
  },
  {
   "cell_type": "markdown",
   "id": "bd7d5462-f178-4e9f-9cde-4b39d0236d9b",
   "metadata": {},
   "source": [
    "W laboratorium numer 3 przedstawiona została koncepcja abstrakcyjnych klas bazowych oraz zbiór wbudowanych klas abstrakcyjnych dla modułu collections. Wśród innych klas znajdowały się dwie, które nawiązują bezpośrednio do iteratorów: `collections.abc.Iterator` oraz `collections.abc.Iterable`. \n",
    "\n",
    "> Dokumentacja dla przypomnienia: https://docs.python.org/3/library/collections.abc.html\n",
    "\n",
    "Klasa `Iterable` zapewnia implementację metody `__iter__`, a klasa `Iterator` zarówno metodę `__iter__` oraz `__next__`.\n",
    "\n",
    "Przetestowanie czy obiekt jest iterowalny czy nie można wykonać za pomocą wbudowanych metod `isinstance()` oraz `issubclass()` albo poprzez opakowanie rzutowania obiektu na iterator poprzez wywołanie `iter(obiekt)` i obsłużenie wyjątku `TypeError`."
   ]
  },
  {
   "cell_type": "code",
   "execution_count": 9,
   "id": "3f295d71-f707-4a1b-aab2-5bfc2858496d",
   "metadata": {},
   "outputs": [
    {
     "name": "stdout",
     "output_type": "stream",
     "text": [
      "'int' object is not iterable\n"
     ]
    }
   ],
   "source": [
    "# próba rzutowania\n",
    "try:\n",
    "    iter(4)\n",
    "except TypeError as e:\n",
    "    print(e)"
   ]
  },
  {
   "cell_type": "code",
   "execution_count": 5,
   "id": "c4b80a75-f3b4-48f3-ae47-bab9b6c68f0e",
   "metadata": {},
   "outputs": [],
   "source": [
    "import collections.abc\n",
    "\n",
    "some_types_to_check = [str, int, tuple, list, dict, set]\n",
    "\n",
    "def check(objects_to_check):\n",
    "    for obj in objects_to_check:\n",
    "        print(f'Obiekt {obj} dziedziczy po collections.abc.Iterable: {issubclass(obj, collections.abc.Iterable)}')\n",
    "        print(f'Obiekt {obj} dziedziczy po collections.abc.Iterator: {issubclass(obj, collections.abc.Iterator)}')\n",
    "        print(f'Obiekt {obj} posiada metodę __next__: {hasattr(obj, '__next__')}')\n",
    "        print(f'Obiekt {obj} posiada metodę __iter__: {hasattr(obj, '__iter__')}')\n",
    "        # rzutowanie na obiekt iteratora\n",
    "        try:\n",
    "            # wywołujemy (nag. call) obiekty zapisane na liście\n",
    "            obj_iter = iter(obj())\n",
    "            print(f'Obiekt iteratora dla obiektu {obj} to {obj_iter.__class__.__name__}')\n",
    "        except TypeError as e:\n",
    "            print(\"Rzutowanie zakończone błędem!\")\n",
    "            print(e)\n",
    "        print('-' * 20)"
   ]
  },
  {
   "cell_type": "code",
   "execution_count": 6,
   "id": "999d5c2d-2ff9-42b8-8e8e-24e05db10c82",
   "metadata": {},
   "outputs": [
    {
     "name": "stdout",
     "output_type": "stream",
     "text": [
      "Obiekt <class 'str'> dziedziczy po collections.abc.Iterable: True\n",
      "Obiekt <class 'str'> dziedziczy po collections.abc.Iterator: False\n",
      "Obiekt <class 'str'> posiada metodę __next__: False\n",
      "Obiekt <class 'str'> posiada metodę __iter__: True\n",
      "Obiekt iteratora dla obiektu <class 'str'> to str_ascii_iterator\n",
      "--------------------\n",
      "Obiekt <class 'int'> dziedziczy po collections.abc.Iterable: False\n",
      "Obiekt <class 'int'> dziedziczy po collections.abc.Iterator: False\n",
      "Obiekt <class 'int'> posiada metodę __next__: False\n",
      "Obiekt <class 'int'> posiada metodę __iter__: False\n",
      "Rzutowanie zakończone błędem!\n",
      "'int' object is not iterable\n",
      "--------------------\n",
      "Obiekt <class 'tuple'> dziedziczy po collections.abc.Iterable: True\n",
      "Obiekt <class 'tuple'> dziedziczy po collections.abc.Iterator: False\n",
      "Obiekt <class 'tuple'> posiada metodę __next__: False\n",
      "Obiekt <class 'tuple'> posiada metodę __iter__: True\n",
      "Obiekt iteratora dla obiektu <class 'tuple'> to tuple_iterator\n",
      "--------------------\n",
      "Obiekt <class 'list'> dziedziczy po collections.abc.Iterable: True\n",
      "Obiekt <class 'list'> dziedziczy po collections.abc.Iterator: False\n",
      "Obiekt <class 'list'> posiada metodę __next__: False\n",
      "Obiekt <class 'list'> posiada metodę __iter__: True\n",
      "Obiekt iteratora dla obiektu <class 'list'> to list_iterator\n",
      "--------------------\n",
      "Obiekt <class 'dict'> dziedziczy po collections.abc.Iterable: True\n",
      "Obiekt <class 'dict'> dziedziczy po collections.abc.Iterator: False\n",
      "Obiekt <class 'dict'> posiada metodę __next__: False\n",
      "Obiekt <class 'dict'> posiada metodę __iter__: True\n",
      "Obiekt iteratora dla obiektu <class 'dict'> to dict_keyiterator\n",
      "--------------------\n",
      "Obiekt <class 'set'> dziedziczy po collections.abc.Iterable: True\n",
      "Obiekt <class 'set'> dziedziczy po collections.abc.Iterator: False\n",
      "Obiekt <class 'set'> posiada metodę __next__: False\n",
      "Obiekt <class 'set'> posiada metodę __iter__: True\n",
      "Obiekt iteratora dla obiektu <class 'set'> to set_iterator\n",
      "--------------------\n"
     ]
    }
   ],
   "source": [
    "# testujemy obiekty wg. zaimplementowanej logiki\n",
    "check(some_types_to_check)"
   ]
  },
  {
   "cell_type": "markdown",
   "id": "eef03cb2-12d4-469e-9130-08915c5df3f8",
   "metadata": {},
   "source": [
    "Jak widać na wyjściu powyższej komórki, każdy z obiektów, który jest iterowalny, jest rzutowalny na obiekt iteratora, ale nie jest to klasa ogólnego przeznaczenia. W Pythonie mamy dedykowane implementacje iteratorów dla różnych typów wbudowanych.\n",
    "\n",
    "Widać również, że klasy takie jak `str, tuple, set, list` nie są iteratorami, ale mówimy, że są iterowalnymi kontenerami.\n",
    "\n",
    "Pamiętaj, że iteratory są wyczerpywalne, co oznacza, że po ich wykorzystaniu nie można ich ponownie użyć bez utworzenia nowego obiektu."
   ]
  },
  {
   "cell_type": "markdown",
   "id": "d90fae5f-8d00-4847-beba-6f6e56676722",
   "metadata": {},
   "source": [
    "Wiemy już, że metody `__iter__` oraz `__next__` są elementem API Pythona, które pozwalają na implementację funkcjonalności związanej z iteratorami, ale to jeszcze nie wszystko co otrzymujemy w standardowej bibliotece. Wszystkie klasy, które dostarczają funkcji magicznej `__getitem__` również można rzutować na iterator i wykorzystać w ten sam sposób jak pokazano w poprzednich przykładach. Poniżej przykład klasy, która nie posiada metod  `__iter__` oraz `__next__`, ale posiada za to metodę `__getitem__`."
   ]
  },
  {
   "cell_type": "code",
   "execution_count": 14,
   "id": "a089677b-c85e-460a-a72c-68361c3942a5",
   "metadata": {},
   "outputs": [],
   "source": [
    "class Vector2d:\n",
    "\n",
    "    def __init__(self):\n",
    "        self.values = [0,0]\n",
    "\n",
    "    def set_values(x,y):\n",
    "        self.values[0] = x\n",
    "        self.values[1] = y\n",
    "\n",
    "    def __getitem__(self, idx):\n",
    "        if idx >= len(self.values):\n",
    "            raise IndexError\n",
    "        return self.values[idx]"
   ]
  },
  {
   "cell_type": "code",
   "execution_count": 15,
   "id": "89ab7eb2-c894-46e8-9991-b4d113439292",
   "metadata": {},
   "outputs": [
    {
     "name": "stdout",
     "output_type": "stream",
     "text": [
      "Obiekt <class '__main__.Vector2d'> dziedziczy po collections.abc.Iterable: False\n",
      "Obiekt <class '__main__.Vector2d'> dziedziczy po collections.abc.Iterator: False\n",
      "Obiekt <class '__main__.Vector2d'> posiada metodę __next__: False\n",
      "Obiekt <class '__main__.Vector2d'> posiada metodę __iter__: False\n",
      "Obiekt iteratora dla obiektu <class '__main__.Vector2d'> to iterator\n",
      "--------------------\n"
     ]
    }
   ],
   "source": [
    "check([Vector2d])"
   ]
  },
  {
   "cell_type": "code",
   "execution_count": 18,
   "id": "d451c104-8a1b-4f53-a5fc-101cc57db983",
   "metadata": {},
   "outputs": [
    {
     "name": "stdout",
     "output_type": "stream",
     "text": [
      "0\n",
      "0\n"
     ]
    }
   ],
   "source": [
    "vec = Vector2d()\n",
    "vector_iterator = iter(vec)\n",
    "print(next(vector_iterator))\n",
    "print(next(vector_iterator))"
   ]
  },
  {
   "cell_type": "code",
   "execution_count": 43,
   "id": "d80f7017-484e-407f-882a-5674f1976b7c",
   "metadata": {},
   "outputs": [],
   "source": [
    "# przykład implementacji iteratora dla skończonego ciągu liczb Fibonacciego\n",
    "class FibonacciIterator:\n",
    "    def __init__(self, limit):\n",
    "        self.limit = limit\n",
    "        self.a, self.b = 0, 1\n",
    "\n",
    "    def __iter__(self):\n",
    "        return self\n",
    "\n",
    "    def __next__(self):\n",
    "        if self.a > self.limit:\n",
    "            raise StopIteration\n",
    "\n",
    "        fibonacci_number = self.a\n",
    "        self.a, self.b = self.b, self.a + self.b\n",
    "\n",
    "        return fibonacci_number"
   ]
  },
  {
   "cell_type": "code",
   "execution_count": 46,
   "id": "81c90d6c-eaca-40d6-82ab-0e0e6597e801",
   "metadata": {},
   "outputs": [
    {
     "name": "stdout",
     "output_type": "stream",
     "text": [
      "0\n",
      "1\n",
      "1\n",
      "2\n",
      "3\n",
      "5\n",
      "8\n",
      "13\n",
      "21\n",
      "34\n",
      "55\n",
      "89\n"
     ]
    }
   ],
   "source": [
    "fib_iter = FibonacciIterator(100)\n",
    "for fib in fib_iter:\n",
    "    print(fib)"
   ]
  },
  {
   "cell_type": "markdown",
   "id": "616ba412-b0e6-446d-b788-0b7d2097a766",
   "metadata": {},
   "source": [
    "### 1.2 Funkcja generatora"
   ]
  },
  {
   "cell_type": "markdown",
   "id": "380682bc-6e1c-4d39-9620-e8390f3e4ebe",
   "metadata": {},
   "source": [
    "**Dokumentacja:**\n",
    "* https://wiki.python.org/moin/Generators\n",
    "* https://peps.python.org/pep-0255/\n",
    "\n",
    "\n",
    "Generatory są prostymi narzędziami do tworzenia iteratorów. Generatory piszemy jak standardowe funkcje, ale zamiast instrukcji `return` używamy `yield`, która wydaje się tutaj bardzo podobna w działaniu, ale są znaczne różnice. Za każdym razem kiedy funkcja `next()` jest wywoływana na generatorze wznawia on swoje działanie w momencie, w którym został przerwany instrukcją `yield`. Instrukcja `yield` zwraca obiekt generatora, mówi się również `daje` lub `produkuje` wartości. Przy próbie wywołania `next` na obiekcie generatora, który wyczerpał już produkcję wartości zgłaszany jest wyjątek `StopIteration`.\n",
    "\n",
    "Każda funkcja w języku Python, która posiada instrukcję `yield` jest nazywana `funkcją generatora`.\n",
    "\n",
    "Od wersji 3.5 Pythona mamy również do dyspozycji generatory asynchroniczne (poprzez `async def`), ale ten temat został tutaj pominięty.\n",
    "\n",
    "Poniżej przykład generatora, którego działanie jest podobne do iteratora zaprezentowanego w przykładzie."
   ]
  },
  {
   "cell_type": "code",
   "execution_count": 20,
   "id": "a7e8e7c5-4c1f-413c-8c7d-7819af23e4f3",
   "metadata": {},
   "outputs": [
    {
     "name": "stdout",
     "output_type": "stream",
     "text": [
      "s\n",
      "Marek\n",
      "k\n"
     ]
    }
   ],
   "source": [
    "def reverse(data):\n",
    "    for index in range(len(data)-1, -1, -1):\n",
    "        yield data[index]\n",
    "\n",
    "\n",
    "gen = reverse(\"Feliks\")\n",
    "print(next(gen))\n",
    "print(\"Marek\")\n",
    "print(next(gen))"
   ]
  },
  {
   "cell_type": "markdown",
   "id": "c5f273af-fa65-4a77-8eeb-7493230984ea",
   "metadata": {},
   "source": [
    "Możliwe jest wykorzystanie wielu instrukcji `yield` w ciele jednej funkcji generującej."
   ]
  },
  {
   "cell_type": "code",
   "execution_count": 22,
   "id": "42cf4c73-257f-4b4d-9896-e62739f21d76",
   "metadata": {},
   "outputs": [],
   "source": [
    "def gen_tic_tac_toe():\n",
    "    yield 'TIC'\n",
    "    yield 'TAC'\n",
    "    yield 'TOE'"
   ]
  },
  {
   "cell_type": "code",
   "execution_count": 24,
   "id": "ab68bfd7-9c3d-4dd5-9cfe-85d526f135d2",
   "metadata": {},
   "outputs": [
    {
     "name": "stdout",
     "output_type": "stream",
     "text": [
      "TIC\n",
      "Kolejny krok...\n",
      "TAC\n",
      "Kolejny krok...\n",
      "TOE\n"
     ]
    },
    {
     "ename": "StopIteration",
     "evalue": "",
     "output_type": "error",
     "traceback": [
      "\u001b[1;31m---------------------------------------------------------------------------\u001b[0m",
      "\u001b[1;31mStopIteration\u001b[0m                             Traceback (most recent call last)",
      "Cell \u001b[1;32mIn[24], line 8\u001b[0m\n\u001b[0;32m      5\u001b[0m \u001b[38;5;28mprint\u001b[39m(\u001b[38;5;124m'\u001b[39m\u001b[38;5;124mKolejny krok...\u001b[39m\u001b[38;5;124m'\u001b[39m)\n\u001b[0;32m      6\u001b[0m \u001b[38;5;28mprint\u001b[39m(\u001b[38;5;28mnext\u001b[39m(gen))\n\u001b[1;32m----> 8\u001b[0m \u001b[38;5;28mprint\u001b[39m(\u001b[38;5;28;43mnext\u001b[39;49m\u001b[43m(\u001b[49m\u001b[43mgen\u001b[49m\u001b[43m)\u001b[49m)\n",
      "\u001b[1;31mStopIteration\u001b[0m: "
     ]
    }
   ],
   "source": [
    "gen = gen_tic_tac_toe()\n",
    "print(next(gen))\n",
    "print('Kolejny krok...')\n",
    "print(next(gen))\n",
    "print('Kolejny krok...')\n",
    "print(next(gen))\n",
    "\n",
    "print(next(gen))"
   ]
  },
  {
   "cell_type": "markdown",
   "id": "4d68baa6-57b1-4f08-9566-7a6fa2dc335b",
   "metadata": {},
   "source": [
    "### 1.3 Wyrażenie generujące"
   ]
  },
  {
   "cell_type": "markdown",
   "id": "85cc4074-8981-4897-ae65-72ef61be8114",
   "metadata": {},
   "source": [
    "Podobnie do wyrażeń listowych (Python comprehension) możliwe jest również zapisanie wyrażenia generatora w analogiczny sposób. Używamy do tego celu **nawiasów zwykłych**. Przykład pniżej."
   ]
  },
  {
   "cell_type": "code",
   "execution_count": 27,
   "id": "d551d3bc-d6fe-4eb3-a184-437e39f24f80",
   "metadata": {},
   "outputs": [
    {
     "name": "stdout",
     "output_type": "stream",
     "text": [
      "<generator object <genexpr> at 0x000001480791C100>\n",
      "Z\n",
      "d\n",
      "z\n",
      "['i', 's', 'ł', 'a', 'w']\n"
     ]
    }
   ],
   "source": [
    "# wyrażenia generujące\n",
    "litery = (litera for litera in \"Zdzisław\")\n",
    "print(litery)\n",
    "print(next(litery))\n",
    "print(next(litery))\n",
    "print(next(litery))\n",
    "\n",
    "# i cała reszta\n",
    "print(list(litery))"
   ]
  },
  {
   "cell_type": "markdown",
   "id": "71a51641-21a0-40fa-b245-e7e6ab52acfb",
   "metadata": {},
   "source": [
    "## Zadania\n",
    "\n",
    "**Zadanie 1**\n",
    "\n",
    "Napisz własny iterator, który będzie zwracał tylko elementy z parzystych indeksów przekazanej sekwencji.\n",
    "\n",
    "**Zadanie 2**\n",
    "\n",
    "Bazując na przykładzie z iteratorem generującym kolejne wartości ciągu Fibonacciego napisz iterator, który generuje liczby pierwsze.\n",
    "\n",
    "**Zadanie 3**\n",
    "\n",
    "Napisz iterator, który zwraca nazwy dni tygodnia w języku polskim (patrz zadanie 4, lab 7). Iterator inicjalizujemy indeksem wskazującym, od którego dnia iteracja się rozpoczyna. Iterator powinien działać w sposób nieskończony (ale uważaj w trakcie jego testowania).\n",
    "\n",
    "**Zadanie 4**\n",
    "\n",
    "Napisz iterator, który będzie zwracał kolejne słowa z przekazanego tekstu, ale wykorzystaj wyrażenia regularne do wydobycia tych słów. Postaraj się wykorzystać iterator również dla znalezionych dopasowań dla tego wyrażenia (patrz poprzednie laboratoria).\n",
    "\n",
    "\n",
    "**Zadanie 5**\n",
    "\n",
    "Przepisz iterator z zadania 4 na generator (funkcja generująca).\n",
    "\n",
    "\n",
    "**Zadanie 6**\n",
    "\n",
    "Napisz generator kodów produktów, który przyjmuje dwa argumenty inicjujące: `letter_pos`, `num_pos` - oba są typem `int`. Ten generator ma zwracać kolejny kod produktu według schematu: \n",
    "\n",
    "* wywołanie dla `letter_pos = 1` oraz `num_pos = 2` generuje kody od `A_01` do `Z_99`\n",
    "* wywołanie dla `letter_pos = 2` oraz `num_pos = 3` generuje kody od `A_001` do `ZZ_999`\n",
    "\n",
    "Rzuć okiem na moduł `string` oraz mmoduł `itertools` z poprzedniego laboratorium, aby wykorzystać funkcje pomocnicze."
   ]
  }
 ],
 "metadata": {
  "kernelspec": {
   "display_name": "Python 3 (ipykernel)",
   "language": "python",
   "name": "python3"
  },
  "language_info": {
   "codemirror_mode": {
    "name": "ipython",
    "version": 3
   },
   "file_extension": ".py",
   "mimetype": "text/x-python",
   "name": "python",
   "nbconvert_exporter": "python",
   "pygments_lexer": "ipython3",
   "version": "3.13.2"
  }
 },
 "nbformat": 4,
 "nbformat_minor": 5
}
