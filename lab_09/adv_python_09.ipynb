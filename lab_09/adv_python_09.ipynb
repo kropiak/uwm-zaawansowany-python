{
 "cells": [
  {
   "cell_type": "markdown",
   "id": "b680c437-871a-41b1-83d7-07204abcb606",
   "metadata": {},
   "source": [
    "# Lab 9. Moduł `sys` oraz `os`"
   ]
  },
  {
   "cell_type": "markdown",
   "id": "1197bb9d-8c9d-4a42-aba5-7db19bf9b2b6",
   "metadata": {},
   "source": [
    "## 1. Moduł `sys`"
   ]
  },
  {
   "cell_type": "markdown",
   "id": "8b6388a2-0b1e-44fd-9570-9d2b04977cb6",
   "metadata": {},
   "source": [
    "Moduł `sys` dostarcza zmiennych oraz funkcji dla systemu operacyjnego, na którym interpreter Pythona został uruchomiony. Większość funkcji oraz zmiennych działa w trybie readonly.\n",
    "\n",
    "**Dokumentacja:**\n",
    "* https://docs.python.org/3/library/sys.html\n",
    "\n",
    "\n",
    "Poniżej zostaną przedstawione przykłady wykorzystania wybranych elementów tego modułu."
   ]
  },
  {
   "cell_type": "markdown",
   "id": "53b96e49-51dc-44bf-bd4b-776b4546fd43",
   "metadata": {},
   "source": [
    "**`sys.argv` oraz `sys.orig_argv`**"
   ]
  },
  {
   "cell_type": "markdown",
   "id": "fd360a1e-a32c-46e7-8360-b3c6121e99e3",
   "metadata": {},
   "source": [
    "Zmienna `sys.argv` przechowuje wartości zmiennych przekazanych do skryptu uruchomionego w interpreterze. Wartość `argv[0]` zawiera nazwę skryptu, który został uruchomiony. `sys.orig_argv` dodatkowo posiada argumenty, które zostały przesłane do powłoki."
   ]
  },
  {
   "cell_type": "code",
   "execution_count": 72,
   "id": "e3d0907d-a82e-4957-bf16-6f8ede10fec2",
   "metadata": {},
   "outputs": [
    {
     "name": "stdout",
     "output_type": "stream",
     "text": [
      "Running main...\n",
      "argv[0] ma wartość test.py\n",
      "argv[1] ma wartość 1\n",
      "argv[2] ma wartość 2\n",
      "argv[3] ma wartość 3\n",
      "orig_argv[0] ma wartość python\n",
      "orig_argv[1] ma wartość test.py\n",
      "orig_argv[2] ma wartość 1\n",
      "orig_argv[3] ma wartość 2\n",
      "orig_argv[4] ma wartość 3\n"
     ]
    }
   ],
   "source": [
    "!python test.py 1 2 3"
   ]
  },
  {
   "cell_type": "markdown",
   "id": "c863b884-1ea3-4aa7-8bc8-619b539edba3",
   "metadata": {},
   "source": [
    "W systemie UNIX argumenty mogą być przekazywane jako bajty, więc kod pobierający ich wartości może wyglądać nieco inaczej. Odsyłam do przykładu w dokumentacji https://docs.python.org/3/library/sys.html#sys.argv\n",
    "\n",
    "Obsługa argumentów przekazywanych w wierszu poleceń do skryptu Pythona to dość obszerny temat i zachęcam do zapoznania się z modułem `argparse` dla osób nim zainteresowanych. Jest to stosunkowo często praktykowana technika dla zadań Machine Learning uruchamianych dla różnych parametrów modelu/biblioteki (np. PyTorch)."
   ]
  },
  {
   "cell_type": "markdown",
   "id": "07ff2034-2fb7-4daf-bddc-73c264514be5",
   "metadata": {},
   "source": [
    "**`sys.prefix, sys.base_prefix, sys.exec_prefix, sys.base_exec_prefix, sys.executable`**"
   ]
  },
  {
   "cell_type": "markdown",
   "id": "cc8e46af-0b9c-4c92-a6c3-013a3143c2d5",
   "metadata": {},
   "source": [
    "Są to zmienne, które ustawiane są w momencie uruchamiania Pythona i ich wartość zależy od tego czy pracujemy ze środowiskiem wirtualnym czy nie. Wskazują na ścieżki do głównego folderu bieżącego interpretera Pythona."
   ]
  },
  {
   "cell_type": "code",
   "execution_count": 25,
   "id": "4beb69d2-53e7-495b-bc92-144e01acae6c",
   "metadata": {},
   "outputs": [
    {
     "data": {
      "text/plain": [
       "'C:\\\\Users\\\\Krzysztof\\\\AppData\\\\Local\\\\Programs\\\\Python\\\\Python313'"
      ]
     },
     "metadata": {},
     "output_type": "display_data"
    },
    {
     "data": {
      "text/plain": [
       "'C:\\\\Users\\\\Krzysztof\\\\AppData\\\\Local\\\\Programs\\\\Python\\\\Python313'"
      ]
     },
     "metadata": {},
     "output_type": "display_data"
    },
    {
     "data": {
      "text/plain": [
       "'C:\\\\Users\\\\Krzysztof\\\\AppData\\\\Local\\\\Programs\\\\Python\\\\Python313'"
      ]
     },
     "metadata": {},
     "output_type": "display_data"
    },
    {
     "data": {
      "text/plain": [
       "'C:\\\\Users\\\\Krzysztof\\\\AppData\\\\Local\\\\Programs\\\\Python\\\\Python313'"
      ]
     },
     "metadata": {},
     "output_type": "display_data"
    },
    {
     "data": {
      "text/plain": [
       "'C:\\\\Users\\\\Krzysztof\\\\AppData\\\\Local\\\\Programs\\\\Python\\\\Python313\\\\python.exe'"
      ]
     },
     "metadata": {},
     "output_type": "display_data"
    }
   ],
   "source": [
    "import sys\n",
    "\n",
    "display(sys.prefix)\n",
    "display(sys.base_prefix)\n",
    "display(sys.exec_prefix)\n",
    "display(sys.base_exec_prefix)\n",
    "# ścieżka do pliku interpretera\n",
    "display(sys.executable)"
   ]
  },
  {
   "cell_type": "markdown",
   "id": "3c424e6b-c13f-4ac8-a0f9-219d652ebef4",
   "metadata": {},
   "source": [
    "**`sys.builtin_module_names`**"
   ]
  },
  {
   "cell_type": "code",
   "execution_count": 20,
   "id": "8efdb2d9-437c-462d-a403-f5095677e682",
   "metadata": {},
   "outputs": [
    {
     "data": {
      "text/plain": [
       "('_abc',\n",
       " '_ast',\n",
       " '_bisect',\n",
       " '_blake2',\n",
       " '_codecs',\n",
       " '_codecs_cn',\n",
       " '_codecs_hk',\n",
       " '_codecs_iso2022',\n",
       " '_codecs_jp',\n",
       " '_codecs_kr',\n",
       " '_codecs_tw',\n",
       " '_collections',\n",
       " '_contextvars',\n",
       " '_csv',\n",
       " '_datetime',\n",
       " '_functools',\n",
       " '_heapq',\n",
       " '_imp',\n",
       " '_interpchannels',\n",
       " '_interpqueues',\n",
       " '_interpreters',\n",
       " '_io',\n",
       " '_json',\n",
       " '_locale',\n",
       " '_lsprof',\n",
       " '_md5',\n",
       " '_multibytecodec',\n",
       " '_opcode',\n",
       " '_operator',\n",
       " '_pickle',\n",
       " '_random',\n",
       " '_sha1',\n",
       " '_sha2',\n",
       " '_sha3',\n",
       " '_signal',\n",
       " '_sre',\n",
       " '_stat',\n",
       " '_statistics',\n",
       " '_string',\n",
       " '_struct',\n",
       " '_symtable',\n",
       " '_sysconfig',\n",
       " '_thread',\n",
       " '_tokenize',\n",
       " '_tracemalloc',\n",
       " '_typing',\n",
       " '_warnings',\n",
       " '_weakref',\n",
       " '_winapi',\n",
       " 'array',\n",
       " 'atexit',\n",
       " 'binascii',\n",
       " 'builtins',\n",
       " 'cmath',\n",
       " 'errno',\n",
       " 'faulthandler',\n",
       " 'gc',\n",
       " 'itertools',\n",
       " 'marshal',\n",
       " 'math',\n",
       " 'mmap',\n",
       " 'msvcrt',\n",
       " 'nt',\n",
       " 'sys',\n",
       " 'time',\n",
       " 'winreg',\n",
       " 'xxsubtype',\n",
       " 'zlib')"
      ]
     },
     "execution_count": 20,
     "metadata": {},
     "output_type": "execute_result"
    }
   ],
   "source": [
    "# zwraca nazwy modułów wkompilowanych w bieżącą wersję interpretera\n",
    "sys.builtin_module_names"
   ]
  },
  {
   "cell_type": "markdown",
   "id": "c3e43236-b92a-4062-a3c6-1cf2221507cc",
   "metadata": {},
   "source": [
    "**`sys.copyright`**"
   ]
  },
  {
   "cell_type": "code",
   "execution_count": 22,
   "id": "1d829af3-6171-4eea-a4b7-e505422a0e16",
   "metadata": {},
   "outputs": [
    {
     "name": "stdout",
     "output_type": "stream",
     "text": [
      "Copyright (c) 2001-2024 Python Software Foundation.\n",
      "All Rights Reserved.\n",
      "\n",
      "Copyright (c) 2000 BeOpen.com.\n",
      "All Rights Reserved.\n",
      "\n",
      "Copyright (c) 1995-2001 Corporation for National Research Initiatives.\n",
      "All Rights Reserved.\n",
      "\n",
      "Copyright (c) 1991-1995 Stichting Mathematisch Centrum, Amsterdam.\n",
      "All Rights Reserved.\n"
     ]
    }
   ],
   "source": [
    "print(sys.copyright)"
   ]
  },
  {
   "cell_type": "markdown",
   "id": "161f9e00-0242-4362-ae3d-d5b1261a6c93",
   "metadata": {},
   "source": [
    "**`sys.exit(str: message)`**"
   ]
  },
  {
   "cell_type": "markdown",
   "id": "cc4d8a99-04ec-4afa-802c-f463251a9146",
   "metadata": {},
   "source": [
    "Zgłasza wyjątek `SystemExit`, który jest zgłaszany przed zkończeniem pracy interpretera."
   ]
  },
  {
   "cell_type": "code",
   "execution_count": 29,
   "id": "bb5ee916-4045-4757-8ef5-118dff2c3a16",
   "metadata": {},
   "outputs": [
    {
     "ename": "SystemExit",
     "evalue": "System shutdown...",
     "output_type": "error",
     "traceback": [
      "An exception has occurred, use %tb to see the full traceback.\n",
      "\u001b[1;31mSystemExit\u001b[0m\u001b[1;31m:\u001b[0m System shutdown...\n"
     ]
    }
   ],
   "source": [
    "sys.exit('System shutdown...')"
   ]
  },
  {
   "cell_type": "markdown",
   "id": "c2cacd33-13fc-4eba-ba41-9b4b4a7a89d4",
   "metadata": {},
   "source": [
    "**`sys.flags`**"
   ]
  },
  {
   "cell_type": "markdown",
   "id": "8937ae21-d369-4e9d-912c-de5ff13b9c79",
   "metadata": {},
   "source": [
    "`sys.flags` zwraca flagi, które zostały ustawione dla bieżącej sesji interpretera. Możemy sprawdzić czy jest to sesja z debuggerem, czy jest to sesja interaktywna i wiele innych wylistowanych w tabeli pod adresem https://docs.python.org/3/library/sys.html#sys.flags"
   ]
  },
  {
   "cell_type": "code",
   "execution_count": 35,
   "id": "2198c125-3f0d-4e5d-94b0-55f9216ee0b3",
   "metadata": {},
   "outputs": [
    {
     "data": {
      "text/plain": [
       "sys.flags(debug=0, inspect=0, interactive=0, optimize=0, dont_write_bytecode=0, no_user_site=0, no_site=0, ignore_environment=0, verbose=0, bytes_warning=0, quiet=0, hash_randomization=1, isolated=0, dev_mode=False, utf8_mode=0, warn_default_encoding=0, safe_path=False, int_max_str_digits=4300)"
      ]
     },
     "execution_count": 35,
     "metadata": {},
     "output_type": "execute_result"
    }
   ],
   "source": [
    "sys.flags"
   ]
  },
  {
   "cell_type": "markdown",
   "id": "80016c60-faf2-4f50-afc7-a80ed0c11fdd",
   "metadata": {},
   "source": [
    "**`sys.float_info`**"
   ]
  },
  {
   "cell_type": "markdown",
   "id": "9da76011-4ed3-49c7-9d6c-4edf780149bc",
   "metadata": {},
   "source": [
    "Zwraca niskopoziomowe informacje o parametrach określających cechy wartości zmiennoprzecinkowych w bieżącej sesji interpretera Pythona.\n",
    "\n",
    "Szczegóły na temat każdej z wartości w poniższym przykładzie znajdziemy w tabeli pod adresem:\n",
    "https://docs.python.org/3/library/sys.html#sys.float_info"
   ]
  },
  {
   "cell_type": "code",
   "execution_count": 36,
   "id": "6fc59523-ded8-44b1-a4ee-7d46b5df1496",
   "metadata": {},
   "outputs": [
    {
     "data": {
      "text/plain": [
       "sys.float_info(max=1.7976931348623157e+308, max_exp=1024, max_10_exp=308, min=2.2250738585072014e-308, min_exp=-1021, min_10_exp=-307, dig=15, mant_dig=53, epsilon=2.220446049250313e-16, radix=2, rounds=1)"
      ]
     },
     "execution_count": 36,
     "metadata": {},
     "output_type": "execute_result"
    }
   ],
   "source": [
    "sys.float_info"
   ]
  },
  {
   "cell_type": "markdown",
   "id": "47178a87-40b0-43a4-8a72-1aa3687f5cbb",
   "metadata": {},
   "source": [
    "**`sys.getdefaultencoding()`**"
   ]
  },
  {
   "cell_type": "markdown",
   "id": "fa44c4e7-4dfc-4f78-b997-cbadc47fb8fd",
   "metadata": {},
   "source": [
    "Zwraca domyślne kodowanie znaków. Wykorzystywane między innymi przez `str.encode()`"
   ]
  },
  {
   "cell_type": "code",
   "execution_count": 37,
   "id": "4dd80f6a-36a8-42c4-a0ef-ae33190e2d2a",
   "metadata": {},
   "outputs": [
    {
     "data": {
      "text/plain": [
       "'utf-8'"
      ]
     },
     "execution_count": 37,
     "metadata": {},
     "output_type": "execute_result"
    }
   ],
   "source": [
    "sys.getdefaultencoding()"
   ]
  },
  {
   "cell_type": "markdown",
   "id": "c19fa52d-8e91-4b85-8a69-018899534eec",
   "metadata": {},
   "source": [
    "**`sys.getrefcount(object)`**"
   ]
  },
  {
   "cell_type": "markdown",
   "id": "6fa99794-4d46-45d6-a80b-a88258586f90",
   "metadata": {},
   "source": [
    "Zwraca liczbę odwołań do obiektu, ale te wartości mogą w niektórych przypadkach (patrz dokumentacja) nie odzwierciedlać faktycznej liczby referencji. Liczba ta jest również zwiększana o 1 dla samego wywołania `getrefcounts()` dla lokalnego odwołania dla argumentu `object`."
   ]
  },
  {
   "cell_type": "code",
   "execution_count": 41,
   "id": "d7821359-5aa6-4bb6-b70e-4111ff82d5e0",
   "metadata": {},
   "outputs": [
    {
     "data": {
      "text/plain": [
       "3"
      ]
     },
     "execution_count": 41,
     "metadata": {},
     "output_type": "execute_result"
    }
   ],
   "source": [
    "dummy = 'Dummy data...'\n",
    "sys.getrefcount(dummy)"
   ]
  },
  {
   "cell_type": "code",
   "execution_count": 46,
   "id": "40cd73e6-71de-44ec-bc89-da5224ae992a",
   "metadata": {},
   "outputs": [
    {
     "data": {
      "text/plain": [
       "3"
      ]
     },
     "execution_count": 46,
     "metadata": {},
     "output_type": "execute_result"
    }
   ],
   "source": [
    "# jak widać, nie jest to zbyt miarodajne, ale tutaj również Jupyter Notebook dodaje coś od siebie\n",
    "sys.getrefcount('aaa')"
   ]
  },
  {
   "cell_type": "markdown",
   "id": "57aa08ea-73f1-4d0a-8ed8-4e61c83ebcf3",
   "metadata": {},
   "source": [
    "**`sys.getsizeof(object[, default])`**"
   ]
  },
  {
   "cell_type": "markdown",
   "id": "119a1938-ca49-4a18-94ad-0a045a91ef4c",
   "metadata": {},
   "source": [
    "Ta funkcja zwraca wielkość wyrażoną w bajtach, która została zaalokowana dla tego konkretnego elementu, ale nie elementów do których się odwołuje. Dla przykładu la obiektu list nie będzie to suma ilości zaalokowanej pamięci dla wszystkich jej elementów. Działa poprawnie dla wszystkich typów wbudowanych, ale nie gwarantuje poprawności działania dla bibliotek zezwnętrznych. Wywołuje metodę `__getsizeof__` obiektu.\n",
    "\n",
    "W dokumentacji znajdziemy link do przykładowej implementacji, która zwróci ilość zaalokowanej pamięci dla obiektu oraz jego elementów składowych: https://code.activestate.com/recipes/577504-compute-memory-footprint-of-an-object-and-its-cont/"
   ]
  },
  {
   "cell_type": "markdown",
   "id": "16908931-3176-48c4-83f1-12025de1796f",
   "metadata": {},
   "source": [
    "W kontekście rozmiarów pamięci zaalokowanej dla obiektu, przedstawiam poniższy kod jako ciekawostkę (ale i przyszłe zadanie do rozwiązania)."
   ]
  },
  {
   "cell_type": "code",
   "execution_count": 67,
   "id": "4dde9859-970c-4c0e-afbc-bf159c55adb0",
   "metadata": {},
   "outputs": [
    {
     "name": "stdout",
     "output_type": "stream",
     "text": [
      "Lista [1, 2, 3] ma rozmiar 88 bajtów\n",
      "Lista2 [1, 2, 3] ma rozmiar 88 bajtów\n",
      "Lista3 [1, 2, 3] ma rozmiar 80 bajtów\n"
     ]
    }
   ],
   "source": [
    "lista = [1,2,3]\n",
    "print(f'Lista {lista} ma rozmiar {sys.getsizeof(lista)} bajtów')\n",
    "\n",
    "lista2 = list()\n",
    "lista2.append(1)\n",
    "lista2.append(2)\n",
    "lista2.append(3)\n",
    "print(f'Lista2 {lista2} ma rozmiar {sys.getsizeof(lista2)} bajtów')\n",
    "\n",
    "lista3 = [] + [1,2,3]\n",
    "print(f'Lista3 {lista3} ma rozmiar {sys.getsizeof(lista3)} bajtów')"
   ]
  },
  {
   "cell_type": "code",
   "execution_count": 62,
   "id": "f7447d16-fa07-4de6-97b3-a0774e1dbb46",
   "metadata": {},
   "outputs": [],
   "source": [
    "def get_var_name(var):\n",
    "    for name, value in globals().items():\n",
    "        if value is var:\n",
    "            return name"
   ]
  },
  {
   "cell_type": "code",
   "execution_count": 68,
   "id": "d72da2ce-4926-4e79-92eb-5f6332f3d1f5",
   "metadata": {},
   "outputs": [
    {
     "name": "stdout",
     "output_type": "stream",
     "text": [
      "lista [1, 2, 3, 5] ma rozmiar 88 bajtów\n",
      "lista2 [1, 2, 3, 5, 6] ma rozmiar 120 bajtów\n",
      "lista3 [1, 2, 3, 5, 6, 7] ma rozmiar 120 bajtów\n"
     ]
    }
   ],
   "source": [
    "listas = [lista, lista2, lista3]\n",
    "\n",
    "lista.append(5)\n",
    "lista2.append(5)\n",
    "lista2.append(6)\n",
    "lista3.append(5)\n",
    "lista3.append(6)\n",
    "lista3.append(7)\n",
    "\n",
    "\n",
    "for list_obj in listas:\n",
    "    print(f'{get_var_name(list_obj)} {list_obj} ma rozmiar {sys.getsizeof(list_obj)} bajtów')"
   ]
  },
  {
   "cell_type": "markdown",
   "id": "672e283d-0ffa-46a3-953e-bd69ce3a1cb3",
   "metadata": {},
   "source": [
    "**`sys.int_info`**"
   ]
  },
  {
   "cell_type": "markdown",
   "id": "fcde8ffd-81b6-4564-934c-b6d1d02957d4",
   "metadata": {},
   "source": [
    "Podobnie jak dla typu float, zwraca informacje o parametrach reprezentacji liczb całkowitych w bieżącej wersji interpretera Python."
   ]
  },
  {
   "cell_type": "code",
   "execution_count": 71,
   "id": "d3e41eb1-0613-45d7-9da3-6b544049a67c",
   "metadata": {},
   "outputs": [
    {
     "data": {
      "text/plain": [
       "sys.int_info(bits_per_digit=30, sizeof_digit=4, default_max_str_digits=4300, str_digits_check_threshold=640)"
      ]
     },
     "execution_count": 71,
     "metadata": {},
     "output_type": "execute_result"
    }
   ],
   "source": [
    "sys.int_info"
   ]
  },
  {
   "cell_type": "markdown",
   "id": "05ba17be-7431-4fbf-a1b8-37aa820ed987",
   "metadata": {},
   "source": [
    "**`sys.path`**"
   ]
  },
  {
   "cell_type": "markdown",
   "id": "9d162eb7-ed51-4854-aad6-99eb5fad1386",
   "metadata": {},
   "source": [
    "Zwraca listę ścieżek, w których wyszukiwane są moduły dla bieżącego interpretera Pythona."
   ]
  },
  {
   "cell_type": "code",
   "execution_count": 73,
   "id": "477b04fa-a5a8-4dc0-8664-f6a1ac6b906b",
   "metadata": {},
   "outputs": [
    {
     "data": {
      "text/plain": [
       "['C:\\\\Users\\\\Krzysztof\\\\AppData\\\\Local\\\\Programs\\\\Python\\\\Python313\\\\python313.zip',\n",
       " 'C:\\\\Users\\\\Krzysztof\\\\AppData\\\\Local\\\\Programs\\\\Python\\\\Python313\\\\DLLs',\n",
       " 'C:\\\\Users\\\\Krzysztof\\\\AppData\\\\Local\\\\Programs\\\\Python\\\\Python313\\\\Lib',\n",
       " 'C:\\\\Users\\\\Krzysztof\\\\AppData\\\\Local\\\\Programs\\\\Python\\\\Python313',\n",
       " '',\n",
       " 'C:\\\\Users\\\\Krzysztof\\\\AppData\\\\Local\\\\Programs\\\\Python\\\\Python313\\\\Lib\\\\site-packages',\n",
       " 'C:\\\\Users\\\\Krzysztof\\\\AppData\\\\Local\\\\Programs\\\\Python\\\\Python313\\\\Lib\\\\site-packages\\\\win32',\n",
       " 'C:\\\\Users\\\\Krzysztof\\\\AppData\\\\Local\\\\Programs\\\\Python\\\\Python313\\\\Lib\\\\site-packages\\\\win32\\\\lib',\n",
       " 'C:\\\\Users\\\\Krzysztof\\\\AppData\\\\Local\\\\Programs\\\\Python\\\\Python313\\\\Lib\\\\site-packages\\\\Pythonwin']"
      ]
     },
     "execution_count": 73,
     "metadata": {},
     "output_type": "execute_result"
    }
   ],
   "source": [
    "sys.path"
   ]
  },
  {
   "cell_type": "markdown",
   "id": "50c46a1c-04f1-4342-b7d7-049626eaa7f0",
   "metadata": {},
   "source": [
    "**`sys.platform`**"
   ]
  },
  {
   "cell_type": "markdown",
   "id": "3d9a9c21-9716-4cb1-b362-6af58c775cd3",
   "metadata": {},
   "source": [
    "Zwraca informacje o platformie, na której działa bieżący interpreter Pythona. Pełna tabelka w dokumentacji: https://docs.python.org/3/library/sys.html#sys.platform"
   ]
  },
  {
   "cell_type": "code",
   "execution_count": 74,
   "id": "a6bdb989-5064-4c9d-8139-a16c1df7e2a5",
   "metadata": {},
   "outputs": [
    {
     "data": {
      "text/plain": [
       "'win32'"
      ]
     },
     "execution_count": 74,
     "metadata": {},
     "output_type": "execute_result"
    }
   ],
   "source": [
    "sys.platform"
   ]
  },
  {
   "cell_type": "markdown",
   "id": "fe57bc43-776f-4258-9e55-758e2f99feaa",
   "metadata": {},
   "source": [
    "**`sys.stdin`, `sys.stdout`, `sys.stderr`**"
   ]
  },
  {
   "cell_type": "markdown",
   "id": "40ce5a56-3ab8-41c6-84b4-aca999fb94cb",
   "metadata": {},
   "source": [
    "To moduły (często nazywane strumieniami, tu obiekty plikowe, patrz [tu](https://docs.python.org/3/glossary.html#term-file-object)) do obsługi standardowego wejścia, wyjścia oraz błędów interpretera. Dwa pierwsze posiadają dodatkowe funkcje, które pozwalają na pracę z wejściem i wyjściem do programu uruchamianego w interpreterze. Również inne wbudowane funkcje takie jak `input(), print()` wykorzystują te moduły."
   ]
  },
  {
   "cell_type": "code",
   "execution_count": 91,
   "id": "ed540f8f-b5bb-4e9a-a373-03d32afcebfe",
   "metadata": {},
   "outputs": [
    {
     "name": "stdout",
     "output_type": "stream",
     "text": [
      "['buffer', 'close', 'closed', 'detach', 'encoding', 'errors', 'fileno', 'flush', 'isatty', 'line_buffering', 'mode', 'name', 'newlines', 'read', 'readable', 'readline', 'readlines', 'reconfigure', 'seek', 'seekable', 'tell', 'truncate', 'writable', 'write', 'write_through', 'writelines']\n"
     ]
    }
   ],
   "source": [
    "print(list(filter(lambda x: not (x.startswith('__') or x.startswith('_')),dir(sys.stdin))))"
   ]
  },
  {
   "cell_type": "code",
   "execution_count": 76,
   "id": "e9ee8000-f967-46b9-8a88-b870f5bd56cf",
   "metadata": {},
   "outputs": [
    {
     "name": "stdout",
     "output_type": "stream",
     "text": [
      "['__abstractmethods__', '__annotations__', '__class__', '__del__', '__delattr__', '__dict__', '__dir__', '__doc__', '__enter__', '__eq__', '__exit__', '__firstlineno__', '__format__', '__ge__', '__getattribute__', '__getstate__', '__gt__', '__hash__', '__init__', '__init_subclass__', '__iter__', '__le__', '__lt__', '__module__', '__ne__', '__new__', '__next__', '__reduce__', '__reduce_ex__', '__repr__', '__setattr__', '__sizeof__', '__static_attributes__', '__str__', '__subclasshook__', '_abc_impl', '_buffer_lock', '_buffers', '_checkClosed', '_checkReadable', '_checkSeekable', '_checkWritable', '_exc', '_flush', '_flush_buffers', '_flush_pending', '_hooks', '_io_loop', '_is_master_process', '_isatty', '_local', '_master_pid', '_parent_header', '_parent_header_global', '_rotate_buffers', '_schedule_flush', '_setup_stream_redirects', '_should_watch', '_subprocess_flush_pending', '_thread_to_parent', '_thread_to_parent_header', '_watch_pipe_fd', 'close', 'closed', 'detach', 'echo', 'encoding', 'errors', 'fileno', 'flush', 'flush_interval', 'flush_timeout', 'isatty', 'name', 'newlines', 'parent_header', 'pub_thread', 'read', 'readable', 'readline', 'readlines', 'register_hook', 'seek', 'seekable', 'session', 'set_parent', 'softspace', 'tell', 'topic', 'truncate', 'unregister_hook', 'writable', 'write', 'writelines']\n"
     ]
    }
   ],
   "source": [
    "print(dir(sys.stdout))"
   ]
  },
  {
   "cell_type": "markdown",
   "id": "67bdd497-7a18-4099-bc45-a2cf98301ced",
   "metadata": {},
   "source": [
    "**`sys.version`**"
   ]
  },
  {
   "cell_type": "markdown",
   "id": "20972fe0-04f9-4e3a-b2c7-8a1a20a3da74",
   "metadata": {},
   "source": [
    "Zwraca wersję interpretera Pythona. Zobacz jeszcze: `sys.api_version, sys.version_info`"
   ]
  },
  {
   "cell_type": "code",
   "execution_count": 92,
   "id": "8a41c2b9-6dec-4a3e-a9ec-82012aedfee4",
   "metadata": {},
   "outputs": [
    {
     "data": {
      "text/plain": [
       "'3.13.2 (tags/v3.13.2:4f8bb39, Feb  4 2025, 15:23:48) [MSC v.1942 64 bit (AMD64)]'"
      ]
     },
     "execution_count": 92,
     "metadata": {},
     "output_type": "execute_result"
    }
   ],
   "source": [
    "sys.version"
   ]
  },
  {
   "cell_type": "markdown",
   "id": "48c2a182-30fa-4495-b4aa-13b7c3acf334",
   "metadata": {},
   "source": [
    "## 2. Moduł `os`"
   ]
  },
  {
   "cell_type": "markdown",
   "id": "cac76fbf-3806-42d9-90c3-b204502ff0f8",
   "metadata": {},
   "source": [
    "**Dokumentacja:**\n",
    "* https://docs.python.org/3/library/os.html#module-os\n",
    "\n",
    "Moduł `os` dostarcza narzędzi specyficznych dla systemu operacyjnego, na którym bieżący interpreter został uruchomiony. Część z nich jest uniwersalna pomiędzy platformami. Poniżej przedstawione zostaną przykłady wybranych elementów tego modułu."
   ]
  },
  {
   "cell_type": "code",
   "execution_count": 94,
   "id": "ea867c4f-ee76-4116-ba79-a09cca426972",
   "metadata": {},
   "outputs": [],
   "source": [
    "import os"
   ]
  },
  {
   "cell_type": "markdown",
   "id": "6397e292-112e-4d33-a115-69baa34b3fac",
   "metadata": {},
   "source": [
    "**`os.environ`**"
   ]
  },
  {
   "cell_type": "markdown",
   "id": "60b8fd77-7d66-4333-8903-936411df15b9",
   "metadata": {},
   "source": [
    "Pozwala na wypisanie, ale i ustawienie zmiennych środowiskowych. Wartość zmiennych odczytywana jest w momencie inicjalizacji interpretera Pythona, ale w zależności od sposobu jego uruchamiania (IDE, Jupyter) widoczność zmiennych może być nieco inna. Zmienne zdefiniowane w systemie po inicjalizacji Pythona (ale biorąc również pod uwagę w/w narzędzia) nie będą widoczne. Zdefiniowanie tych zmiennych ma charakter tymczasowy, tylko dla bieżącej sesji.\n",
    "\n",
    "Zobacz również `os.getenv()` oraz `os.putenv()`."
   ]
  },
  {
   "cell_type": "code",
   "execution_count": 96,
   "id": "74ba3a66-df11-4abd-8be7-ecff7bddc4c5",
   "metadata": {},
   "outputs": [
    {
     "data": {
      "text/plain": [
       "'C:\\\\Program Files\\\\OpenLogic\\\\jdk-17.0.15.6-hotspot'"
      ]
     },
     "execution_count": 96,
     "metadata": {},
     "output_type": "execute_result"
    }
   ],
   "source": [
    "os.environ['JAVA_HOME']"
   ]
  },
  {
   "cell_type": "code",
   "execution_count": 97,
   "id": "94c77c37-6092-4053-a7c7-1d2825e29d6b",
   "metadata": {},
   "outputs": [
    {
     "data": {
      "text/plain": [
       "'Krzysztof'"
      ]
     },
     "execution_count": 97,
     "metadata": {},
     "output_type": "execute_result"
    }
   ],
   "source": [
    "os.environ['username']"
   ]
  },
  {
   "cell_type": "code",
   "execution_count": 101,
   "id": "babec832-c56b-403e-bbc1-8e8dd02c49da",
   "metadata": {},
   "outputs": [
    {
     "data": {
      "text/plain": [
       "['C:\\\\Users\\\\Krzysztof\\\\AppData\\\\Local\\\\Programs\\\\Python\\\\Python312\\\\Scripts\\\\',\n",
       " 'C:\\\\Users\\\\Krzysztof\\\\AppData\\\\Local\\\\Programs\\\\Python\\\\Python312\\\\',\n",
       " 'C:\\\\Users\\\\Krzysztof\\\\AppData\\\\Local\\\\Programs\\\\Python\\\\Python313\\\\Scripts\\\\',\n",
       " 'C:\\\\Users\\\\Krzysztof\\\\AppData\\\\Local\\\\Programs\\\\Python\\\\Python313\\\\',\n",
       " 'C:\\\\Users\\\\Krzysztof\\\\AppData\\\\Local\\\\Programs\\\\Python\\\\Launcher\\\\',\n",
       " 'C:\\\\Users\\\\Krzysztof\\\\AppData\\\\Local\\\\Programs\\\\Python\\\\Python311\\\\Scripts\\\\',\n",
       " 'C:\\\\Users\\\\Krzysztof\\\\AppData\\\\Local\\\\Programs\\\\Python\\\\Python311\\\\']"
      ]
     },
     "execution_count": 101,
     "metadata": {},
     "output_type": "execute_result"
    }
   ],
   "source": [
    "list(filter(lambda x: 'Python' in x, os.environ['PATH'].split(';')))"
   ]
  },
  {
   "cell_type": "markdown",
   "id": "22a29cc9-12be-47ae-a181-b1923aee3536",
   "metadata": {},
   "source": [
    "**`os.getcwd()`**"
   ]
  },
  {
   "cell_type": "code",
   "execution_count": 103,
   "id": "eda5ae2e-6eba-4c58-a78c-7fb2627a2274",
   "metadata": {},
   "outputs": [
    {
     "data": {
      "text/plain": [
       "'C:\\\\Users\\\\Krzysztof\\\\__projects\\\\__uwm_zaawansowany_python\\\\lab_09'"
      ]
     },
     "execution_count": 103,
     "metadata": {},
     "output_type": "execute_result"
    }
   ],
   "source": [
    "os.getcwd()"
   ]
  },
  {
   "cell_type": "code",
   "execution_count": 106,
   "id": "bce86fbc-2c66-4f8c-a58f-d287360d5b3f",
   "metadata": {},
   "outputs": [
    {
     "data": {
      "text/plain": [
       "'C:\\\\Users\\\\Krzysztof\\\\__projects'"
      ]
     },
     "execution_count": 106,
     "metadata": {},
     "output_type": "execute_result"
    }
   ],
   "source": [
    "# zmiana bieżącej ścieżki\n",
    "os.chdir('..')\n",
    "os.getcwd()"
   ]
  },
  {
   "cell_type": "code",
   "execution_count": null,
   "id": "8f14ba0a-17f3-41e1-be21-81a9e14abd9b",
   "metadata": {},
   "outputs": [],
   "source": [
    "# oczywiście do zmiany na właściwą dla projektu ścieżkę\n",
    "os.chdir(r'.\\__uwm_zaawansowany_python\\lab_09')"
   ]
  },
  {
   "cell_type": "code",
   "execution_count": 115,
   "id": "e6919070-6315-425f-9699-4a552fd5f575",
   "metadata": {},
   "outputs": [
    {
     "data": {
      "text/plain": [
       "'C:\\\\Users\\\\Krzysztof\\\\__projects\\\\__uwm_zaawansowany_python\\\\lab_09'"
      ]
     },
     "execution_count": 115,
     "metadata": {},
     "output_type": "execute_result"
    }
   ],
   "source": [
    "os.getcwd()"
   ]
  },
  {
   "cell_type": "code",
   "execution_count": 121,
   "id": "4decefc6-c071-4a63-a9be-1daa360bdcaf",
   "metadata": {},
   "outputs": [
    {
     "data": {
      "text/plain": [
       "'Krzysztof'"
      ]
     },
     "execution_count": 121,
     "metadata": {},
     "output_type": "execute_result"
    }
   ],
   "source": [
    "os.getlogin()"
   ]
  },
  {
   "cell_type": "markdown",
   "id": "cc83d378-021c-47ae-b4cc-6240a4f4aa04",
   "metadata": {},
   "source": [
    "Moduł `os` zawiera wiele niskopoziomowych funkcji do obsługi plików. Można je znaleźć w sekcji https://docs.python.org/3/library/os.html#file-descriptor-operations. Pozwalają one między innymi na zmianę uprawnień do pliku, odczytywanie danych z pliku w różny sposób, kopiowanie fragmentów między plikami i wiele innych niskopoziomowych funkcji związanych z obsługą plików."
   ]
  },
  {
   "cell_type": "markdown",
   "id": "200e5cbb-9831-478b-a93e-f9f795446dc3",
   "metadata": {},
   "source": [
    "**`os.access(filepath, mode)`**"
   ]
  },
  {
   "cell_type": "markdown",
   "id": "4dccdd86-d028-4ebf-84e2-849214591cab",
   "metadata": {},
   "source": [
    "Dostępne wartości parametru `mode`:\n",
    "* os.F_OK - czy istnieje\n",
    "* os.R_OK - odczyt (read)\n",
    "* os.W_OK - zapis (write)\n",
    "* os.X_OK - wykonanie (execute)"
   ]
  },
  {
   "cell_type": "code",
   "execution_count": 124,
   "id": "dec0c978-d9ff-4310-aba6-855f1b398e26",
   "metadata": {},
   "outputs": [
    {
     "data": {
      "text/plain": [
       "True"
      ]
     },
     "execution_count": 124,
     "metadata": {},
     "output_type": "execute_result"
    }
   ],
   "source": [
    "os.access('.', mode=os.R_OK)"
   ]
  },
  {
   "cell_type": "code",
   "execution_count": 126,
   "id": "59dce1f9-1f16-462c-81bf-07baf199e5b8",
   "metadata": {},
   "outputs": [
    {
     "data": {
      "text/plain": [
       "['.ipynb_checkpoints', 'adv_python_09.ipynb', 'dane', 'test.py']"
      ]
     },
     "execution_count": 126,
     "metadata": {},
     "output_type": "execute_result"
    }
   ],
   "source": [
    "# listuje zawartość wskazanego folderu\n",
    "os.listdir('.')"
   ]
  },
  {
   "cell_type": "markdown",
   "id": "1bb92850-2ae4-4b23-a58e-17571cc0bb5f",
   "metadata": {},
   "source": [
    "**`os.mkdir(path, mode=0o777, *, dir_fd=None)`**"
   ]
  },
  {
   "cell_type": "markdown",
   "id": "645426e9-636a-4fc5-8498-3858cd02a44a",
   "metadata": {},
   "source": [
    "Funkcja pozwala stworzyć folder zdefiniowany poprzez atrybut `path`. Zgłasza wyjątek `FileExistsError` jeżeli folder już istnieje lub `FileNotFoundError` jeżeli folder nadrzędny nie istnieje."
   ]
  },
  {
   "cell_type": "code",
   "execution_count": 127,
   "id": "abc8ede0-aa1c-458b-a172-b248ea46882c",
   "metadata": {},
   "outputs": [],
   "source": [
    "os.mkdir('test')"
   ]
  },
  {
   "cell_type": "code",
   "execution_count": 128,
   "id": "148a9203-c8a0-456e-9b95-04de6586f51c",
   "metadata": {},
   "outputs": [
    {
     "data": {
      "text/plain": [
       "True"
      ]
     },
     "execution_count": 128,
     "metadata": {},
     "output_type": "execute_result"
    }
   ],
   "source": [
    "os.access('test', mode=os.R_OK)"
   ]
  },
  {
   "cell_type": "markdown",
   "id": "241408e9-12df-4fb6-a7ac-fa86077dd00e",
   "metadata": {},
   "source": [
    "**`os.makedirs(name, mode=0o777, exist_ok=False)`**"
   ]
  },
  {
   "cell_type": "markdown",
   "id": "4ade975e-7b80-43a5-9a20-90a196ce397d",
   "metadata": {},
   "source": [
    "Funkcja, która służy do tworzenia folderów, ale tworzy je rekurencyjnie, jeżeli którykolwiek z podanych w ścieżce nie istnieje (to zależy również od wartości parametru `exist_ok`). Jeżeli `exist_ok` ma wartość `True` to nie jest zgłaszany wyjątek `FileExistsError`."
   ]
  },
  {
   "cell_type": "code",
   "execution_count": 130,
   "id": "668af1b0-085c-440c-9776-6fd4758c86fa",
   "metadata": {},
   "outputs": [],
   "source": [
    "os.makedirs('./ala/ma/kota')"
   ]
  },
  {
   "cell_type": "code",
   "execution_count": 141,
   "id": "7a9a5a1f-0743-4df1-a25c-116df76ab60b",
   "metadata": {},
   "outputs": [
    {
     "data": {
      "text/plain": [
       "True"
      ]
     },
     "execution_count": 141,
     "metadata": {},
     "output_type": "execute_result"
    }
   ],
   "source": [
    "os.access('./ala/ma/kota', mode=os.R_OK)"
   ]
  },
  {
   "cell_type": "markdown",
   "id": "fa6ca219-85d1-42c0-95c1-403d5d84a52f",
   "metadata": {},
   "source": [
    "**`os.remove(path, *, dir_fd=None)`**"
   ]
  },
  {
   "cell_type": "markdown",
   "id": "189522a9-81b3-4a73-b639-b5f956e55f69",
   "metadata": {},
   "source": [
    "Służy do usuwania plików i zgłasza wyjątek `OSError` jeżeli podana ścieżka wskazuje na folder. Do usuwania folderów służy funkcja `os.rmdir()`"
   ]
  },
  {
   "cell_type": "code",
   "execution_count": 142,
   "id": "a3858e5a-16ca-4ef2-aa5e-1224a02ae305",
   "metadata": {},
   "outputs": [],
   "source": [
    "!echo \"Hello world!\" > plik.txt"
   ]
  },
  {
   "cell_type": "code",
   "execution_count": 143,
   "id": "c0a0625d-0cbc-4829-b7c8-0c74495886b2",
   "metadata": {},
   "outputs": [
    {
     "name": "stdout",
     "output_type": "stream",
     "text": [
      "adv_python_09.ipynb\n",
      "ala\n",
      "dane\n",
      "plik.txt\n",
      "test\n",
      "test.py\n"
     ]
    }
   ],
   "source": [
    "!ls"
   ]
  },
  {
   "cell_type": "code",
   "execution_count": 144,
   "id": "ee78ed19-a165-4fe6-8e24-ee2162a34ac4",
   "metadata": {},
   "outputs": [],
   "source": [
    "os.remove('plik.txt')"
   ]
  },
  {
   "cell_type": "code",
   "execution_count": 145,
   "id": "5f7ec84b-bc67-4c73-90ba-979cf7f0ec61",
   "metadata": {},
   "outputs": [
    {
     "name": "stdout",
     "output_type": "stream",
     "text": [
      "adv_python_09.ipynb\n",
      "ala\n",
      "dane\n",
      "test\n",
      "test.py\n"
     ]
    }
   ],
   "source": [
    "!ls"
   ]
  },
  {
   "cell_type": "code",
   "execution_count": 147,
   "id": "87c41abf-afe8-438b-9777-080fb74f03d8",
   "metadata": {},
   "outputs": [
    {
     "ename": "PermissionError",
     "evalue": "[WinError 5] Odmowa dostępu: 'ala/ma/kota'",
     "output_type": "error",
     "traceback": [
      "\u001b[1;31m---------------------------------------------------------------------------\u001b[0m",
      "\u001b[1;31mPermissionError\u001b[0m                           Traceback (most recent call last)",
      "Cell \u001b[1;32mIn[147], line 1\u001b[0m\n\u001b[1;32m----> 1\u001b[0m \u001b[43mos\u001b[49m\u001b[38;5;241;43m.\u001b[39;49m\u001b[43mremove\u001b[49m\u001b[43m(\u001b[49m\u001b[38;5;124;43m'\u001b[39;49m\u001b[38;5;124;43mala/ma/kota\u001b[39;49m\u001b[38;5;124;43m'\u001b[39;49m\u001b[43m)\u001b[49m\n",
      "\u001b[1;31mPermissionError\u001b[0m: [WinError 5] Odmowa dostępu: 'ala/ma/kota'"
     ]
    }
   ],
   "source": [
    "os.remove('ala/ma/kota')"
   ]
  },
  {
   "cell_type": "markdown",
   "id": "14cdc467-9b16-4e1e-a8a6-a1a6eb3dd05c",
   "metadata": {},
   "source": [
    "**`os.removedirs(name)`**"
   ]
  },
  {
   "cell_type": "markdown",
   "id": "f6d18210-6ad2-4689-beb8-53677dc1b58d",
   "metadata": {},
   "source": [
    "Usuwanie folderów rekurencyjnie. Usuwanie odbywa się począwszy od liścia i jeżeli któryś z kolejnych folderów nie jest pusty to folder nie zostanie usunięty."
   ]
  },
  {
   "cell_type": "code",
   "execution_count": 148,
   "id": "e3dbd678-9183-4b37-8c10-4363b58e35cd",
   "metadata": {},
   "outputs": [],
   "source": [
    "os.removedirs('./ala/ma/kota')"
   ]
  },
  {
   "cell_type": "code",
   "execution_count": 149,
   "id": "577b8d01-b3bf-4890-aaad-d1462a73a0e2",
   "metadata": {},
   "outputs": [
    {
     "name": "stdout",
     "output_type": "stream",
     "text": [
      "adv_python_09.ipynb\n",
      "dane\n",
      "test\n",
      "test.py\n"
     ]
    }
   ],
   "source": [
    "!ls"
   ]
  },
  {
   "cell_type": "code",
   "execution_count": 152,
   "id": "36cf5390-6b97-4455-9509-a9b063cf4ee6",
   "metadata": {},
   "outputs": [],
   "source": [
    "os.makedirs('./ala/ma/kota')"
   ]
  },
  {
   "cell_type": "code",
   "execution_count": 153,
   "id": "9f7a300b-8c4d-41e8-a803-6c9c09f462ae",
   "metadata": {},
   "outputs": [],
   "source": [
    "!echo \"Bla bla ...\" > ./ala/ma/test.txt"
   ]
  },
  {
   "cell_type": "code",
   "execution_count": 154,
   "id": "a0d56ea4-df96-463c-8df4-cbf862bb7135",
   "metadata": {},
   "outputs": [
    {
     "name": "stdout",
     "output_type": "stream",
     "text": [
      "kota\n",
      "test.txt\n"
     ]
    }
   ],
   "source": [
    "!ls ./ala/ma"
   ]
  },
  {
   "cell_type": "code",
   "execution_count": 155,
   "id": "8abe048a-23c4-49fa-b15b-3b36c0280862",
   "metadata": {},
   "outputs": [],
   "source": [
    "os.removedirs('./ala/ma/kota')"
   ]
  },
  {
   "cell_type": "code",
   "execution_count": 157,
   "id": "10381679-f406-4985-94e9-021b4272fb64",
   "metadata": {},
   "outputs": [
    {
     "name": "stdout",
     "output_type": "stream",
     "text": [
      ".:\n",
      "adv_python_09.ipynb\n",
      "ala\n",
      "dane\n",
      "test\n",
      "test.py\n",
      "\n",
      "./ala:\n",
      "ma\n",
      "\n",
      "./ala/ma:\n",
      "test.txt\n",
      "\n",
      "./dane:\n",
      "\n",
      "./test:\n"
     ]
    }
   ],
   "source": [
    "!ls -R"
   ]
  },
  {
   "cell_type": "markdown",
   "id": "1a90ddb9-d855-4b49-8e9c-9f025a735ff2",
   "metadata": {},
   "source": [
    "Jak widać na powyższych przykładach, podfolder o nazwie `kota` ze ścieżki `ala\\ma\\kota` został usunięty, ale pozostałe nie gdyż podfolder `ma` nie był pusty."
   ]
  },
  {
   "cell_type": "markdown",
   "id": "373f27d1-400a-4436-907a-079095284530",
   "metadata": {},
   "source": [
    "**`os.rename(src, dst, *, src_dir_fd=None, dst_dir_fd=None)`**"
   ]
  },
  {
   "cell_type": "markdown",
   "id": "8ef66a20-aadb-4c19-a388-973dc6d0df76",
   "metadata": {},
   "source": [
    "Funkcja służy do zmiany nazwy plików lub folderów. `os.renames` służy do tego samego celu, ale w sposób rekurencyjny."
   ]
  },
  {
   "cell_type": "code",
   "execution_count": 159,
   "id": "0897d4e9-7036-4862-9979-5dde7a419ca8",
   "metadata": {},
   "outputs": [],
   "source": [
    "os.rename('./ala/ma','./ala/miała')"
   ]
  },
  {
   "cell_type": "code",
   "execution_count": 161,
   "id": "c0af1929-9419-4243-a1a9-59422710c40c",
   "metadata": {},
   "outputs": [
    {
     "name": "stdout",
     "output_type": "stream",
     "text": [
      ".:\n",
      "adv_python_09.ipynb\n",
      "ala\n",
      "dane\n",
      "test\n",
      "test.py\n",
      "\n",
      "./ala:\n",
      "miaĹ‚a\n",
      "\n",
      "./ala/miaĹ‚a:\n",
      "test.txt\n",
      "\n",
      "./dane:\n",
      "\n",
      "./test:\n"
     ]
    }
   ],
   "source": [
    "!ls -R"
   ]
  },
  {
   "cell_type": "code",
   "execution_count": 163,
   "id": "5a5bcd53-e391-44d0-9e32-2789754c07a1",
   "metadata": {},
   "outputs": [
    {
     "name": "stdout",
     "output_type": "stream",
     "text": [
      ".:\n",
      "adv_python_09.ipynb\n",
      "ala\n",
      "dane\n",
      "test\n",
      "test.py\n",
      "\n",
      "./ala:\n",
      "miała\n",
      "\n",
      "./ala/miała:\n",
      "test.txt\n",
      "\n",
      "./dane:\n",
      "\n",
      "./test:\n",
      "\n"
     ]
    }
   ],
   "source": [
    "# brak poprawnego kodowania wyjścia do UTF-8 można obejść w poniższy sposób (ale nie jest jedyny)\n",
    "import subprocess\n",
    "\n",
    "result = subprocess.run(['ls', '-R'], stdout=subprocess.PIPE)\n",
    "print(result.stdout.decode())"
   ]
  },
  {
   "cell_type": "markdown",
   "id": "52e86e19-da69-492b-8173-528ab305522a",
   "metadata": {},
   "source": [
    "**`os.scandir(path='.')`**"
   ]
  },
  {
   "cell_type": "markdown",
   "id": "8c69daaa-6a24-406d-ad4c-b126faa260fd",
   "metadata": {},
   "source": [
    "Jest to funkcja, która zwraca iterator obiektów `os.DirEntry` poczynając od wskazanej ścieżki. Elementy są zwracane w porządku arbitralnym, a elementy specjalne `.` oraz `..` są pomijane. Jeżeli kod, który korzysta z drzewa elementów wybranego fragmentu systemu plików będzie wykorzystywał inne funkcje sprawdzające atrybuty tych obiektów (plików, folderów) takie jak uprawnienia, typ zasobu itp. to rozwiązanie bazujące na funkcji `scandir()` będzie znacznie wydajniejsze względem funkcji `listdir()`, która również zostanie tutaj zaprezentowana.\n",
    "\n",
    "Klasa `os.DirEntry` pozwala na sprawdzenie wartości wielu atrybutów danego zasobu, a ich lista znajduje się w dokumentacji:\n",
    "* https://docs.python.org/3/library/os.html#os.DirEntry"
   ]
  },
  {
   "cell_type": "code",
   "execution_count": 200,
   "id": "791f1813-63f7-45be-aa2a-da19415c711a",
   "metadata": {},
   "outputs": [
    {
     "name": "stdout",
     "output_type": "stream",
     "text": [
      "<DirEntry '.ipynb_checkpoints'>\n",
      "<DirEntry 'adv_python_09.ipynb'>\n",
      "<DirEntry 'ala'>\n",
      "<DirEntry 'dane'>\n",
      "<DirEntry 'test'>\n",
      "<DirEntry 'test.py'>\n"
     ]
    }
   ],
   "source": [
    "fs = os.scandir()\n",
    "for item in fs:\n",
    "    print(item)"
   ]
  },
  {
   "cell_type": "code",
   "execution_count": 173,
   "id": "7863466a-24f7-44e8-ad4a-d0285e8c7023",
   "metadata": {},
   "outputs": [
    {
     "data": {
      "text/plain": [
       "['adv_python_09.ipynb', 'test.py']"
      ]
     },
     "execution_count": 173,
     "metadata": {},
     "output_type": "execute_result"
    }
   ],
   "source": [
    "# pamiętaj, że iteratory są wyczerpywalne, więc po przejściu należy je ponownie przeładować\n",
    "files = [f.name for f in fs if f.is_file()]\n",
    "files"
   ]
  },
  {
   "cell_type": "code",
   "execution_count": 198,
   "id": "4a53c06e-75bc-41a1-aa5e-700bf537ee6c",
   "metadata": {},
   "outputs": [
    {
     "name": "stdout",
     "output_type": "stream",
     "text": [
      "os.stat_result(st_mode=16895, st_ino=0, st_dev=0, st_nlink=0, st_uid=0, st_gid=0, st_size=0, st_atime=1746598958, st_mtime=1746433731, st_ctime=1746433198)\n",
      "os.stat_result(st_mode=33206, st_ino=0, st_dev=0, st_nlink=0, st_uid=0, st_gid=0, st_size=44987, st_atime=1746604200, st_mtime=1746604200, st_ctime=1746433198)\n",
      "os.stat_result(st_mode=16895, st_ino=0, st_dev=0, st_nlink=0, st_uid=0, st_gid=0, st_size=0, st_atime=1746603658, st_mtime=1746600026, st_ctime=1746599682)\n",
      "os.stat_result(st_mode=16895, st_ino=0, st_dev=0, st_nlink=0, st_uid=0, st_gid=0, st_size=0, st_atime=1746598958, st_mtime=1746465310, st_ctime=1746465310)\n",
      "os.stat_result(st_mode=16895, st_ino=0, st_dev=0, st_nlink=0, st_uid=0, st_gid=0, st_size=0, st_atime=1746598686, st_mtime=1746598686, st_ctime=1746598686)\n",
      "os.stat_result(st_mode=33206, st_ino=0, st_dev=0, st_nlink=0, st_uid=0, st_gid=0, st_size=288, st_atime=1746600298, st_mtime=1746446660, st_ctime=1746433724)\n"
     ]
    }
   ],
   "source": [
    "# wyświetlenie wybranych atrybutów zasobów, które sa dostępne bez względu na system operacyjny\n",
    "# istnieją też inne atrybuty, których wartość może nie występować dla każdego systemu operacyjnego\n",
    "# szczegóły do sprawdzenia w dokumentacji\n",
    "\n",
    "for item in fs:\n",
    "    print(item.stat())"
   ]
  },
  {
   "cell_type": "code",
   "execution_count": 199,
   "id": "a452659a-c9a7-43c8-b694-0e169ef4227b",
   "metadata": {},
   "outputs": [
    {
     "name": "stdout",
     "output_type": "stream",
     "text": [
      ".ipynb_checkpoints\n",
      "adv_python_09.ipynb\n",
      "ala\n",
      "dane\n",
      "test\n",
      "test.py\n"
     ]
    }
   ],
   "source": [
    "# list dir wyświetla tylko nazwy zasobów, więc nadaje się idealnie do szybkiego odfiltrowania ich po nazwach\n",
    "fs = os.listdir()\n",
    "for item in fs:\n",
    "    print(item)"
   ]
  },
  {
   "cell_type": "code",
   "execution_count": 201,
   "id": "6b79375c-df5c-4889-a00b-9ad97dfc273b",
   "metadata": {},
   "outputs": [
    {
     "data": {
      "text/plain": [
       "['test.py']"
      ]
     },
     "execution_count": 201,
     "metadata": {},
     "output_type": "execute_result"
    }
   ],
   "source": [
    "[f for f in os.listdir() if f.endswith('.py')]"
   ]
  },
  {
   "cell_type": "markdown",
   "id": "7ccfe07b-a247-4219-a05a-3c05c8a95cb2",
   "metadata": {},
   "source": [
    "**`os.walk(top, topdown=True, onerror=None, followlinks=False)`**"
   ]
  },
  {
   "cell_type": "markdown",
   "id": "dfd4419f-fb16-48bf-bc7b-2fd062ebab93",
   "metadata": {},
   "source": [
    "Kolejna funkcja pozwalająca na eksplorację systemu plików z poziomu języka Python. Funkcja zwraca trzyelementową krotkę `(dirpath, dirnames, filenames)`,w której:\n",
    "* `dirpath` - ścieżka do listowanego folderu\n",
    "* `dirnames` - nazwy wszystkich podfolderów ścieżki `dirpath`\n",
    "* `filenames` - nazwy wszystkich plików ścieżki `dirpath`\n",
    "\n",
    "Funkcja domyślnie przechodzi przez strukturę w kierunku top-down, ale możemy to zmienić wartością parametru `topdown`."
   ]
  },
  {
   "cell_type": "code",
   "execution_count": 206,
   "id": "91541b01-2767-49f1-b732-1ae804065939",
   "metadata": {},
   "outputs": [
    {
     "name": "stdout",
     "output_type": "stream",
     "text": [
      "('./ala', ['miała'], [])\n",
      "('./ala\\\\miała', [], ['test.txt'])\n"
     ]
    }
   ],
   "source": [
    "for level in os.walk('./ala'):\n",
    "    print(level)"
   ]
  },
  {
   "cell_type": "code",
   "execution_count": 209,
   "id": "9a2e1857-3f3b-4812-b886-50bb72b345b6",
   "metadata": {},
   "outputs": [
    {
     "name": "stdout",
     "output_type": "stream",
     "text": [
      "('./ala\\\\miała', [], ['test.txt'])\n",
      "('./ala', ['miała'], [])\n"
     ]
    }
   ],
   "source": [
    "for level in os.walk('./ala', topdown=False):\n",
    "    print(level)"
   ]
  },
  {
   "cell_type": "markdown",
   "id": "907e1518-6c37-4dc1-b960-346d3160f017",
   "metadata": {},
   "source": [
    "**Inne wybrane elementy modułu `os`**"
   ]
  },
  {
   "cell_type": "code",
   "execution_count": 165,
   "id": "74d369a4-397f-44a8-b53e-5f6cbe38809b",
   "metadata": {},
   "outputs": [
    {
     "data": {
      "text/plain": [
       "12"
      ]
     },
     "execution_count": 165,
     "metadata": {},
     "output_type": "execute_result"
    }
   ],
   "source": [
    "# zwraca liczbę procesorów logicznych w systemie\n",
    "os.cpu_count()"
   ]
  },
  {
   "cell_type": "code",
   "execution_count": 210,
   "id": "9d97914b-75d9-4ca1-9f27-f02510e85745",
   "metadata": {},
   "outputs": [
    {
     "data": {
      "text/plain": [
       "0"
      ]
     },
     "execution_count": 210,
     "metadata": {},
     "output_type": "execute_result"
    }
   ],
   "source": [
    "# pozwala na wykonanie polecenia powłoki\n",
    "os.system('dir')"
   ]
  },
  {
   "cell_type": "markdown",
   "id": "bcc6ec4c-7a32-4538-95ce-997f73aba46f",
   "metadata": {},
   "source": [
    "Dlaczego taki outpup?\n",
    "\n",
    "Za dokumentacją (https://docs.python.org/3/library/os.html#os.system):\n",
    "> On Unix, the return value is the exit status of the process encoded in the format specified for wait().\n",
    "\n",
    "> On Windows, the return value is that returned by the system shell after running command. The shell is given by the Windows environment variable COMSPEC: it is usually cmd.exe, which returns the exit status of the command run; on systems using a non-native shell, consult your shell documentation.\n",
    "\n",
    "I również tam znajdziemy informację, że w takim przypadku lepszym pomysłem jest wykorzystanie modułu `subprocess`."
   ]
  },
  {
   "cell_type": "code",
   "execution_count": 213,
   "id": "a9a0b07d-e6fc-4848-8170-c0469e7c2eff",
   "metadata": {},
   "outputs": [
    {
     "data": {
      "text/plain": [
       "'\\\\'"
      ]
     },
     "execution_count": 213,
     "metadata": {},
     "output_type": "execute_result"
    }
   ],
   "source": [
    "# zwraca separator ścieżek w systemie plików dla bieżącego systemu operacyjnego\n",
    "os.sep"
   ]
  },
  {
   "cell_type": "markdown",
   "id": "bce57aa5-118b-4be5-bbbf-5b6fd780edc3",
   "metadata": {},
   "source": [
    "## 3. Moduł `os.path`"
   ]
  },
  {
   "cell_type": "markdown",
   "id": "27b593a2-6b13-4138-87d5-8c3e36ea5c63",
   "metadata": {},
   "source": [
    "Jest to moduł w module `os`, który zawiera przydatne funkcje do pracy ze ścieżkami w systemie plików. Poniżej zaprezentowane zostaną tylko wybrane z nich. Dla pełnego ich przeglądu zapraszam do oficjalnej dokumentacji:\n",
    "* https://docs.python.org/3/library/os.path.html#module-os.path"
   ]
  },
  {
   "cell_type": "markdown",
   "id": "65f16803-f422-4d7c-b107-fb5ccf751828",
   "metadata": {},
   "source": [
    "Jedną z najpowszechniej wykorzystywanych funkcji jest `os.path.join`, która służy do budowania poprawnej ścieżki w kontekście bieżącego systemu operacyjnego z podanych elementów."
   ]
  },
  {
   "cell_type": "code",
   "execution_count": 222,
   "id": "05d89bc3-0887-4c09-8b74-556b76d397ae",
   "metadata": {},
   "outputs": [],
   "source": [
    "# przyjmijmy, że mamy stałą DATAPATH, która wskazuje na globalny folder z danymi (pamiętajmy, że to znowu konwencja - umowa)\n",
    "DATAPATH = './dane/'"
   ]
  },
  {
   "cell_type": "code",
   "execution_count": 216,
   "id": "a5a42c3d-0a72-4de0-8522-b540c2428e0b",
   "metadata": {},
   "outputs": [],
   "source": [
    "# nasz plik będzie się nazywał dummy_data.txt\n",
    "filename = 'dummy_data.txt'"
   ]
  },
  {
   "cell_type": "code",
   "execution_count": 223,
   "id": "2ceb511d-c8d0-4ca8-a76b-0b2f03f9d5fd",
   "metadata": {},
   "outputs": [
    {
     "data": {
      "text/plain": [
       "'./dane/dummy_data.txt'"
      ]
     },
     "execution_count": 223,
     "metadata": {},
     "output_type": "execute_result"
    }
   ],
   "source": [
    "filepath = os.path.join(DATAPATH, filename)\n",
    "filepath"
   ]
  },
  {
   "cell_type": "code",
   "execution_count": 224,
   "id": "06f2ccd2-ef67-4cb1-8587-4a8799d38c44",
   "metadata": {},
   "outputs": [],
   "source": [
    "with open(filepath, 'w', encoding='utf-8') as file:\n",
    "    file.write('moje dummy data')"
   ]
  },
  {
   "cell_type": "code",
   "execution_count": 225,
   "id": "05100cde-7be3-4785-8c4b-7881a2b2e049",
   "metadata": {},
   "outputs": [
    {
     "data": {
      "text/plain": [
       "['dummy_data.txt', 'd_pl_txt.zip']"
      ]
     },
     "execution_count": 225,
     "metadata": {},
     "output_type": "execute_result"
    }
   ],
   "source": [
    "os.listdir(DATAPATH)"
   ]
  },
  {
   "cell_type": "markdown",
   "id": "e27ebeee-39e3-4faf-8624-f86817750c37",
   "metadata": {},
   "source": [
    "Inne wybrane funkcje w tym module."
   ]
  },
  {
   "cell_type": "code",
   "execution_count": 226,
   "id": "b3cd34f2-bfef-4dfd-820a-77bf99f09841",
   "metadata": {},
   "outputs": [
    {
     "data": {
      "text/plain": [
       "'C:\\\\Users\\\\Krzysztof\\\\__projects\\\\__uwm_zaawansowany_python\\\\lab_09\\\\dane\\\\dummy_data.txt'"
      ]
     },
     "execution_count": 226,
     "metadata": {},
     "output_type": "execute_result"
    }
   ],
   "source": [
    "# ścieżka bezwzględna\n",
    "os.path.abspath(filepath)"
   ]
  },
  {
   "cell_type": "code",
   "execution_count": 229,
   "id": "8c1cd982-e8c2-41ed-afe8-bd435b6089b4",
   "metadata": {},
   "outputs": [
    {
     "data": {
      "text/plain": [
       "'dummy_data.txt'"
      ]
     },
     "execution_count": 229,
     "metadata": {},
     "output_type": "execute_result"
    }
   ],
   "source": [
    "# ostatni człon ścieżki, wartość różni się w zależności od tego czy jest to plik czy folder\n",
    "os.path.basename(filepath)"
   ]
  },
  {
   "cell_type": "code",
   "execution_count": 228,
   "id": "d46121ef-e58d-4ada-a0bf-0f641edfca99",
   "metadata": {},
   "outputs": [
    {
     "data": {
      "text/plain": [
       "''"
      ]
     },
     "execution_count": 228,
     "metadata": {},
     "output_type": "execute_result"
    }
   ],
   "source": [
    "os.path.basename(DATAPATH)"
   ]
  },
  {
   "cell_type": "code",
   "execution_count": 230,
   "id": "b4a78f86-722f-4c7e-be7d-8abd2f8b7c4f",
   "metadata": {},
   "outputs": [
    {
     "data": {
      "text/plain": [
       "'./dane'"
      ]
     },
     "execution_count": 230,
     "metadata": {},
     "output_type": "execute_result"
    }
   ],
   "source": [
    "os.path.dirname(DATAPATH)"
   ]
  },
  {
   "cell_type": "code",
   "execution_count": 231,
   "id": "46245a33-47cc-4620-a26d-8c0e425c31fc",
   "metadata": {},
   "outputs": [
    {
     "data": {
      "text/plain": [
       "'./dane'"
      ]
     },
     "execution_count": 231,
     "metadata": {},
     "output_type": "execute_result"
    }
   ],
   "source": [
    "os.path.dirname(filepath)"
   ]
  },
  {
   "cell_type": "code",
   "execution_count": 232,
   "id": "f1644988-6d64-467d-a3b4-653ffd76c92d",
   "metadata": {},
   "outputs": [
    {
     "data": {
      "text/plain": [
       "True"
      ]
     },
     "execution_count": 232,
     "metadata": {},
     "output_type": "execute_result"
    }
   ],
   "source": [
    "# czy ścieżka istnieje\n",
    "os.path.exists(DATAPATH)"
   ]
  },
  {
   "cell_type": "code",
   "execution_count": 233,
   "id": "74e50efe-1a4c-4f6e-9b1d-460b26347eed",
   "metadata": {},
   "outputs": [
    {
     "data": {
      "text/plain": [
       "True"
      ]
     },
     "execution_count": 233,
     "metadata": {},
     "output_type": "execute_result"
    }
   ],
   "source": [
    "os.path.exists(filepath)"
   ]
  },
  {
   "cell_type": "code",
   "execution_count": 236,
   "id": "b68a2a41-2e9c-469c-86e3-f7eebda06288",
   "metadata": {},
   "outputs": [
    {
     "data": {
      "text/plain": [
       "15"
      ]
     },
     "execution_count": 236,
     "metadata": {},
     "output_type": "execute_result"
    }
   ],
   "source": [
    "# zwraca rozmiar w bajtach - dla folderów wartość -> 0\n",
    "os.path.getsize(filepath)"
   ]
  },
  {
   "cell_type": "code",
   "execution_count": 239,
   "id": "d3172f78-4c44-4fb3-a4f0-91ce0d51a15b",
   "metadata": {},
   "outputs": [
    {
     "name": "stdout",
     "output_type": "stream",
     "text": [
      "True\n",
      "False\n",
      "False\n",
      "False\n"
     ]
    }
   ],
   "source": [
    "# czy plik?\n",
    "print(os.path.isfile(filepath))\n",
    "# czy folder?\n",
    "print(os.path.isdir(filepath))\n",
    "# czy symlink (głównie UNIX)?\n",
    "print(os.path.islink(filepath))\n",
    "# czy ścieżka bezwzględna?\n",
    "print(os.path.isabs(filepath))"
   ]
  },
  {
   "cell_type": "code",
   "execution_count": 247,
   "id": "f3b99cf8-b1f7-4e2d-a462-55a8e744be48",
   "metadata": {},
   "outputs": [
    {
     "name": "stdout",
     "output_type": "stream",
     "text": [
      "1 C:\\Users\\Krzysztof\\__projects\\__uwm_zaawansowany_python\\lab_09\\dane\\dummy_data.txt\n",
      "2 c:\\users\\krzysztof\\__projects\\__uwm_zaawansowany_python\\lab_09\\dane\\dummy_data.txt\n",
      "3 C:\\Users\\Krzysztof\\__projects\\__uwm_zaawansowany_python\\lab_09\\dane\\dummy_data.txt\n",
      "4 C:\\Users\\Krzysztof\\__projects\\__uwm_zaawansowany_python\\lab_09\\dane\\dummy_data.txt\n",
      "5 dane\\dummy_data.txt\n"
     ]
    }
   ],
   "source": [
    "# pamiętajmy, że pierwotnie w kodzie ścieżka została zapisana w postaci: './dane/dummy_data.txt'\n",
    "print(1, os.path.abspath(filepath))\n",
    "print(2, os.path.normcase(os.path.abspath(filepath)))\n",
    "print(3, os.path.normpath(os.path.abspath(filepath)))\n",
    "print(4, os.path.realpath(os.path.abspath(filepath)))\n",
    "print(5, os.path.relpath(os.path.abspath(filepath)))"
   ]
  },
  {
   "cell_type": "code",
   "execution_count": 249,
   "id": "a1246b87-3b32-466a-bde9-3a40c9c2e788",
   "metadata": {},
   "outputs": [
    {
     "name": "stdout",
     "output_type": "stream",
     "text": [
      "1 C:\\Users\\Krzysztof\\__projects\n",
      "2 c:\\users\\krzysztof\\__projects\n",
      "3 C:\\Users\\Krzysztof\\__projects\n",
      "4 C:\\Users\\Krzysztof\\__projects\n",
      "5 ..\\..\n"
     ]
    }
   ],
   "source": [
    "# teraz naszą ścieżkę zmodyfikujemy nieco\n",
    "filepath = '../../'\n",
    "print(1, os.path.abspath(filepath))\n",
    "print(2, os.path.normcase(os.path.abspath(filepath)))\n",
    "print(3, os.path.normpath(os.path.abspath(filepath)))\n",
    "print(4, os.path.realpath(os.path.abspath(filepath)))\n",
    "print(5, os.path.relpath(os.path.abspath(filepath)))"
   ]
  },
  {
   "cell_type": "markdown",
   "id": "f49e33cd-e7f6-4b35-8115-ca7546d89270",
   "metadata": {},
   "source": [
    "**`os.path.split`**"
   ]
  },
  {
   "cell_type": "markdown",
   "id": "c51b2010-5346-4a94-8da5-631e3c78360b",
   "metadata": {},
   "source": [
    "Ta funkjca rozdziela ścieżkę na krotkę (bazowa ścieżka bez liścia (zazwyczaj zasób plikowy), liść). Poniżej przykład."
   ]
  },
  {
   "cell_type": "code",
   "execution_count": 250,
   "id": "0227f1cd-b10e-4c20-901e-55edee84853d",
   "metadata": {},
   "outputs": [
    {
     "data": {
      "text/plain": [
       "('./dane', 'dummy_data.txt')"
      ]
     },
     "execution_count": 250,
     "metadata": {},
     "output_type": "execute_result"
    }
   ],
   "source": [
    "filepath = os.path.join(DATAPATH, filename)\n",
    "os.path.split(filepath)"
   ]
  },
  {
   "cell_type": "code",
   "execution_count": 251,
   "id": "5ff1ddb6-fb87-466c-b0a1-3268ad7f46f7",
   "metadata": {},
   "outputs": [
    {
     "data": {
      "text/plain": [
       "('C:\\\\Users\\\\Krzysztof\\\\__projects\\\\__uwm_zaawansowany_python\\\\lab_09\\\\dane',\n",
       " 'dummy_data.txt')"
      ]
     },
     "execution_count": 251,
     "metadata": {},
     "output_type": "execute_result"
    }
   ],
   "source": [
    "os.path.split(os.path.abspath(filepath))"
   ]
  },
  {
   "cell_type": "markdown",
   "id": "ff381f12-08c1-4a2b-9aaa-2897240b23f3",
   "metadata": {},
   "source": [
    "### Zadania\n",
    "\n",
    "**Zadanie 1**\n",
    "\n",
    "Rozpakuj (możesz z poziomu Pythona albo systemu operacyjnego) plik `d_pl_txt.zip` (plik spakowany i podzielony na 3 części znajduje się w podfolderze `./dane`) w folderze `dane`. Wykorzystując narzędzia z modułu `os` wypisz ile jest folderów i ile plików w tym rozpakowanym pliku - czyli poniżej folderu o nazwie `d_pl_txt`.\n",
    "\n",
    "**Zadanie 2**\n",
    "\n",
    "Napisz funkcję o nazwie `file_stats`, która przyjmie dwa argumenty:\n",
    "* `base_path` - ścieżka wyszukiwania\n",
    "* `folder_name` - nazwa folderu do odszukania\n",
    "\n",
    "Jeżeli funkcja odnajdzie folder (rekurencyjnie) o podanej nazwie to ma zwrócić liczbę wszystkich plików, które znajdują się w nim (i tylko w nim, bez rekurencji) oraz łączną ich wielkość.\n",
    "\n",
    "**Zadanie 3**\n",
    "\n",
    "Napisz funkcję `fs_stats`, która:\n",
    "* jako argument przyjmuje ścieżkę,\n",
    "* rekurencyjnie przechodzi przez wszystkie elementy i zapisuje poniższe informacje do ramki pandas:\n",
    "  * nazwa elementu (folderu lub pliku)\n",
    "  * ścieżka względna\n",
    "  * ścieżka bezwzględna\n",
    "  * czy to folder\n",
    "  * czy to plik\n",
    "  * rozmiar w bajtach\n",
    "  * liczba linii w pliku\n",
    "\n",
    "**Zadanie 4**\n",
    "\n",
    "Wykorzystując kod z zadania 3 lub finalną ramkę danych scal zawartość wszystkich plików w jeden zbiór danych i zapisz go do pliku csv.\n",
    "\n",
    "**Zadanie 5**\n",
    "\n",
    "Wyjaśnij dlaczego liczba bajtów zaalokowanych dla trzech list przedstawionych w przykładzie użycia funkcji `sys.getsizeof()` różni się (lub nie) dla list o tej samej (lub różnej) ilości elementów?"
   ]
  }
 ],
 "metadata": {
  "kernelspec": {
   "display_name": "Python 3 (ipykernel)",
   "language": "python",
   "name": "python3"
  },
  "language_info": {
   "codemirror_mode": {
    "name": "ipython",
    "version": 3
   },
   "file_extension": ".py",
   "mimetype": "text/x-python",
   "name": "python",
   "nbconvert_exporter": "python",
   "pygments_lexer": "ipython3",
   "version": "3.13.2"
  }
 },
 "nbformat": 4,
 "nbformat_minor": 5
}
