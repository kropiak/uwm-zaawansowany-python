{
 "cells": [
  {
   "cell_type": "markdown",
   "id": "dd5218d2-88bf-4d9e-8dd4-20412d3505a7",
   "metadata": {},
   "source": [
    "# Lab 11. Obiekty `bytes`, `bytearray` oraz moduł `threading`"
   ]
  },
  {
   "cell_type": "markdown",
   "id": "7804a717-ddb2-4b01-a103-0197acb86199",
   "metadata": {},
   "source": [
    "## 1. Wbudowane funkcje `bytes` oraz `bytearray`"
   ]
  },
  {
   "cell_type": "markdown",
   "id": "8494fc88-e4cb-4791-8eac-901c4492f5e8",
   "metadata": {},
   "source": [
    "Wbudowana metoda `bytes([source[, encoding[, errors]]])` zwraca niemutowalną sekwencję wartości całkowitoliczbowych w zakresie 0 <=x < 256.\n",
    "\n",
    "Jej mutowalna wersja to metoda `bytearray()`."
   ]
  },
  {
   "cell_type": "code",
   "execution_count": 64,
   "id": "5420e798-8586-4193-acd8-56ad109e43c0",
   "metadata": {},
   "outputs": [
    {
     "data": {
      "text/plain": [
       "(b'', b'ala', b'\\xff', b'\\x00\\x00\\x00', b'\\x01\\x02\\x03\\t\\t\\n\\x0c')"
      ]
     },
     "execution_count": 64,
     "metadata": {},
     "output_type": "execute_result"
    }
   ],
   "source": [
    "bytes(), bytes('ala', 'utf-8'), bytes(b'\\xff'), bytes(3), bytes([1,2,3,9,9,10,12])"
   ]
  },
  {
   "cell_type": "markdown",
   "id": "fe1211e1-adab-427f-8221-047476725feb",
   "metadata": {},
   "source": [
    "**Dlaczego takie wartości na wyjściu?**\n",
    "\n",
    "Dla bajtów o kodach od 32 do 126 wypisywany jest znak ASCII.\n",
    "\n",
    "Dla bajtów odpowiadającym znakom tabulacji, nowego wiersza, powrtou karetki i znaku \\ odpowiednio \\t,\\n,\\r oraz \\\\.\n",
    "\n",
    "Dla sekwencji bajtowej pojawiają się obydwa delimitery łańcuchów (czyli ' oraz \") to cała sekwencja jest ograniczana znakami ' (domyślny delimiter w Pythonie), a dowolny znak ' wewnątrz łańcucha jest zapisywany jako \\'.\n",
    "\n",
    "Dla każdej innej wartości bajta używana jest szesnastkowa sekwencja ucieczki np. \\x00, który widzimy w komórce wyjściowej powyżej, bajt null."
   ]
  },
  {
   "cell_type": "code",
   "execution_count": 53,
   "id": "c6a91e93-9920-440b-b2af-ac56cd8251c9",
   "metadata": {},
   "outputs": [
    {
     "name": "stdout",
     "output_type": "stream",
     "text": [
      "bytes(iterable_of_ints) -> bytes\n",
      "bytes(string, encoding[, errors]) -> bytes\n",
      "bytes(bytes_or_buffer) -> immutable copy of bytes_or_buffer\n",
      "bytes(int) -> bytes object of size given by the parameter initialized with null bytes\n",
      "bytes() -> empty bytes object\n",
      "\n",
      "Construct an immutable array of bytes from:\n",
      "  - an iterable yielding integers in range(256)\n",
      "  - a text string encoded using the specified encoding\n",
      "  - any object implementing the buffer API.\n",
      "  - an integer\n"
     ]
    }
   ],
   "source": [
    "print(bytes.__doc__)"
   ]
  },
  {
   "cell_type": "code",
   "execution_count": 56,
   "id": "906832b2-0291-41bb-b44d-0a25c9505903",
   "metadata": {},
   "outputs": [
    {
     "data": {
      "text/plain": [
       "b'Ala ma kota, kt\\xc3\\xb3ry ma 5 lat.'"
      ]
     },
     "execution_count": 56,
     "metadata": {},
     "output_type": "execute_result"
    }
   ],
   "source": [
    "# jeżeli nie poprzedzamy łańcucha znaków znakiem b, to aby z obiektu str stworzyć obiekt bytes należy podać również kodowanie\n",
    "sentence = \"Ala ma kota, który ma 5 lat.\"\n",
    "bytes(sentence, 'utf-8')"
   ]
  },
  {
   "cell_type": "code",
   "execution_count": 51,
   "id": "9dcee700-bad5-4f3d-874d-80d3091aa2e9",
   "metadata": {},
   "outputs": [
    {
     "ename": "TypeError",
     "evalue": "string argument without an encoding",
     "output_type": "error",
     "traceback": [
      "\u001b[1;31m---------------------------------------------------------------------------\u001b[0m",
      "\u001b[1;31mTypeError\u001b[0m                                 Traceback (most recent call last)",
      "Cell \u001b[1;32mIn[51], line 1\u001b[0m\n\u001b[1;32m----> 1\u001b[0m \u001b[38;5;28;43mbytes\u001b[39;49m\u001b[43m(\u001b[49m\u001b[43msentence\u001b[49m\u001b[43m)\u001b[49m\n",
      "\u001b[1;31mTypeError\u001b[0m: string argument without an encoding"
     ]
    }
   ],
   "source": [
    "bytes(sentence)"
   ]
  },
  {
   "cell_type": "code",
   "execution_count": 59,
   "id": "32229e86-37e9-4809-ad07-173ae82f75d0",
   "metadata": {},
   "outputs": [
    {
     "data": {
      "text/plain": [
       "b'Ala ma kota, kt\\xc3\\xb3ry ma 5 lat.'"
      ]
     },
     "execution_count": 59,
     "metadata": {},
     "output_type": "execute_result"
    }
   ],
   "source": [
    "# lub\n",
    "sentence.encode('utf-8')"
   ]
  },
  {
   "cell_type": "code",
   "execution_count": 58,
   "id": "e705874f-8576-4770-b605-a8f05bec841b",
   "metadata": {},
   "outputs": [
    {
     "data": {
      "text/plain": [
       "'Ala ma kota, który ma 5 lat.'"
      ]
     },
     "execution_count": 58,
     "metadata": {},
     "output_type": "execute_result"
    }
   ],
   "source": [
    "b'Ala ma kota, kt\\xc3\\xb3ry ma 5 lat.'.decode()"
   ]
  },
  {
   "cell_type": "code",
   "execution_count": 38,
   "id": "af0fc1ee-22e2-48ad-abd5-e9bb5570acca",
   "metadata": {},
   "outputs": [
    {
     "data": {
      "text/plain": [
       "255"
      ]
     },
     "execution_count": 38,
     "metadata": {},
     "output_type": "execute_result"
    }
   ],
   "source": [
    "int.from_bytes(b'\\xff')"
   ]
  },
  {
   "cell_type": "code",
   "execution_count": 41,
   "id": "4226542b-1654-4850-a578-be765d3c5f72",
   "metadata": {},
   "outputs": [
    {
     "data": {
      "text/plain": [
       "255"
      ]
     },
     "execution_count": 41,
     "metadata": {},
     "output_type": "execute_result"
    }
   ],
   "source": [
    "# powyżej to zapis heksadecymalny (szesnastkowy)\n",
    "# wyjaśnienie wartości powyżej\n",
    "15 * 16**1 + 15 * 16**0"
   ]
  },
  {
   "cell_type": "code",
   "execution_count": 40,
   "id": "98e7089d-b4cd-44bc-8ccd-585e7c674e18",
   "metadata": {},
   "outputs": [
    {
     "name": "stdout",
     "output_type": "stream",
     "text": [
      "b'111'\n",
      "0b1101111\n",
      "111\n",
      "0x6f\n",
      "7\n",
      "73\n",
      "273\n"
     ]
    }
   ],
   "source": [
    "binary = b'111'\n",
    "\n",
    "print(binary)\n",
    "print(bin(int(binary)))\n",
    "print(int(binary))\n",
    "print(hex(int(binary)))\n",
    "print(int(binary, base=2))\n",
    "print(int(binary, base=8))\n",
    "print(int(binary, base=16))"
   ]
  },
  {
   "cell_type": "code",
   "execution_count": 70,
   "id": "237a434b-1064-4095-b73d-8f4e253556fa",
   "metadata": {},
   "outputs": [
    {
     "name": "stdout",
     "output_type": "stream",
     "text": [
      "1\n",
      "65536\n"
     ]
    }
   ],
   "source": [
    "byte = b'\\x01\\x00\\x00'\n",
    "print(int.from_bytes(byte, 'little'))\n",
    "print(int.from_bytes(byte, 'big'))"
   ]
  },
  {
   "cell_type": "code",
   "execution_count": 25,
   "id": "cbe06d34-8c9e-4337-a17d-e12b9b953b1f",
   "metadata": {},
   "outputs": [
    {
     "name": "stdout",
     "output_type": "stream",
     "text": [
      "1\n"
     ]
    },
    {
     "data": {
      "text/plain": [
       "65536"
      ]
     },
     "execution_count": 25,
     "metadata": {},
     "output_type": "execute_result"
    }
   ],
   "source": [
    "# wyjaśnienie\n",
    "# little endian\n",
    "print(0 * 256**2 + 0 * 256**1 + 1 * 256**0)\n",
    "# big endian\n",
    "1 * 256**2 + 0 * 256**1 + 0 * 256**0"
   ]
  },
  {
   "cell_type": "code",
   "execution_count": 76,
   "id": "5a9e4038-2854-4023-95a9-1a103cb40c92",
   "metadata": {},
   "outputs": [
    {
     "name": "stdout",
     "output_type": "stream",
     "text": [
      "b'\\x01\\x02\\x03\\t\\t\\n\\x0c'\n"
     ]
    },
    {
     "data": {
      "text/plain": [
       "[1, 2, 3, 9, 9, 10, 12]"
      ]
     },
     "execution_count": 76,
     "metadata": {},
     "output_type": "execute_result"
    }
   ],
   "source": [
    "# to faktycznie lista liczb\n",
    "print(bytes([1,2,3,9,9,10,12]))\n",
    "list(bytes([1,2,3,9,9,10,12]))"
   ]
  },
  {
   "cell_type": "markdown",
   "id": "e10c6e0b-8b06-45a3-81b6-2a76701988f9",
   "metadata": {},
   "source": [
    "Przykład faktycznych problemów, które można napotkać przy kodowaniu znaków w Pythonie."
   ]
  },
  {
   "cell_type": "code",
   "execution_count": 79,
   "id": "24408d8d-768c-488c-91e4-ad3eacbd759a",
   "metadata": {},
   "outputs": [
    {
     "data": {
      "text/plain": [
       "b'caf\\xc3\\xa9'"
      ]
     },
     "execution_count": 79,
     "metadata": {},
     "output_type": "execute_result"
    }
   ],
   "source": [
    "text = 'café'\n",
    "bytes(text, 'utf_8')"
   ]
  },
  {
   "cell_type": "code",
   "execution_count": 88,
   "id": "1347fe7b-8311-412b-b6a8-1a6cbdb1a1b4",
   "metadata": {},
   "outputs": [
    {
     "name": "stdout",
     "output_type": "stream",
     "text": [
      "café\n"
     ]
    }
   ],
   "source": [
    "print(text)"
   ]
  },
  {
   "cell_type": "code",
   "execution_count": 89,
   "id": "61246b9a-5fcc-496f-b771-c2f83fe41e49",
   "metadata": {},
   "outputs": [
    {
     "name": "stdout",
     "output_type": "stream",
     "text": [
      "Obiekt pliku: <_io.TextIOWrapper name='file.bin' mode='w' encoding='utf-8'>\n"
     ]
    }
   ],
   "source": [
    "# plik jest zapisywany ze wskazaniem kodowania znaków\n",
    "with open('file.bin', 'w', encoding='utf-8') as file:\n",
    "    print(f'Obiekt pliku: {file}')\n",
    "    file.write(text)"
   ]
  },
  {
   "cell_type": "code",
   "execution_count": 90,
   "id": "91ff417d-673c-4ec0-8a54-bf5b8e6b2588",
   "metadata": {},
   "outputs": [
    {
     "name": "stdout",
     "output_type": "stream",
     "text": [
      "Obiekt pliku: <_io.TextIOWrapper name='file.bin' mode='r' encoding='cp1250'>\n",
      "cafĂ©\n"
     ]
    }
   ],
   "source": [
    "# plik jest wczytywany bez podanie encodowania, wybrane zostało systemowe (uruchomiona na systemie Windows 10)\n",
    "with open('file.bin', 'r') as file:\n",
    "    print(f'Obiekt pliku: {file}')\n",
    "    print(file.read())"
   ]
  },
  {
   "cell_type": "markdown",
   "id": "09a6a067-ba11-4678-bf20-66cd04e1411a",
   "metadata": {},
   "source": [
    "**Wbudowane funkcje `ord` oraz `chr`**"
   ]
  },
  {
   "cell_type": "code",
   "execution_count": null,
   "id": "e2e579bd-ff48-421e-b303-e9c9ea8ea6e0",
   "metadata": {},
   "outputs": [],
   "source": [
    "# funkcja ord zwraca numer przekazanego znaku z tablicy unicode\n",
    "ord('a'), ord('<'), ord('1')"
   ]
  },
  {
   "cell_type": "code",
   "execution_count": null,
   "id": "cfd78619-65f2-4cb5-a331-5bcc026f0bf9",
   "metadata": {},
   "outputs": [],
   "source": [
    "# funkcja chr zwraca znak z podanej pozycji tablic unicode\n",
    "chr(97), chr(60), chr(49)"
   ]
  },
  {
   "cell_type": "code",
   "execution_count": null,
   "id": "20789888-92d9-40e8-a9e6-5ebeef2e7549",
   "metadata": {},
   "outputs": [],
   "source": [
    "# a co zwrawca ord po przekazaniu wartości typu byte?\n",
    "ord(b'\\x02'), ord(b'\\xff')"
   ]
  },
  {
   "cell_type": "code",
   "execution_count": null,
   "id": "2e98b76c-9890-49bd-88af-74103f1c87b6",
   "metadata": {},
   "outputs": [],
   "source": [
    "chr(int(ord('\\x02'))), chr(int(ord('\\xaa')))"
   ]
  },
  {
   "cell_type": "code",
   "execution_count": null,
   "id": "1984393a-d989-4144-96bc-779fbf9091f3",
   "metadata": {},
   "outputs": [],
   "source": [
    "int('0x02c', 16)"
   ]
  },
  {
   "cell_type": "code",
   "execution_count": null,
   "id": "7753cd5b-12d2-41b0-b5f4-a298bc60244e",
   "metadata": {},
   "outputs": [],
   "source": [
    "[(i, chr(i)) for i in range(0,241)]"
   ]
  },
  {
   "cell_type": "code",
   "execution_count": 12,
   "id": "2f35018a-8fc2-4399-ab9c-e7020004f4cd",
   "metadata": {},
   "outputs": [
    {
     "data": {
      "text/plain": [
       "'\"'"
      ]
     },
     "execution_count": 12,
     "metadata": {},
     "output_type": "execute_result"
    }
   ],
   "source": [
    "chr(34)"
   ]
  },
  {
   "cell_type": "markdown",
   "id": "1330495e-f5d3-4b87-b5e3-a691de01f7ce",
   "metadata": {},
   "source": [
    "To jeszcze przykład nieco z innej beczki, ale w praktyce bardzo przydatny. Otóż domyślny sposób sortowania w Pythonie nie za bardzo będzie nam pasował jak chcemy sortować łańcuchy znaków, które zawierają inne wartości nic znaki ASCII. Przykład poniżej."
   ]
  },
  {
   "cell_type": "code",
   "execution_count": 101,
   "id": "781ca6a8-6b5a-4bd3-84c7-6c223bb9f99c",
   "metadata": {},
   "outputs": [
    {
     "data": {
      "text/plain": [
       "['a', 'c', 'e', 'ą', 'ć', 'ę']"
      ]
     },
     "execution_count": 101,
     "metadata": {},
     "output_type": "execute_result"
    }
   ],
   "source": [
    "words = ['a', 'ą', 'ć', 'c', 'e', 'ę']\n",
    "sorted(words)"
   ]
  },
  {
   "cell_type": "code",
   "execution_count": 104,
   "id": "cf285d1f-d447-477e-9a9d-11e15663ac13",
   "metadata": {},
   "outputs": [
    {
     "data": {
      "text/plain": [
       "'pl_PL.utf-8'"
      ]
     },
     "execution_count": 104,
     "metadata": {},
     "output_type": "execute_result"
    }
   ],
   "source": [
    "import locale\n",
    "\n",
    "# moduł locale po pierwsze pozwala nam na ustawienie LC_COLLATE, za dokumentacją:\n",
    "# locale.LC_COLLATE\n",
    "# Locale category for sorting strings. The functions strcoll() and strxfrm() of the locale module are affected.\n",
    "\n",
    "locale.setlocale(locale.LC_COLLATE, 'pl_PL.utf-8')"
   ]
  },
  {
   "cell_type": "code",
   "execution_count": 106,
   "id": "66ff1ee9-2bbf-4ee7-ad97-e26632a70581",
   "metadata": {},
   "outputs": [
    {
     "data": {
      "text/plain": [
       "['a', 'ą', 'c', 'ć', 'e', 'ę']"
      ]
     },
     "execution_count": 106,
     "metadata": {},
     "output_type": "execute_result"
    }
   ],
   "source": [
    "# teraz trzeba jeszcze przekazań klucz sortowania, który jest funkcją biorącą pod uwagę ustawienia\n",
    "# ze zmiennej locale.LC_COLLATE\n",
    "sorted(words, key=locale.strxfrm)"
   ]
  },
  {
   "cell_type": "markdown",
   "id": "4c2ec59f-01c8-424a-9845-5ad5e201061e",
   "metadata": {},
   "source": [
    "## 2. Współbieżność/równoległość w Pythonie"
   ]
  },
  {
   "cell_type": "markdown",
   "id": "039f46db-60f8-4b16-84d4-3f0004dae28a",
   "metadata": {},
   "source": [
    "**Równoległość** to możliwość wykonywania wielu zadań w tym samym czasie, co możliwe jest dzięki procesorom wielordzeniowym, wielu procesorom lub wielu komputerowm w klastrze.\n",
    "\n",
    "**Współbieżność (wielozadaniowość)** możliwość wykonywania wielu zadań poprzez przełączanie się między nimi co możliwe jest do zrealizowania również na jednordzeniowym procesorze.\n",
    "\n",
    "**Proces** to samodzielnie działający program uruchomiony w systemie operacyjnym. Ma własną przestrzeń adresową (pamięć), zmienne, zasoby i działa niezależnie od innych procesów. Procesy komunikują się ze sobą przez specjalne mechanizmy (np. IPC). W Pythonie, aby procesy mogły się ze sobą komunikować to dane muszą być przesylane między nimi w formie bajtów, więc konieczna jest wcześniejsza serializacja, które jest dość kosztowna.\n",
    "\n",
    "**Wątek (ang. thread)** to lżejsza jednostka wykonawcza działająca w obrębie procesu. Wątki tego samego procesu współdzielą pamięć i zasoby, ale mają własny licznik instrukcji i stos. Wątki są używane do wykonywania wielu zadań równolegle w ramach jednego procesu.\n",
    "\n"
   ]
  },
  {
   "cell_type": "markdown",
   "id": "c85bd142-0a55-4fdd-a163-c20cd5f7ae27",
   "metadata": {},
   "source": [
    "### 2.1 Moduł `threading`"
   ]
  },
  {
   "cell_type": "markdown",
   "id": "9998c98e-5145-46da-89f3-809eb34c956f",
   "metadata": {},
   "source": [
    "> Dokumentacja:\n",
    "> * https://docs.python.org/3/library/threading.html\n",
    "\n",
    "\n",
    "W tym module głównym jego elementem jest klasa `Thread` (https://docs.python.org/3/library/threading.html#threading.Thread), która dostarcza następującą funkcjonalność:\n",
    "\n",
    "* metoda `start()` - uruchamia zadanie wątku, może być wywołana co najwyżej raz. Umożliwia wykonanie metody `run()` obiektu w oddzielnym wątku,\n",
    "* metoda `run()` - metoda reprezentująca główną aktywność wątku (czyli funkcję, która została przekazana jako ta, która ma zostać uruchomiona poza głównym wątkiem),\n",
    "* metoda `join(timeout=None)` - jej wywołanie nakazuje głównemu wątkowi poczekać na zakończenia działania tego wątku przed wznowieniem działania wątku głównego,\n",
    "* metoda `is_alive()` - zwraca informacje czy wątek jest wciąż aktywny.\n",
    "\n",
    "Poza tym klasa posiada jeszcze kilka atrybutów, które nie są bardzo istotne."
   ]
  },
  {
   "cell_type": "markdown",
   "id": "82f78a4b-fdfb-434f-9863-048368827ca6",
   "metadata": {},
   "source": [
    "_**Przykład 1**_"
   ]
  },
  {
   "cell_type": "code",
   "execution_count": 1,
   "id": "29573fdd-5b0d-4d62-b9a0-c21745af0ef1",
   "metadata": {},
   "outputs": [
    {
     "name": "stdout",
     "output_type": "stream",
     "text": [
      "crawl started for https://python.org with delay 4\n",
      "crawl started for https://docs.python.org with delay 4\n",
      "crawl started for https://peps.python.org with delay 3\n",
      "crawl ended for https://peps.python.org\n",
      "crawl ended for https://docs.python.org\n",
      "crawl ended for https://python.org\n",
      "Po wykonaniu wszystkich wątków\n"
     ]
    }
   ],
   "source": [
    "# przykład ze strony z dokumentacją modułu threading, lekko zmodyfikowany:\n",
    "# https://docs.python.org/3/library/threading.html\n",
    "\n",
    "import threading\n",
    "import time\n",
    "import random\n",
    "\n",
    "def crawl(link, delay=3):\n",
    "    print(f\"crawl started for {link} with delay {delay}\")\n",
    "    time.sleep(delay)  # Blocking I/O (simulating a network request)\n",
    "    print(f\"crawl ended for {link}\")\n",
    "\n",
    "links = [\n",
    "    \"https://python.org\",\n",
    "    \"https://docs.python.org\",\n",
    "    \"https://peps.python.org\",\n",
    "]\n",
    "\n",
    "# Start threads for each link\n",
    "threads = []\n",
    "for link in links:\n",
    "    # Using `args` to pass positional arguments and `kwargs` for keyword arguments\n",
    "    t = threading.Thread(target=crawl, args=(link,), kwargs={\"delay\": random.randint(3, 6)})\n",
    "    threads.append(t)\n",
    "\n",
    "# Start each thread\n",
    "for t in threads:\n",
    "    t.start()\n",
    "\n",
    "# Wait for all threads to finish\n",
    "for t in threads:\n",
    "    t.join()\n",
    "\n",
    "\n",
    "print('Po wykonaniu wszystkich wątków')"
   ]
  },
  {
   "cell_type": "markdown",
   "id": "c955c3c2-a718-49a0-8999-4d530767f56d",
   "metadata": {},
   "source": [
    "Jeżeli uruchomisz ten kod kilkukrotnie to prawdopodobnie zobaczysz różną kolejność wyświetlanych komunikatów."
   ]
  },
  {
   "cell_type": "markdown",
   "id": "d1584a02-2ad9-4f0a-98cb-41dd9231dded",
   "metadata": {},
   "source": [
    "Poniżej zostanie zaprezentowany inny przykład, który nieco bardziej namacalnie pokaże jak wygląda czas wykonania tego samego zadania dla jednego wątku vs. większa ilość wątków.\n",
    "\n",
    "Scenariusz wygląda tak:\n",
    "* deklarujemy funkcję, która ma obliczać sumę liczb z przekazanej jej listy,\n",
    "* ta funkcja ma to robić wolno, tj. dodaliśmy oczekiwanie 0.1 s dla każdej kolejnej zsumowanej liczby,\n",
    "* aby można było bez większych kombinacji przekazać wyniki między wątkami dodaliśmy zmienną typu `list` zadeklarowaną poza funkcją, do której dodajemy kolejne wyniki działania funkcji `slow_sum`,\n",
    "* w kolejnych krokach tworzymy listę liczb, a następnie sumujemy ją w jednym (głównym) wątku oraz w kilku (tu będzie 5) i porównujemy czasy."
   ]
  },
  {
   "cell_type": "markdown",
   "id": "c579971a-f8ad-42dd-9e72-0381c52d002a",
   "metadata": {},
   "source": [
    "_**Przykład 2**_"
   ]
  },
  {
   "cell_type": "code",
   "execution_count": 124,
   "id": "4eb3d1d2-623d-4554-b724-8668a781e903",
   "metadata": {},
   "outputs": [],
   "source": [
    "# funkcja wykonująca obliczenia \"wolno\"\n",
    "from numbers import Number\n",
    "import time\n",
    "\n",
    "def slow_sum(vals: list[Number], result_list: list) -> Number:\n",
    "\n",
    "    delay = 0.1\n",
    "    result = 0\n",
    "    print(f'Sumuję {vals}')\n",
    "    for num in vals:\n",
    "        result = result + num\n",
    "        time.sleep(delay)\n",
    "\n",
    "    result_list.append(result)"
   ]
  },
  {
   "cell_type": "code",
   "execution_count": 117,
   "id": "0a5ee117-be5b-43db-befd-050b3c2158a9",
   "metadata": {},
   "outputs": [
    {
     "name": "stdout",
     "output_type": "stream",
     "text": [
      "Sumuję [2, 4, 6, 8, 10, 12, 14, 16, 18, 20, 22, 24, 26, 28, 30, 32, 34, 36, 38, 40, 42, 44, 46, 48, 50, 52, 54, 56, 58, 60, 62, 64, 66, 68, 70, 72, 74, 76, 78, 80, 82, 84, 86, 88, 90, 92, 94, 96, 98, 100]\n",
      "Czas wykonania: 5.028755600011209\n",
      "Wynik: 2550\n"
     ]
    }
   ],
   "source": [
    "# scenariusz obejmuje porównanie czasu wykonania obliczenia bez wykorzystania wątków oraz w kilku wątkach\n",
    "\n",
    "nums = list(range(2, 101, 2))\n",
    "results = []\n",
    "\n",
    "start = time.perf_counter()\n",
    "slow_sum(nums, results)\n",
    "print(f\"Czas wykonania: {time.perf_counter() - start}\")\n",
    "print(f\"Wynik: {sum(results)}\")"
   ]
  },
  {
   "cell_type": "code",
   "execution_count": 118,
   "id": "55af8012-68c8-4247-9af3-955a23d183d7",
   "metadata": {},
   "outputs": [
    {
     "name": "stdout",
     "output_type": "stream",
     "text": [
      "Sumuję (2, 4, 6, 8, 10, 12, 14, 16, 18, 20, 22, 24)\n",
      "Sumuję (26, 28, 30, 32, 34, 36, 38, 40, 42, 44, 46, 48)\n",
      "Sumuję (50, 52, 54, 56, 58, 60, 62, 64, 66, 68, 70, 72)\n",
      "Sumuję (74, 76, 78, 80, 82, 84, 86, 88, 90, 92, 94, 96)\n",
      "Sumuję (98, 100)\n",
      "Czas wykonania: 1.2102835999976378\n",
      "Wynik: 2550\n"
     ]
    }
   ],
   "source": [
    "# teraz tworzymy kilka wątków i dzielimy listę na kilka fragmentów, a następnie dla każdego wątku przekażemy jeden fragment\n",
    "import itertools\n",
    "\n",
    "# w tym przykładzie chcielibyśmy 4 wątki, więc dzielimy dane\n",
    "# jednak ze względu na to, że podział może nie być równy to paczek może być 4 lub 5\n",
    "batch_size = len(nums) // 4\n",
    "threads = []\n",
    "results = []\n",
    "\n",
    "start = time.perf_counter() \n",
    "\n",
    "for batch in itertools.batched(nums, batch_size):\n",
    "    t = threading.Thread(target=slow_sum, kwargs={\"vals\": batch, \"result_list\": results})\n",
    "    threads.append(t)\n",
    "\n",
    "for t in threads:\n",
    "    t.start()\n",
    "\n",
    "for t in threads:\n",
    "    t.join()\n",
    "\n",
    "print(f\"Czas wykonania: {time.perf_counter()  - start}\")\n",
    "print(f\"Wynik: {sum(results)}\")"
   ]
  },
  {
   "cell_type": "markdown",
   "id": "7aac72d1-e593-4f1b-a8e4-db158ca64a3d",
   "metadata": {},
   "source": [
    "Wynik jest taki sam, więc całość działa, ale różnica w czasie wykonania jest spora, choć dość przewidywalna. Dla jednego wątku całość wykonywała się około 5.02 s, a gdyby przemnożyć ilość elementów listy do zsumowania przez opóźnienie mamy 50 * 0.1 = 5s, więc to by się zgadzało. W drugim przypadku czas jaki został wyświetlony to około 1.21 sekundy co też jest dość oczywiste, gdyż maksymalna liczba elementów do przeliczenia dla jednego wątku to 12, a same operacje nie są kosztowne, więc ta wartość jest głównie wynikiem działania opóźnienia poprzez `time.sleep(0.1)`.\n",
    "\n",
    "Widać jednak, że 5 wątków wykonało tę pracę szybciej, ale gdyby zsumować ten czas z każdego wątku, to zapewne byłby on dłuższy ze zwględu na narzut obsługi wątków.\n",
    "\n",
    "Tę wątki jednak **nie wykonują się równolegle**!\n",
    "\n",
    "Te wątki wykonują się **współbieżnie** w ramach jednego procesu i jednego procesora!\n",
    "\n",
    "Wewnętrzny mechanizm obsługi wątków w Pythonie przełącza wątki domyślnie co 5 ms, aby żaden z nich nie \"trzymał\" blokady GIL w nieskończoność.\n",
    "Można sprawdzić wartość tego interwału poprzez `sys.getswitchinterval()`. Można go również zmienić z poziomu kodu poprzez wywołanie `sys.setswitchinterval(s)`.\n",
    "\n",
    "W kolejnych przykładach zostaną pokazane inne możliwości obliczeń współbieżnych oraz zrównoleglonych.\n",
    "\n",
    "Ze względu na aktualną naturę Pythona (właściwie wielu najpopularniejszych implementacji, w tym CPython, której używamy), każde wystąpienie (instancja) interpretera Pythona jest pojedynczym procesem i jest ograniczone poprzez mechanizm GIL (ang. Global Interpreter Lock), który nie pozwala programom działać domyślnie na wielu rdzeniach jednocześnie. Nie oznacza to, że w Pythonie nie ma takich mechanizmów, ale nie jest to jego natywne zachowanie w przeciwieństwie do wielu innych języków programowania.\n",
    "\n",
    "Są w Pythonie funkcje, które zwalniają blokadę GIL i należą do nich funkcje, które przeprowadzają dyskowe operacje wejścia-wyjścia, operacje sieciowe oraz ... `time.sleep()`. Również zewnętrzne biblioteki takie jak NumPy, SciPy, zlib dla najbardziej intensywnych obliczeń zwalniają tę blokadę.\n",
    "\n",
    "Kod CPythona, w którym można zobaczyć flagi zdejmujące blokadę GIL dla funkjcji `time.sleep()` można znaleźć tu: https://github.com/python/cpython/blob/7ba1f75f3f02b4b50ac6d7e17d15e467afa36aac/Modules/timemodule.c#L1880-L1882"
   ]
  },
  {
   "cell_type": "code",
   "execution_count": 37,
   "id": "1d3413df-21c5-4438-8c9c-779d7284b68a",
   "metadata": {},
   "outputs": [
    {
     "data": {
      "text/plain": [
       "0.005"
      ]
     },
     "execution_count": 37,
     "metadata": {},
     "output_type": "execute_result"
    }
   ],
   "source": [
    "import sys\n",
    "\n",
    "sys.getswitchinterval()"
   ]
  },
  {
   "cell_type": "markdown",
   "id": "9df12a38-9a38-4c85-951e-07a4d90e301b",
   "metadata": {},
   "source": [
    "Teraz sprawdzimy jak wygląda czas wykonania dla pojedynczego wątku oraz wielu wątków, ale bez wykorzystania funkcji `time.sleep`."
   ]
  },
  {
   "cell_type": "markdown",
   "id": "f631318e-85a3-47ec-a8dc-be35b3781e06",
   "metadata": {},
   "source": [
    "_**Przykład 3**_"
   ]
  },
  {
   "cell_type": "code",
   "execution_count": 121,
   "id": "820875d7-bfc5-45fc-9750-433c3fcfa23e",
   "metadata": {},
   "outputs": [],
   "source": [
    "def just_sum(vals: list[Number], result_list: list) -> Number:\n",
    "\n",
    "    result = 0\n",
    "    print(f'Sumuję {vals}')\n",
    "    for num in vals:\n",
    "        result = result + num\n",
    "\n",
    "    result_list.append(result)"
   ]
  },
  {
   "cell_type": "code",
   "execution_count": 122,
   "id": "38bdbffb-8242-4abe-97ce-c639c717bf2e",
   "metadata": {},
   "outputs": [
    {
     "name": "stdout",
     "output_type": "stream",
     "text": [
      "Sumuję [2, 4, 6, 8, 10, 12, 14, 16, 18, 20, 22, 24, 26, 28, 30, 32, 34, 36, 38, 40, 42, 44, 46, 48, 50, 52, 54, 56, 58, 60, 62, 64, 66, 68, 70, 72, 74, 76, 78, 80, 82, 84, 86, 88, 90, 92, 94, 96, 98, 100]\n",
      "Czas wykonania: 0.0004031999851576984\n",
      "Wynik: 2550\n"
     ]
    }
   ],
   "source": [
    "# tylko główny wątek\n",
    "\n",
    "nums = list(range(2, 101, 2))\n",
    "results = []\n",
    "\n",
    "start = time.perf_counter() \n",
    "just_sum(nums, results)\n",
    "print(f\"Czas wykonania: {time.perf_counter()  - start}\")\n",
    "print(f\"Wynik: {sum(results)}\")"
   ]
  },
  {
   "cell_type": "code",
   "execution_count": 123,
   "id": "cd4fb203-2d17-4fd8-a2fd-aa4f65c40c62",
   "metadata": {},
   "outputs": [
    {
     "name": "stdout",
     "output_type": "stream",
     "text": [
      "Sumuję (2, 4, 6, 8, 10, 12, 14, 16, 18, 20, 22, 24)\n",
      "Sumuję (26, 28, 30, 32, 34, 36, 38, 40, 42, 44, 46, 48)\n",
      "Sumuję (50, 52, 54, 56, 58, 60, 62, 64, 66, 68, 70, 72)\n",
      "Sumuję (74, 76, 78, 80, 82, 84, 86, 88, 90, 92, 94, 96)\n",
      "Sumuję (98, 100)\n",
      "Czas wykonania: 0.004826899996260181\n",
      "Wynik: 2550\n"
     ]
    }
   ],
   "source": [
    "# wiele wątków\n",
    "\n",
    "batch_size = len(nums) // 4\n",
    "threads = []\n",
    "results = []\n",
    "\n",
    "start = time.perf_counter() \n",
    "\n",
    "for batch in itertools.batched(nums, batch_size):\n",
    "    t = threading.Thread(target=just_sum, kwargs={\"vals\": batch, \"result_list\": results})\n",
    "    threads.append(t)\n",
    "\n",
    "for t in threads:\n",
    "    t.start()\n",
    "\n",
    "for t in threads:\n",
    "    t.join()\n",
    "\n",
    "print(f\"Czas wykonania: {time.perf_counter()  - start}\")\n",
    "print(f\"Wynik: {sum(results)}\")"
   ]
  },
  {
   "cell_type": "markdown",
   "id": "29957dd9-6d20-4069-a75d-79895e82c194",
   "metadata": {},
   "source": [
    "Teraz widać, że kod wielowątkowy w tym przypadku jest znacznie wolniejszy (około 600% !), gdyż wykonuje się współbieżnie oraz sam koszt obsługi wątków dodaje niemały narzut. Jeżeli chcemy wykonać takie zadanie **równolegle** musimy wykorzystać inne moduły.\n",
    "\n",
    "W Pythonie mamy moduł `multiprocessing`, `concurrent.futures` oraz `subprocess`, które pozwalają na uruchamianie wielu procesów z poziomu kodu Pythona."
   ]
  },
  {
   "cell_type": "markdown",
   "id": "550fb88f-5ed6-43ea-b6c0-5d4774bebd8b",
   "metadata": {},
   "source": [
    "_**Przykład 4**_"
   ]
  },
  {
   "cell_type": "code",
   "execution_count": 74,
   "id": "6768e8d4-34a0-44e2-9373-b0802d064a61",
   "metadata": {},
   "outputs": [
    {
     "name": "stdout",
     "output_type": "stream",
     "text": [
      "CPU Usage: 8.1%%"
     ]
    }
   ],
   "source": [
    "import psutil\n",
    "\n",
    "def print_cpu_usage():\n",
    "    # ta pętla jest nieskończona!\n",
    "    while True:\n",
    "        cpu_usage = psutil.cpu_percent(interval=1)\n",
    "        print(f\"CPU Usage: {cpu_usage}%\", end='\\r')\n",
    "        print('',end=\"\")\n",
    "        time.sleep(5)\n",
    "\n",
    "\n",
    "t1 = threading.Thread(target=print_cpu_usage)\n",
    "\n",
    "t1.start()\n",
    "# próba oczekiwania na zakończenie wątku przez 20 sekund, później powrót sterowania do głównego wątk\n",
    "# ale ten wątek dalej będzie działał. Jeżeli zakomentujemy poniższą linię, sterowanie od razu zostanie\n",
    "# przekazane do głównego wątka i możemy uruchamiać kolejne komórki z kodem. A wątek będzie działał w tle\n",
    "# w obu przypadkach, gdyż nie ma wewnątrz żadnej logiki, która zakończy działanie metody print_cpu_usage osadzonej w tym wątku.\n",
    "t1.join(timeout=20.0)"
   ]
  },
  {
   "cell_type": "code",
   "execution_count": 5,
   "id": "d959a5cb-6ad4-449d-ab69-992aa3147fa7",
   "metadata": {},
   "outputs": [
    {
     "name": "stdout",
     "output_type": "stream",
     "text": [
      "Wątek główny nie jest blokowany!\n"
     ]
    }
   ],
   "source": [
    "# można w tym czasie robić coś innego\n",
    "print('Wątek główny nie jest blokowany!')"
   ]
  },
  {
   "cell_type": "markdown",
   "id": "06be5587-4e5a-4997-a8d1-cda0133403f3",
   "metadata": {},
   "source": [
    "_**Przykład 5**_"
   ]
  },
  {
   "cell_type": "code",
   "execution_count": 6,
   "id": "02afae15-d930-41f1-9c5d-2226ae70b934",
   "metadata": {},
   "outputs": [],
   "source": [
    "# Jeżeli chcemy zaprojektować obsługę wątku tak, żeby można go było przerwać to musimy to zrobić samodzielnie\n",
    "# nie ma wbudowanej metody, która kończy wątek. Tu wykorzystamy klasę threading.Event\n",
    "import threading\n",
    "import time\n",
    "\n",
    "\n",
    "class CpuMonitorThread(threading.Thread):\n",
    "    def __init__(self):\n",
    "        super().__init__()\n",
    "        self._stop_event = threading.Event()\n",
    "\n",
    "    def stop(self):\n",
    "        self._stop_event.set()\n",
    "\n",
    "    def run(self):\n",
    "        while not self._stop_event.is_set():\n",
    "            cpu_usage = psutil.cpu_percent(interval=1)\n",
    "            print(f\"\\rCPU Usage: {cpu_usage}%\", end=\"\")\n",
    "            time.sleep(5)"
   ]
  },
  {
   "cell_type": "code",
   "execution_count": 7,
   "id": "0765c5f2-160d-4a2e-9224-60b0240a1897",
   "metadata": {},
   "outputs": [
    {
     "name": "stdout",
     "output_type": "stream",
     "text": [
      "CPU Usage: 7.1%"
     ]
    }
   ],
   "source": [
    "monitor = CpuMonitorThread()\n",
    "monitor.start()"
   ]
  },
  {
   "cell_type": "code",
   "execution_count": 8,
   "id": "358705f7-c74b-46aa-bc1b-d02a7024ca10",
   "metadata": {},
   "outputs": [],
   "source": [
    "monitor.stop()\n",
    "monitor.join()"
   ]
  },
  {
   "cell_type": "markdown",
   "id": "48f93f36-e1bc-4184-b75a-8d09861991c7",
   "metadata": {},
   "source": [
    "Powyższy przykład wykorzystuje klasę `threading.Event`, która jest wykorzystywana do komunikacji między wątkami. W klasie `CpuMonitrThread`, która dziedziczy po `threading.Thread` mamy inicjalizator, który definiuje event o nazwie `_stop_event` oraz oraz metodę `stop()`, która jest swego rodzaju flagą, której włączenie (wartość True) powoduje, że w metodzie `run` nie wykona się już w nic w pętli i funkcja zakończy swoje działanie. Ostatecznie wywołanie `join()` przekaże sterowanie do głównego wątku."
   ]
  },
  {
   "cell_type": "code",
   "execution_count": 107,
   "id": "d6358a66-eb70-43e3-8001-08e37ba78cfe",
   "metadata": {},
   "outputs": [
    {
     "name": "stdout",
     "output_type": "stream",
     "text": [
      "The Zen of Python, by Tim Peters\n",
      "\n",
      "Beautiful is better than ugly.\n",
      "Explicit is better than implicit.\n",
      "Simple is better than complex.\n",
      "Complex is better than complicated.\n",
      "Flat is better than nested.\n",
      "Sparse is better than dense.\n",
      "Readability counts.\n",
      "Special cases aren't special enough to break the rules.\n",
      "Although practicality beats purity.\n",
      "Errors should never pass silently.\n",
      "Unless explicitly silenced.\n",
      "In the face of ambiguity, refuse the temptation to guess.\n",
      "There should be one-- and preferably only one --obvious way to do it.\n",
      "Although that way may not be obvious at first unless you're Dutch.\n",
      "Now is better than never.\n",
      "Although never is often better than *right* now.\n",
      "If the implementation is hard to explain, it's a bad idea.\n",
      "If the implementation is easy to explain, it may be a good idea.\n",
      "Namespaces are one honking great idea -- let's do more of those!\n"
     ]
    }
   ],
   "source": [
    "import this"
   ]
  },
  {
   "cell_type": "markdown",
   "id": "26ef7141-606f-4ea9-a092-6f6d04aeb207",
   "metadata": {},
   "source": [
    "### Zadania"
   ]
  },
  {
   "cell_type": "markdown",
   "id": "4ff0dbf9-0015-4890-a30d-acd111a2df9a",
   "metadata": {},
   "source": [
    "**Zadanie 1**  \n",
    "\n",
    "Wyjaśnij w postaci komentarza wyniki (dlaczego taka wartość) wykonania poniższego fragmentu kodu.\n",
    "\n",
    "```python\n",
    "binary = '111'\n",
    "\n",
    "print(binary)\n",
    "print(bin(int(binary)))\n",
    "print(int(binary))\n",
    "print(hex(int(binary)))\n",
    "print(int(binary, base=2))\n",
    "print(int(binary, base=8))\n",
    "print(int(binary, base=16))\n",
    "```\n",
    "\n",
    "**Zadanie 2**  \n",
    "Wykorzystaj moduł `this` (sprawdź jego kod źródłowy) i korzystając z umieszczonego tam słownika kodującego (sprawdź dostępne zmienne modułu `this`) napisz skrypt, który będzie kodował tym słownikiem wpisywane zdanie (przechwytuj z klawiatury). Wypisuj na konsoli zakodowane zdanie (zwróć uwagę, że słownik kodujący zawiera tylko znaki ASCII).\n",
    "\n",
    "**Zadanie 3**\n",
    "\n",
    "Wykorzystując moduł `threading` oraz `requests` napisz kod, który w odddzielnych wątkach odpyta 5 wybranych przez Ciebie stron interntetowych o ich zawartość (HTML) i zapisze tę zawartość do pliku (funkcja, która będzie uruchamiana w ramach wątku będzie robiła obie te operacje, nie w oddzielnych funkcjach). Wypisuj na wyjściu komunikat o zakończeniu pobierania, tak aby można było prześledzieć kolejność wykonania operacji.\n",
    "\n",
    "**Zadanie 4**\n",
    "\n",
    "Wykorzystując przykład z pomiarem obciążenia procesora (przykład 5) napisz podobne rozwiązanie, które będzie wyświetlało % wykorzystania pamięci RAM. \n",
    "\n",
    "**Zadanie 5**\n",
    "\n",
    "Wykorzystując moduł threading napisz funkcję, która odczytuje zawartość pliku (z opóźnieniem jak w przykładzie z obliczaniem sumy liczb). Dodaj obsługę modułu tqdm, który ma wyświetlać postęp tego odczytu. Stwórz 3-4 wątki, które będą odczytywały różne pliki i śledź ich wykonanie.\n",
    "\n",
    "\n",
    "\n",
    "\n",
    "\n",
    "\n"
   ]
  }
 ],
 "metadata": {
  "kernelspec": {
   "display_name": "Python 3 (ipykernel)",
   "language": "python",
   "name": "python3"
  },
  "language_info": {
   "codemirror_mode": {
    "name": "ipython",
    "version": 3
   },
   "file_extension": ".py",
   "mimetype": "text/x-python",
   "name": "python",
   "nbconvert_exporter": "python",
   "pygments_lexer": "ipython3",
   "version": "3.13.2"
  }
 },
 "nbformat": 4,
 "nbformat_minor": 5
}
