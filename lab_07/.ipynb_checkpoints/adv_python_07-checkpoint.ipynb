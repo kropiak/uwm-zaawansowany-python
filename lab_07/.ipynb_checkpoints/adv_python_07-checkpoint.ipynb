{
 "cells": [
  {
   "cell_type": "markdown",
   "id": "d70e72e1-1867-4025-8b5e-5f95edd59ebb",
   "metadata": {},
   "source": [
    "## Lab 7. Funkcje anonimowe w Pythonie oraz moduł itertools"
   ]
  },
  {
   "cell_type": "markdown",
   "id": "5da63170-e7f5-408b-bc1d-31c78a5e895b",
   "metadata": {},
   "source": [
    "Funkcje anonimowe lambda opierają się o rachunek lambda opracowany przez  Alonzo Churcha w 1930 roku. \n",
    "\n",
    "> źródła:\n",
    "> * https://pl.wikipedia.org/wiki/Rachunek_lambda\n",
    "> * https://en.wikipedia.org/wiki/Lambda_calculus\n",
    "\n",
    "Funkcje anonimowe (lambda) to funkcja, której deklaracja nie posiada referencji (ale możemy ją nadać), której moglibyśmy użyć aby się do niej odwołać. Używamy jej wtedy kiedy potrzebne nam zazwyczaj dość proste wyrażenie, którym chcemy np. przetworzyć jakiś zbiór wartości, a nie mamy do dyspozycji odpowiedniej funkcji w dostępnych bibliotekach lub jest to systuacja jednorazowa i nie ma większego sensu deklarowanie nowej funkcji w module."
   ]
  },
  {
   "cell_type": "markdown",
   "id": "c4006a12-f69b-4fbb-8ec9-652a61794916",
   "metadata": {},
   "source": [
    "## 1. Przykłady wykorzystania funkcji anonimowych"
   ]
  },
  {
   "cell_type": "code",
   "execution_count": 24,
   "id": "20f7a326-65e7-4e83-9c71-c2b7270c26bb",
   "metadata": {},
   "outputs": [
    {
     "data": {
      "text/plain": [
       "[5, 6, 6, 10]"
      ]
     },
     "execution_count": 24,
     "metadata": {},
     "output_type": "execute_result"
    }
   ],
   "source": [
    "# przykład 1\n",
    "# wbudowana funkcja map, mapuje podaną funkcję na dany obiekt iterowalny\n",
    "# możemy oczywiście zrealizować taki scenariusz na wiele innych sposobów, np. poprzez listy składane (Python comprehensions)\n",
    "\n",
    "names = ['marek', 'Damian', 'wojtas', 'maczuga333']\n",
    "list(map(lambda x: len(x), names))"
   ]
  },
  {
   "cell_type": "code",
   "execution_count": 25,
   "id": "9ac114ee-24b7-49b8-b4de-c15ced032e9c",
   "metadata": {},
   "outputs": [
    {
     "name": "stdout",
     "output_type": "stream",
     "text": [
      "5\n",
      "6\n",
      "6\n",
      "10\n"
     ]
    }
   ],
   "source": [
    "# równoważne z powyższą funkcją anonimową\n",
    "def costam(x):\n",
    "    return len(x)\n",
    "\n",
    "for elem in names:\n",
    "    print(costam(elem))"
   ]
  },
  {
   "cell_type": "code",
   "execution_count": 4,
   "id": "6daf181c-9e1c-4152-8ea8-f49721d1847a",
   "metadata": {},
   "outputs": [
    {
     "data": {
      "text/plain": [
       "4"
      ]
     },
     "execution_count": 4,
     "metadata": {},
     "output_type": "execute_result"
    }
   ],
   "source": [
    "# przykład 2\n",
    "# lambdę możemy przypisać do zmiennej, dzięki czemu będzie można się do niej odwoływać\n",
    "\n",
    "mypow = lambda x: x ** 2\n",
    "mypow(2)"
   ]
  },
  {
   "cell_type": "code",
   "execution_count": 5,
   "id": "43eb758f-c92a-4471-b87e-d87b550750b9",
   "metadata": {},
   "outputs": [
    {
     "data": {
      "text/plain": [
       "25"
      ]
     },
     "execution_count": 5,
     "metadata": {},
     "output_type": "execute_result"
    }
   ],
   "source": [
    "# przykład 3\n",
    "# możemy również wywołać ją w taki sposób\n",
    "num = 5\n",
    "\n",
    "(lambda x: x ** 2)(num)"
   ]
  },
  {
   "cell_type": "code",
   "execution_count": 8,
   "id": "5143d358-3f92-47c1-9266-24bd5c5d92b2",
   "metadata": {},
   "outputs": [
    {
     "data": {
      "text/plain": [
       "5"
      ]
     },
     "execution_count": 8,
     "metadata": {},
     "output_type": "execute_result"
    }
   ],
   "source": [
    "# przykład 4\n",
    "# lambdy nie muszą być jednoargumentowe\n",
    "\n",
    "(lambda x, y: x + y)(2, 3)"
   ]
  },
  {
   "cell_type": "code",
   "execution_count": 9,
   "id": "ee2015d4-088e-4d20-8d31-bd103de3c6c9",
   "metadata": {},
   "outputs": [
    {
     "ename": "SyntaxError",
     "evalue": "invalid syntax (639836529.py, line 4)",
     "output_type": "error",
     "traceback": [
      "\u001b[1;36m  Cell \u001b[1;32mIn[9], line 4\u001b[1;36m\u001b[0m\n\u001b[1;33m    lambda x: assert x in list(range(1,11))\u001b[0m\n\u001b[1;37m              ^\u001b[0m\n\u001b[1;31mSyntaxError\u001b[0m\u001b[1;31m:\u001b[0m invalid syntax\n"
     ]
    }
   ],
   "source": [
    "# przykład 5\n",
    "# w funkcjach anonimowych nie możemy wykorzystać żadnych wyrażeń typu return, pass, assert, \n",
    "# raise, pętli oraz wskazówek typów i jeżeli to zrobimy to zgłoszony zostanie wyjątek SyntaxError\n",
    "lambda x: assert x in list(range(1,11))"
   ]
  },
  {
   "cell_type": "code",
   "execution_count": 10,
   "id": "f26326aa-dffa-458c-bed0-ed83567b934e",
   "metadata": {},
   "outputs": [
    {
     "data": {
      "text/plain": [
       "['34', '182', '44']"
      ]
     },
     "execution_count": 10,
     "metadata": {},
     "output_type": "execute_result"
    }
   ],
   "source": [
    "# przykład 6\n",
    "# kolejnym powszechnym przykładem wykorzystania funkcji anonimowej jest połączenie\n",
    "# jej z wbudowaną funkcją filter(), która pozwala przekazać funkcję filtrującą oraz obiekt\n",
    "# iterowalny, do którego elementów filtr zostanie przyłożony, a następnie zwraca iterator\n",
    "data = 'Marek ma 34 lata i 182 cm wzrostu o numerze buta 44 .'.split()\n",
    "\n",
    "list(filter(lambda x: x.isdigit(), data))\n",
    "\n",
    "# tutaj można się chwilę zatrzymać, aby zrozumieć jak ta lambda działa\n",
    "# w każdym jej wywołaniu przekazywany jest element ze zbioru data do zmiennej x\n",
    "# jeżeli x.isdigit() to True w przeciwnym wypadku False\n",
    "# filter mapuje wartości False i True na data i zwraca tylko te gdzie dla danego indeksu jest True"
   ]
  },
  {
   "cell_type": "code",
   "execution_count": 14,
   "id": "6fdf10f8-ab64-4a41-874d-71fc52e5ee5a",
   "metadata": {},
   "outputs": [
    {
     "data": {
      "text/plain": [
       "'3418244'"
      ]
     },
     "execution_count": 14,
     "metadata": {},
     "output_type": "execute_result"
    }
   ],
   "source": [
    "# przykład 7\n",
    "# również funkcja reduce jest dość często wykorzystywana w połączeniu z lambdami\n",
    "# obecnie znajduje się w module functools\n",
    "# https://docs.python.org/3/library/functools.html#functools.reduce\n",
    "from functools import reduce\n",
    "\n",
    "# poniższy przykład działa jako konkatenacja odnalezionych cyfr\n",
    "reduce(lambda x, y: x + y, filter(lambda x: x.isdigit(), data))"
   ]
  },
  {
   "cell_type": "code",
   "execution_count": 177,
   "id": "fe1ac1bc-c9f3-4319-b8ad-47429a85abb0",
   "metadata": {},
   "outputs": [
    {
     "name": "stdout",
     "output_type": "stream",
     "text": [
      "260\n"
     ]
    },
    {
     "data": {
      "text/plain": [
       "260"
      ]
     },
     "execution_count": 177,
     "metadata": {},
     "output_type": "execute_result"
    }
   ],
   "source": [
    "# przykład 8\n",
    "# teraz chcemy te wszystkie liczby zsumować, dorzucamy map i rzutowanie na typ int\n",
    "\n",
    "print(reduce(lambda x, y: x + y, map(int, filter(lambda x: x.isdigit(), data))))\n",
    "\n",
    "# wszystko w Pythonie jest obiektem, również mamy operatory w postaci stosownych obiektów funkcji\n",
    "from operator import add\n",
    "\n",
    "# efekt ten sam jak powyżej\n",
    "reduce(add, map(int, filter(lambda x: x.isdigit(), data)))"
   ]
  },
  {
   "cell_type": "code",
   "execution_count": 51,
   "id": "f5517862-95aa-4d13-b8e3-9f5349c66287",
   "metadata": {},
   "outputs": [
    {
     "name": "stdout",
     "output_type": "stream",
     "text": [
      "5\n"
     ]
    },
    {
     "data": {
      "text/plain": [
       "5"
      ]
     },
     "execution_count": 51,
     "metadata": {},
     "output_type": "execute_result"
    }
   ],
   "source": [
    "# przykład 9\n",
    "# patrząc tylko na ten przykład z dwoma elementami, które przetwarza reduce\n",
    "# można nie zauważyć, że jej wykonanie odbywa się w sposób skumulowany, co oznacza,\n",
    "# że po każdym jej wykonaniu zwracany jest rezultat, i kolejny krok wykonywany jest\n",
    "# na tym zwróconym rezultacie i elemencie kolejnym, jeżeli występuje\n",
    "\n",
    "nums = [1, 1, 1, 1, 1]\n",
    "\n",
    "print(reduce(add, nums))\n",
    "\n",
    "# co jest równoważne z\n",
    "result = 0\n",
    "for elem in nums:\n",
    "    result = result + elem\n",
    "result"
   ]
  },
  {
   "cell_type": "code",
   "execution_count": 12,
   "id": "d510ee37-ca62-4028-8059-596a0cb29cb6",
   "metadata": {},
   "outputs": [
    {
     "name": "stdout",
     "output_type": "stream",
     "text": [
      "<class 'function'>\n",
      "4 125\n"
     ]
    },
    {
     "data": {
      "text/plain": [
       "(4, 125)"
      ]
     },
     "execution_count": 12,
     "metadata": {},
     "output_type": "execute_result"
    }
   ],
   "source": [
    "# przykład 10\n",
    "# wykorzystanie lambdy w innej funkcji\n",
    "# wywołanie samej funkcji zwróci obiekt typu lambda function, ale jeżeli\n",
    "# zadeklarujemy ją jako wywołanie tej funkcji z określonym argumentem,\n",
    "# do stworzymy sobie możliwość wywoływania jej w sposób jednolity dla różnych argumentów\n",
    "\n",
    "def power(n):\n",
    "  return lambda a : a ** n\n",
    "\n",
    "print(type(power))\n",
    "# n = 2\n",
    "square = power(2)\n",
    "# n = 3\n",
    "cube = power(3)\n",
    "\n",
    "print(square(2), cube(5))\n",
    "\n",
    "# rozpisując to bardziej obrazowo, wywołujemy to co powyżej tak jakbyśmy robili to tak\n",
    "# jak poniżej\n",
    "# n=2, a=2 oraz n=3, a=5\n",
    "power(2)(2), power(3)(5)"
   ]
  },
  {
   "cell_type": "code",
   "execution_count": 42,
   "id": "e3efa920-8264-46e2-8315-e5800c995d23",
   "metadata": {},
   "outputs": [
    {
     "name": "stdout",
     "output_type": "stream",
     "text": [
      "['Abracadbra', 'czary', 'i', 'magia.', 'to']\n",
      "['Abracadbra', 'magia.', 'czary', 'to', 'i']\n",
      "['Abracadbra', 'magia.', 'czary', 'to', 'i']\n",
      "['i', 'magia.', 'Abracadbra', 'to', 'czary']\n"
     ]
    }
   ],
   "source": [
    "# przykład 11\n",
    "# funkcje anonimowe możemy ogólnie wykorzystać wszędzie tam, gdzie funkcję możemy przekazać jako argument\n",
    "# np. w funkcji sorted, która służy do sortowania różnych obiektów iterowalnych\n",
    "\n",
    "data = 'Abracadbra to czary i magia.'\n",
    "\n",
    "# załóżmy, że chcemy to podzielić na wyrazy i posortować od nadłuższych do najkrótszych\n",
    "\n",
    "# domyślne sortowanie dla łańcuchów znaków to sortowanie alfabetyczne\n",
    "print(sorted(data.split()))\n",
    "\n",
    "# https://docs.python.org/3/library/functions.html#sorted\n",
    "# sorted przyjmuje jednak argument key, który może być funkcją, której użyjemy do wygenerowania wartości,\n",
    "# wg. których to sortowanie się wykona\n",
    "# ten przypadek sortowania po długości nie wymaga co prawda lambdy, ale zostanie również przedstawiony\n",
    "# domyślny kierunek sortowania to rosnący (widać to dla sortowania alfabetycznego), więc go odwracamy\n",
    "print(sorted(data.split(), key=lambda x: len(x), reverse=True))\n",
    "\n",
    "# równie dobrze możemy lambdę pominąć\n",
    "print(sorted(data.split(), key=len, reverse=True))\n",
    "\n",
    "# ale gdybyśmy chcieli teraz posortować wyrazy w porządku malejącym, w zależności od tego ile liter 'i' zawierają?\n",
    "print(sorted(data.split(), key=lambda x: x.count('i'), reverse=True))"
   ]
  },
  {
   "cell_type": "code",
   "execution_count": 17,
   "id": "3107ed17-8d08-4f35-af01-2cbf523f5298",
   "metadata": {},
   "outputs": [
    {
     "data": {
      "text/plain": [
       "[0, 1, 1]"
      ]
     },
     "execution_count": 17,
     "metadata": {},
     "output_type": "execute_result"
    }
   ],
   "source": [
    "# przykład 12\n",
    "# tu nieco bardziej rozbudowany przykład z implementacją generowania\n",
    "# listy z elementami ciągu Fibonacciego\n",
    "fib_series = lambda n: reduce(lambda x, _: x + [x[-1] + x[-2]], range(n - 2), [0, 1])\n",
    "fib_series(3)"
   ]
  },
  {
   "cell_type": "code",
   "execution_count": 86,
   "id": "3af9123c-0550-4fb2-8661-087ff63e880d",
   "metadata": {},
   "outputs": [
    {
     "name": "stdout",
     "output_type": "stream",
     "text": [
      "[0, 1, 1]\n",
      "[0, 1, 1, 2]\n"
     ]
    }
   ],
   "source": [
    "# jej zrozumienie wymaga nieco dłuższej analizy\n",
    "# popatrzmy najpierw na tę wewnętrzną lambdę\n",
    "in_lam = lambda x, _: x + [x[-1] + x[-2]]\n",
    "\n",
    "\n",
    "# poniższe wywołanie przypisze więc zmiennej x -> [0,1], a zmiennej _ -> 'cokolwiek'\n",
    "in_lam([0,1], 'cokolwiek')\n",
    "# czyli do [0, 1] doda sumę dwóch ostatnich elementów w postaci listy\n",
    "# mamy więc [0, 1] + [1] -> [0, 1, 1] i zostanie to zwrócone\n",
    "\n",
    "# dodając więc reduce i range(n - 2) osiągamy rekurencję\n",
    "# wywołanie fib_series(3) ustawia zmienną n=3, ale w range mamy n - 2,\n",
    "# co daje nam 1, więc mamy range(1), co zwróci tylko 0, a właściwie to\n",
    "# chodzi o to, że lambda wykona się tylko jeden raz\n",
    "# n = 3\n",
    "print(reduce(lambda x, _: x + [x[-1] + x[-2]], range(3 - 2), [0, 1]))\n",
    "\n",
    "# n = 4\n",
    "print(reduce(lambda x, _: x + [x[-1] + x[-2]], range(4 - 2), [0, 1]))\n",
    "\n",
    "# i teraz już wszystko jasne ;-)"
   ]
  },
  {
   "cell_type": "markdown",
   "id": "af7d70cd-613e-4413-8bbc-b73b0cb39814",
   "metadata": {},
   "source": [
    "Mimo, że funkcje lambda wydają się przydatne w niektórych przypadkach to nie należy ich nadużywać, z powodu mniejszej czytelności (zazwyczaj), zwłaszcza jeżeli są nieco bardziej złożone oraz nierzadko mniejszej wydajności (np. funkcja `sum` zazwyczaj zadziała szybciej od analogicznej lambdy). W dokumencie z oficjalnej dokumentacji Pythona dostępnym pod adresem https://docs.python.org/3/howto/functional.html znajdziemy opinię `Fredrika Lundh'a`, który wyraził ją w słowach:\n",
    "\n",
    "> Write a lambda function.  \n",
    "> Write a comment explaining what the heck that lambda does.  \n",
    "> Study the comment for a while, and think of a name that captures the essence of the comment.  \n",
    "> Convert the lambda to a def statement, using that name.  \n",
    "> Remove the comment.  \n",
    "\n",
    "Można się z nimi zgadzać lub nie, ale warto o nich pamiętać jeżeli napisanie funkcji anonimowej, która nam właśnie przyszła do głowy trwa zbyt długo ze względu na jej stopień skomplikowania."
   ]
  },
  {
   "cell_type": "markdown",
   "id": "7eb0177a-2419-4a8a-8814-64604c17b59d",
   "metadata": {},
   "source": [
    "## 2. Moduł itertools"
   ]
  },
  {
   "cell_type": "markdown",
   "id": "99570d1a-2d01-4a7f-94a6-10f9f98f3960",
   "metadata": {},
   "source": [
    "Moduł `itertools` dostarcza narzędzi w postaci iteratorów, które mogą służyć do budowy bardziej wyrafinowych programów z wykorzystaniem np. kombinatoryki, kolejek obustronnie połączonych i innych. Pełna lista wraz z opisem i przykładami znajduje się w dokumentacji pod adresem:\n",
    "* https://docs.python.org/3/library/itertools.html\n",
    "\n",
    "Poniżej zostaną zaprezentowane przykłady z wykorzystaniem niektórych z nich."
   ]
  },
  {
   "cell_type": "code",
   "execution_count": 18,
   "id": "579e5174-b759-421a-8888-02cc4bee666d",
   "metadata": {},
   "outputs": [],
   "source": [
    "import itertools"
   ]
  },
  {
   "cell_type": "markdown",
   "id": "cba054c2-f81b-4596-a4da-dc4cc8f699a4",
   "metadata": {},
   "source": [
    "**Iteratory nieskończone**\n",
    "\n",
    "Są to iteratory, które po inicjalizacji mogą generować wartości w nieskończoność. Są to `count()`, `cycle()` oraz `repeat()`."
   ]
  },
  {
   "cell_type": "code",
   "execution_count": 19,
   "id": "2feba88c-40a8-4c95-a853-fa1911d3e3fd",
   "metadata": {},
   "outputs": [
    {
     "name": "stdout",
     "output_type": "stream",
     "text": [
      "2\n",
      "3\n",
      "4\n",
      "5\n",
      "T - 10\n",
      "T - 9\n",
      "T - 8\n",
      "T - 7\n",
      "T - 6\n",
      "T - 5\n",
      "T - 4\n",
      "T - 3\n",
      "T - 2\n",
      "T - 1\n",
      "T - 0\n",
      "Time is up!\n"
     ]
    }
   ],
   "source": [
    "# count([start, [step]])\n",
    "import time\n",
    "\n",
    "# przykład 1\n",
    "inf_count = itertools.count(2)\n",
    "print(next(inf_count))\n",
    "print(next(inf_count))\n",
    "print(next(inf_count))\n",
    "# ekwiwalent\n",
    "print(inf_count.__next__())\n",
    "# ...\n",
    "\n",
    "# przykład 2\n",
    "countdown = 10\n",
    "\n",
    "for num in itertools.count(countdown, -1):\n",
    "    if num >= 0:\n",
    "        print(f\"T - {num}\")\n",
    "        time.sleep(1)\n",
    "    else:\n",
    "        print('Time is up!')\n",
    "        break"
   ]
  },
  {
   "cell_type": "code",
   "execution_count": 121,
   "id": "af33270b-78b7-414c-9c08-816d95020f5c",
   "metadata": {},
   "outputs": [
    {
     "name": "stdout",
     "output_type": "stream",
     "text": [
      "Pierwszy dzień tygodnia to poniedziałek\n",
      "Drugi dzień tygodnia to wtorek\n"
     ]
    }
   ],
   "source": [
    "# cycle(p)\n",
    "\n",
    "dni_tygodnia = ['poniedziałek', 'wtorek', 'środa', 'czwartek', 'piątek', 'sobota', 'niedziela']\n",
    "\n",
    "day_cycle = itertools.cycle(dni_tygodnia)\n",
    "\n",
    "print(f'Pierwszy dzień tygodnia to {next(day_cycle)}')\n",
    "\n",
    "print(f'Drugi dzień tygodnia to {next(day_cycle)}')"
   ]
  },
  {
   "cell_type": "code",
   "execution_count": 20,
   "id": "04a40b9c-0e90-4488-ac69-b4fd15723b96",
   "metadata": {},
   "outputs": [
    {
     "name": "stdout",
     "output_type": "stream",
     "text": [
      "Nie będę więcej rozwiązywał zadań z użyciem ChatGPT ...\n",
      "Nie będę więcej rozwiązywał zadań z użyciem ChatGPT ...\n",
      "Nie będę więcej rozwiązywał zadań z użyciem ChatGPT ...\n",
      "Nie będę więcej rozwiązywał zadań z użyciem ChatGPT ...\n",
      "Nie będę więcej rozwiązywał zadań z użyciem ChatGPT ...\n",
      "Nie będę więcej rozwiązywał zadań z użyciem ChatGPT ...\n",
      "Nie będę więcej rozwiązywał zadań z użyciem ChatGPT ...\n",
      "Nie będę więcej rozwiązywał zadań z użyciem ChatGPT ...\n",
      "Nie będę więcej rozwiązywał zadań z użyciem ChatGPT ...\n",
      "Nie będę więcej rozwiązywał zadań z użyciem ChatGPT ...\n"
     ]
    }
   ],
   "source": [
    "# repeat(p, [n])\n",
    "\n",
    "# uwaga z uruchamianiem nieskończonych iteratorów, zwłaszcza w Jupyter Notebook - może skutecznie\n",
    "# zawiesić przeglądarkę\n",
    "# jeżeli nie zdefinioujemy argumentu n (tu 10) to powtarzanie odbywa się w nieskończoność\n",
    "dziesiec = itertools.repeat('Nie będę więcej rozwiązywał zadań z użyciem ChatGPT ...', 10)\n",
    "\n",
    "for statement in dziesiec:\n",
    "    print(statement)"
   ]
  },
  {
   "cell_type": "markdown",
   "id": "78512d4f-b731-42fa-bdac-332019bf83d0",
   "metadata": {},
   "source": [
    "**Iteratory, które kończą swoje działanie dla najkrótszej przekazanej sekwencji**\n",
    "\n",
    "Pełna lista w dokumentacji, tutaj przykłady dla wybranych z nich."
   ]
  },
  {
   "cell_type": "code",
   "execution_count": 120,
   "id": "b29ace63-8450-49fa-8211-3ddfa37346dc",
   "metadata": {},
   "outputs": [
    {
     "name": "stdout",
     "output_type": "stream",
     "text": [
      "[1, 3, 6, 10, 15]\n",
      "['A', 'AB', 'ABC']\n",
      "[1, 3, 15, 105]\n"
     ]
    }
   ],
   "source": [
    "# accumulate(p, [func])\n",
    "# wykonuje dodawanie akumulacyjne elementów (domyślnie), ale może przyjąć również\n",
    "# opcjonalny argument w postaci funkcji\n",
    "from operator import mul\n",
    "\n",
    "print(list(itertools.accumulate(range(1, 6))))\n",
    "\n",
    "print(list(itertools.accumulate(['A', 'B', 'C'])))\n",
    "\n",
    "print(list(itertools.accumulate([1, 3, 5, 7], mul)))"
   ]
  },
  {
   "cell_type": "code",
   "execution_count": 127,
   "id": "9fc5200e-285a-4eaf-b2ca-6ddaf953abf7",
   "metadata": {},
   "outputs": [
    {
     "name": "stdout",
     "output_type": "stream",
     "text": [
      "(1, 2, 3)\n",
      "(4, 5, 6)\n",
      "(7, 8, 9)\n",
      "(10, 11, 12)\n",
      "('A', 'b', 'r')\n",
      "('a', 'c', 'a')\n",
      "('d', 'a', 'b')\n",
      "('r', 'a', ' ')\n",
      "('t', 'o', ' ')\n",
      "('c', 'z', 'a')\n",
      "('r', 'y', ' ')\n",
      "('i', ' ', 'm')\n",
      "('a', 'g', 'i')\n",
      "('a',)\n"
     ]
    }
   ],
   "source": [
    "# batched(p, n)\n",
    "# tnie podaną sekwencję na sekwencje o długości n\n",
    "\n",
    "nums = list(range(1, 13))\n",
    "\n",
    "for batch in itertools.batched(nums, 3):\n",
    "    print(batch)\n",
    "\n",
    "for batch in itertools.batched('Abracadabra to czary i magia', 3):\n",
    "    print(batch)"
   ]
  },
  {
   "cell_type": "code",
   "execution_count": 184,
   "id": "615a4113-d9f0-4f0e-b294-1ae15891ba5f",
   "metadata": {},
   "outputs": [
    {
     "data": {
      "text/plain": [
       "[6, 15, 24, 33]"
      ]
     },
     "execution_count": 184,
     "metadata": {},
     "output_type": "execute_result"
    }
   ],
   "source": [
    "# starmap(func, seq)\n",
    "# jest to dość przydatna funkcja, która pozwala na przekazanie innej funkcji do\n",
    "# wywołania oraz krotek argumentów dla każdego kolejnego wywołania\n",
    "# argumenty są wypakowywane do wywołania funkcji za pomocą symbolu * (rozpakowanie sekwencji)\n",
    "\n",
    "# tu można zobaczyc implementację, aby lepiej to zrozumieć\n",
    "# https://docs.python.org/3/library/itertools.html#itertools.starmap\n",
    "\n",
    "nums = list(range(1, 13))\n",
    "# paczki po 3 liczby\n",
    "paczki = itertools.batched(nums, 3)\n",
    "\n",
    "def sumuj(*liczby):\n",
    "    return sum(liczby)\n",
    "\n",
    "# sumujemy po 3 kolejne liczby\n",
    "# print(list(paczki))\n",
    "list(itertools.starmap(sumuj, paczki))\n",
    "# sumuj *(1, 2, 3) -> sumuj(1, 2, 3)\n",
    "# kwargs = {'x': 1, 'y': 2}\n",
    "# załóżmy, że sumuj to sumuj(x=0, y=0)\n",
    "# starmap(sumuj, kwargs) -> **kwargs - > sumuj(x=1, y=1)"
   ]
  },
  {
   "cell_type": "code",
   "execution_count": 157,
   "id": "f7b31a39-13de-47b6-9ea0-fbe855529f58",
   "metadata": {},
   "outputs": [
    {
     "name": "stdout",
     "output_type": "stream",
     "text": [
      "[('A', 1), ('B', 2), ('C', 3), ('D', None), ('E', None), ('F', None)]\n",
      "[('A', 1), ('B', 2), ('C', 3), ('D', '-'), ('E', '-'), ('F', '-')]\n",
      "[('A', 1), ('B', 2), ('C', 3), ('D', 0), ('E', 0), ('F', 0)]\n"
     ]
    }
   ],
   "source": [
    "# zip_longest(p, q, ..., fillvalue)\n",
    "# podobna do działania wbudowanej funkcji zip, ale działa dla sekwencji o różnej\n",
    "# długości\n",
    "\n",
    "print(list(itertools.zip_longest('ABCDEF', [1,2,3])))\n",
    "print(list(itertools.zip_longest('ABCDEF', [1,2,3], fillvalue='-')))\n",
    "print(list(itertools.zip_longest('ABCDEF', [1,2,3], fillvalue=0)))"
   ]
  },
  {
   "cell_type": "code",
   "execution_count": 23,
   "id": "f525a69a-100f-43f6-a1be-a8f9b9de9006",
   "metadata": {},
   "outputs": [
    {
     "data": {
      "text/plain": [
       "[('A', 0), ('B', 1)]"
      ]
     },
     "execution_count": 23,
     "metadata": {},
     "output_type": "execute_result"
    }
   ],
   "source": [
    "list(zip('ABC', range(2)))"
   ]
  },
  {
   "cell_type": "markdown",
   "id": "f355f5b4-e330-405b-994e-c644b70bf990",
   "metadata": {},
   "source": [
    "**Iteratory związane z kombinatoryką**"
   ]
  },
  {
   "cell_type": "code",
   "execution_count": 187,
   "id": "d17e836b-3dab-4718-b58d-97462c13932a",
   "metadata": {},
   "outputs": [
    {
     "name": "stdout",
     "output_type": "stream",
     "text": [
      "[(1,), (2,), (3,)]\n",
      "[(1, 1), (1, 2), (1, 3), (2, 1), (2, 2), (2, 3), (3, 1), (3, 2), (3, 3)]\n",
      "[(1, 1), (1, 2), (1, 3), (2, 1), (2, 2), (2, 3), (3, 1), (3, 2), (3, 3)]\n",
      "[('!', '!'), ('!', '@'), ('!', '#'), ('!', '$'), ('@', '!'), ('@', '@'), ('@', '#'), ('@', '$'), ('#', '!'), ('#', '@'), ('#', '#'), ('#', '$'), ('$', '!'), ('$', '@'), ('$', '#'), ('$', '$')]\n"
     ]
    }
   ],
   "source": [
    "# product(p, q, ..., [repeat=1])\n",
    "# zwraca iloczyn kartezjański elementów, tak jakbyśmy dla każdej sekwencji\n",
    "# tworzyli kolejną zagnieżdżoną pętle for\n",
    "\n",
    "print(list(itertools.product([1,2,3])))\n",
    "print(list(itertools.product([1,2,3], repeat=2)))\n",
    "print(list(itertools.product([1,2,3],[1,2,3])))\n",
    "\n",
    "print(list(itertools.product('!@#$', repeat=2)))"
   ]
  },
  {
   "cell_type": "code",
   "execution_count": 190,
   "id": "67b26574-e748-441d-8f18-e9f7f625feae",
   "metadata": {},
   "outputs": [
    {
     "name": "stdout",
     "output_type": "stream",
     "text": [
      "[('A', 'B', 'C'), ('A', 'C', 'B'), ('B', 'A', 'C'), ('B', 'C', 'A'), ('C', 'A', 'B'), ('C', 'B', 'A')]\n",
      "[('A', 'B'), ('A', 'C'), ('B', 'A'), ('B', 'C'), ('C', 'A'), ('C', 'B')]\n"
     ]
    }
   ],
   "source": [
    "# permutations(p[,r])\n",
    "# zwraca permutacje długości r (krotki), w każdym możliwym porządku bez powtarzania elementów\n",
    "\n",
    "print(list(itertools.permutations('ABC')))\n",
    "print(list(itertools.permutations('ABC', 2)))"
   ]
  },
  {
   "cell_type": "code",
   "execution_count": 191,
   "id": "ea43b1ec-131c-4308-975e-8a9b543cfbaf",
   "metadata": {},
   "outputs": [
    {
     "name": "stdout",
     "output_type": "stream",
     "text": [
      "[('A', 'B'), ('A', 'C'), ('B', 'C')]\n"
     ]
    },
    {
     "data": {
      "text/plain": [
       "[(3, 4), (3, 5), (3, 6), (4, 5), (4, 6), (5, 6)]"
      ]
     },
     "execution_count": 191,
     "metadata": {},
     "output_type": "execute_result"
    }
   ],
   "source": [
    "# combinations(p, r)\n",
    "# zwraca krotki długości r, w porządku posortowanym bez powtórzeń elementów\n",
    "\n",
    "print(list(itertools.combinations('ABC', 2)))\n",
    "list(itertools.combinations([3, 4, 5, 6], 2))"
   ]
  },
  {
   "cell_type": "code",
   "execution_count": 192,
   "id": "58d75ee0-cddc-4a80-90ba-66ccb6686620",
   "metadata": {},
   "outputs": [
    {
     "name": "stdout",
     "output_type": "stream",
     "text": [
      "[('A', 'A'), ('A', 'B'), ('A', 'C'), ('B', 'B'), ('B', 'C'), ('C', 'C')]\n"
     ]
    },
    {
     "data": {
      "text/plain": [
       "[(3, 3),\n",
       " (3, 4),\n",
       " (3, 5),\n",
       " (3, 6),\n",
       " (4, 4),\n",
       " (4, 5),\n",
       " (4, 6),\n",
       " (5, 5),\n",
       " (5, 6),\n",
       " (6, 6)]"
      ]
     },
     "execution_count": 192,
     "metadata": {},
     "output_type": "execute_result"
    }
   ],
   "source": [
    "# combinations_with_replacement(p, r)\n",
    "# to co wyżej ale kombinacje z powtórzeniami\n",
    "\n",
    "print(list(itertools.combinations_with_replacement('ABC', 2)))\n",
    "list(itertools.combinations_with_replacement([3, 4, 5, 6], 2))"
   ]
  },
  {
   "cell_type": "markdown",
   "id": "81e42755-7b16-42f0-8dd6-8ad3e4bee034",
   "metadata": {},
   "source": [
    "## Zadania\n",
    "\n",
    "1. Wykorzystując funkcję `reduce` napisz funkcję anonimową, która będzie zliczała ilość samogłosek w podanym jej jako argument tekście. Dla testów możesz przypisać tę lambdę do zmiennej.\n",
    "\n",
    "2. Wykorzystując funkcję `sorted` oraz lambdę posortuj poniższe krotki po wartości punktowej (należy wyciągnąć ilość punktów z tego tekstu ('13 pkt' -> 13) w każdej z nich.\n",
    "\n",
    "```python\n",
    "[('Adam', 'Nowak', '13 pkt'), ('Anna','Górka', '15 pkt'), ('Wojtek', 'Bonk', '8 pkt')]\n",
    "```\n",
    "\n",
    "3. Wykorzystując lambdę, funkcję `reduce` oraz operator `mul` z modułu `operators` oblicz iloczyn pierwszych 10 liczb ciągu Fibonacciego (możesz wykorzystać jego generowanie z przykładu w labie) zkładając, że pierwszy element to 1.\n",
    "\n",
    "4. Napisz funkcję, która wykorzysta wbudowaną funkcję `itertools.cycle` do zwracania dnia tygodnia za `n` dni przyjmując, że lista dni jest zdefiniowana wewnątrz tej funkcji, a jako argument przekazujemy aktualny dzień tygodnia, od którego to odliczanie się zacznie oraz liczbę dni do przodu, którego nazwę ma zwrócić.\n",
    "Np. jaki_dzien('wtorek', 3) zwróci wartość 'piątek'.\n",
    "\n",
    "5. Wykorzystaj funkcję `itertools.permutations` dla ciągu 'ABCD' i r=2, a następnie utwórz funkcję lambda, która zwróci te wartości nie w postaci krotek, ale łańcuchów znaków, np. zamiast ('A','C','B') będzie 'ACB'.\n",
    "\n",
    "6. Wykorzystując funkjce z modułu itertools związane z kombinatoryką rozwiąż poniższe zadanie. Masz do dyspozycji 4 banknoty po 20 zł, 3 banknoty po 10 zł, dwa banknoty po 50 zł oraz dwie monety po 5 zł. Ile jest możliwych kombinacji rozmienienia banknotu 100 zł?\n",
    "\n",
    "7. Wykorzystaj funkcję `starmap` do wywołania funkcji wbudowanej `format()` i przygotuj listę argumentów [wartośc, format]. Wypisz wynik jej działania."
   ]
  }
 ],
 "metadata": {
  "kernelspec": {
   "display_name": "Python 3 (ipykernel)",
   "language": "python",
   "name": "python3"
  },
  "language_info": {
   "codemirror_mode": {
    "name": "ipython",
    "version": 3
   },
   "file_extension": ".py",
   "mimetype": "text/x-python",
   "name": "python",
   "nbconvert_exporter": "python",
   "pygments_lexer": "ipython3",
   "version": "3.13.2"
  }
 },
 "nbformat": 4,
 "nbformat_minor": 5
}
